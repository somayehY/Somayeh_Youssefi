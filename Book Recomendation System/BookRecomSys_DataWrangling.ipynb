{
 "cells": [
  {
   "cell_type": "markdown",
   "id": "3a9de8bc",
   "metadata": {},
   "source": [
    "# __Book Recommendation System for Children__\n",
    "\n",
    "## Table of Content\n",
    "\n",
    "* [1. Background](#background)\n",
    "* [2. Import](#import)\n",
    "* [3. Open data files](#open)\n",
    "* [4. Data type and missing data ](#missing)\n",
    "* [5. Convert data type](#type)\n",
    "* [6. Language](#lang)\n",
    "* [7. Fix missing titles](#title)\n",
    "* [8. Check for duplicates](#duplicate)\n",
    "* [9. Distribution of rating counts of the books](#rating_count)\n",
    "* [10. Distribution of reviews count ](#review_count)\n",
    "* [11. Book description](#description)\n",
    "* [12. What percentages are also available as ebook?](#ebook)\n",
    "* [13. Distribution of number of pages](#num)\n",
    "* [14. Distribution of books published annually](#year)\n",
    "* [15. List of 10 publishers with highest number of published books](#publisher)\n",
    "* [16. Distribution of average rating](#average_rating)\n",
    "* [17. What columns and rows should we drop? ](#drop)\n",
    "* [18. Authors](#authors)\n",
    "* [19. Genres](#genres)\n",
    "* [20. Book reviews](#reviews)\n",
    "    * [20.1. What do we need from reviews?](#separate)\n",
    "* [21. Merge files](#merge)\n",
    "* [22. Summary](#summary)\n"
   ]
  },
  {
   "cell_type": "markdown",
   "id": "632bc202",
   "metadata": {},
   "source": [
    "## 1. Background   <a class='anchor' id='background'><a/>\n",
    "\n",
    "Studies show that parents and caregivers play an important role in  development and educational performance of their children. Parental reading to  children improves the child’s cognitive skills. This is an early-life intervention that children can benefit from for the rest of their lives.  Therefore, having a recommendation system with focus on children is important.\n",
    "\n",
    "This norebook focus on doing this. The data can be found [here](https://sites.google.com/eng.ucsd.edu/ucsdbookgraph/home)\n"
   ]
  },
  {
   "cell_type": "markdown",
   "id": "3a773697",
   "metadata": {},
   "source": [
    "## 2. Imports <a class='anchor' id='import'><a/>"
   ]
  },
  {
   "cell_type": "code",
   "execution_count": 1,
   "id": "cd267bff",
   "metadata": {},
   "outputs": [],
   "source": [
    "import gzip\n",
    "import json\n",
    "import re\n",
    "import os\n",
    "import sys\n",
    "\n",
    "import warnings\n",
    "warnings.filterwarnings('ignore')\n",
    "\n",
    "import numpy as np\n",
    "import pandas as pd\n",
    "pd.options.display.float_format = '{:,}'.format\n",
    "\n",
    "import matplotlib.pyplot as plt\n",
    "import seaborn as sns\n",
    "\n",
    "from langdetect import detect\n",
    "from langdetect import DetectorFactory\n",
    "DetectorFactory.seed = 0"
   ]
  },
  {
   "cell_type": "markdown",
   "id": "24f81ea7",
   "metadata": {},
   "source": [
    "## 3. Open data files <a class='anchor' id='open'>\n",
    "    \n",
    "There are four files available from the good reads. Data can be found [here.](https://sites.google.com/eng.ucsd.edu/ucsdbookgraph/home) \n",
    "\n",
    "There are:\n",
    "    \n",
    "    1. Books\n",
    "    \n",
    "    2. Reviews\n",
    "    \n",
    "    3. Genres\n",
    "    \n",
    "    4. Authors\n",
    " \n",
    "We start by Books.\n",
    "  "
   ]
  },
  {
   "cell_type": "code",
   "execution_count": 2,
   "id": "b12a559c",
   "metadata": {},
   "outputs": [],
   "source": [
    "DIR = 'C:\\\\Users\\\\somfl\\\\Documents\\\\GitHub\\\\Somayeh_Youssefi\\\\Book Recomendation System\\\\data_files'"
   ]
  },
  {
   "cell_type": "code",
   "execution_count": 3,
   "id": "b746c441",
   "metadata": {},
   "outputs": [
    {
     "data": {
      "text/html": [
       "<div>\n",
       "<style scoped>\n",
       "    .dataframe tbody tr th:only-of-type {\n",
       "        vertical-align: middle;\n",
       "    }\n",
       "\n",
       "    .dataframe tbody tr th {\n",
       "        vertical-align: top;\n",
       "    }\n",
       "\n",
       "    .dataframe thead th {\n",
       "        text-align: right;\n",
       "    }\n",
       "</style>\n",
       "<table border=\"1\" class=\"dataframe\">\n",
       "  <thead>\n",
       "    <tr style=\"text-align: right;\">\n",
       "      <th></th>\n",
       "      <th>0</th>\n",
       "      <th>1</th>\n",
       "      <th>2</th>\n",
       "    </tr>\n",
       "  </thead>\n",
       "  <tbody>\n",
       "    <tr>\n",
       "      <th>isbn</th>\n",
       "      <td>1599150603</td>\n",
       "      <td>1934876569</td>\n",
       "      <td>0590417010</td>\n",
       "    </tr>\n",
       "    <tr>\n",
       "      <th>text_reviews_count</th>\n",
       "      <td>7</td>\n",
       "      <td>6</td>\n",
       "      <td>193</td>\n",
       "    </tr>\n",
       "    <tr>\n",
       "      <th>series</th>\n",
       "      <td>[]</td>\n",
       "      <td>[151854]</td>\n",
       "      <td>[]</td>\n",
       "    </tr>\n",
       "    <tr>\n",
       "      <th>country_code</th>\n",
       "      <td>US</td>\n",
       "      <td>US</td>\n",
       "      <td>US</td>\n",
       "    </tr>\n",
       "    <tr>\n",
       "      <th>language_code</th>\n",
       "      <td></td>\n",
       "      <td></td>\n",
       "      <td>eng</td>\n",
       "    </tr>\n",
       "    <tr>\n",
       "      <th>popular_shelves</th>\n",
       "      <td>[{'count': '56', 'name': 'to-read'}, {'count':...</td>\n",
       "      <td>[{'count': '515', 'name': 'to-read'}, {'count'...</td>\n",
       "      <td>[{'count': '450', 'name': 'to-read'}, {'count'...</td>\n",
       "    </tr>\n",
       "    <tr>\n",
       "      <th>asin</th>\n",
       "      <td></td>\n",
       "      <td></td>\n",
       "      <td></td>\n",
       "    </tr>\n",
       "    <tr>\n",
       "      <th>is_ebook</th>\n",
       "      <td>false</td>\n",
       "      <td>false</td>\n",
       "      <td>false</td>\n",
       "    </tr>\n",
       "    <tr>\n",
       "      <th>average_rating</th>\n",
       "      <td>4.13</td>\n",
       "      <td>4.22</td>\n",
       "      <td>4.43</td>\n",
       "    </tr>\n",
       "    <tr>\n",
       "      <th>kindle_asin</th>\n",
       "      <td>B00DU10PUG</td>\n",
       "      <td></td>\n",
       "      <td>B017RORXNI</td>\n",
       "    </tr>\n",
       "    <tr>\n",
       "      <th>similar_books</th>\n",
       "      <td>[]</td>\n",
       "      <td>[948696, 439885, 274955, 12978730, 372986, 216...</td>\n",
       "      <td>[834493, 452189, 140185, 1897316, 2189812, 424...</td>\n",
       "    </tr>\n",
       "    <tr>\n",
       "      <th>description</th>\n",
       "      <td>Relates in vigorous prose the tale of Aeneas, ...</td>\n",
       "      <td>To Kara's astonishment, she discovers that a p...</td>\n",
       "      <td>In Newbery Medalist Cynthia Rylant's classic b...</td>\n",
       "    </tr>\n",
       "    <tr>\n",
       "      <th>format</th>\n",
       "      <td>Paperback</td>\n",
       "      <td>Paperback</td>\n",
       "      <td>Hardcover</td>\n",
       "    </tr>\n",
       "    <tr>\n",
       "      <th>link</th>\n",
       "      <td>https://www.goodreads.com/book/show/287141.The...</td>\n",
       "      <td>https://www.goodreads.com/book/show/6066812-al...</td>\n",
       "      <td>https://www.goodreads.com/book/show/89378.Dog_...</td>\n",
       "    </tr>\n",
       "    <tr>\n",
       "      <th>authors</th>\n",
       "      <td>[{'author_id': '3041852', 'role': ''}]</td>\n",
       "      <td>[{'author_id': '19158', 'role': ''}]</td>\n",
       "      <td>[{'author_id': '5411', 'role': ''}]</td>\n",
       "    </tr>\n",
       "    <tr>\n",
       "      <th>publisher</th>\n",
       "      <td>Yesterday's Classics</td>\n",
       "      <td>Seven Seas</td>\n",
       "      <td>Blue Sky Press</td>\n",
       "    </tr>\n",
       "    <tr>\n",
       "      <th>num_pages</th>\n",
       "      <td>162</td>\n",
       "      <td>216</td>\n",
       "      <td>40</td>\n",
       "    </tr>\n",
       "    <tr>\n",
       "      <th>publication_day</th>\n",
       "      <td>13</td>\n",
       "      <td>3</td>\n",
       "      <td>1</td>\n",
       "    </tr>\n",
       "    <tr>\n",
       "      <th>isbn13</th>\n",
       "      <td>9781599150604</td>\n",
       "      <td>9781934876565</td>\n",
       "      <td>9780590417013</td>\n",
       "    </tr>\n",
       "    <tr>\n",
       "      <th>publication_month</th>\n",
       "      <td>9</td>\n",
       "      <td>3</td>\n",
       "      <td>9</td>\n",
       "    </tr>\n",
       "    <tr>\n",
       "      <th>edition_information</th>\n",
       "      <td></td>\n",
       "      <td></td>\n",
       "      <td></td>\n",
       "    </tr>\n",
       "    <tr>\n",
       "      <th>publication_year</th>\n",
       "      <td>2006</td>\n",
       "      <td>2009</td>\n",
       "      <td>1995</td>\n",
       "    </tr>\n",
       "    <tr>\n",
       "      <th>url</th>\n",
       "      <td>https://www.goodreads.com/book/show/287141.The...</td>\n",
       "      <td>https://www.goodreads.com/book/show/6066812-al...</td>\n",
       "      <td>https://www.goodreads.com/book/show/89378.Dog_...</td>\n",
       "    </tr>\n",
       "    <tr>\n",
       "      <th>image_url</th>\n",
       "      <td>https://s.gr-assets.com/assets/nophoto/book/11...</td>\n",
       "      <td>https://images.gr-assets.com/books/1316637798m...</td>\n",
       "      <td>https://images.gr-assets.com/books/1360057676m...</td>\n",
       "    </tr>\n",
       "    <tr>\n",
       "      <th>book_id</th>\n",
       "      <td>287141</td>\n",
       "      <td>6066812</td>\n",
       "      <td>89378</td>\n",
       "    </tr>\n",
       "    <tr>\n",
       "      <th>ratings_count</th>\n",
       "      <td>46</td>\n",
       "      <td>98</td>\n",
       "      <td>1331</td>\n",
       "    </tr>\n",
       "    <tr>\n",
       "      <th>work_id</th>\n",
       "      <td>278578</td>\n",
       "      <td>701117</td>\n",
       "      <td>86259</td>\n",
       "    </tr>\n",
       "    <tr>\n",
       "      <th>title</th>\n",
       "      <td>The Aeneid for Boys and Girls</td>\n",
       "      <td>All's Fairy in Love and War (Avalon: Web of Ma...</td>\n",
       "      <td>Dog Heaven</td>\n",
       "    </tr>\n",
       "    <tr>\n",
       "      <th>title_without_series</th>\n",
       "      <td>The Aeneid for Boys and Girls</td>\n",
       "      <td>All's Fairy in Love and War (Avalon: Web of Ma...</td>\n",
       "      <td>Dog Heaven</td>\n",
       "    </tr>\n",
       "  </tbody>\n",
       "</table>\n",
       "</div>"
      ],
      "text/plain": [
       "                                                                      0  \\\n",
       "isbn                                                         1599150603   \n",
       "text_reviews_count                                                    7   \n",
       "series                                                               []   \n",
       "country_code                                                         US   \n",
       "language_code                                                             \n",
       "popular_shelves       [{'count': '56', 'name': 'to-read'}, {'count':...   \n",
       "asin                                                                      \n",
       "is_ebook                                                          false   \n",
       "average_rating                                                     4.13   \n",
       "kindle_asin                                                  B00DU10PUG   \n",
       "similar_books                                                        []   \n",
       "description           Relates in vigorous prose the tale of Aeneas, ...   \n",
       "format                                                        Paperback   \n",
       "link                  https://www.goodreads.com/book/show/287141.The...   \n",
       "authors                          [{'author_id': '3041852', 'role': ''}]   \n",
       "publisher                                          Yesterday's Classics   \n",
       "num_pages                                                           162   \n",
       "publication_day                                                      13   \n",
       "isbn13                                                    9781599150604   \n",
       "publication_month                                                     9   \n",
       "edition_information                                                       \n",
       "publication_year                                                   2006   \n",
       "url                   https://www.goodreads.com/book/show/287141.The...   \n",
       "image_url             https://s.gr-assets.com/assets/nophoto/book/11...   \n",
       "book_id                                                          287141   \n",
       "ratings_count                                                        46   \n",
       "work_id                                                          278578   \n",
       "title                                     The Aeneid for Boys and Girls   \n",
       "title_without_series                      The Aeneid for Boys and Girls   \n",
       "\n",
       "                                                                      1  \\\n",
       "isbn                                                         1934876569   \n",
       "text_reviews_count                                                    6   \n",
       "series                                                         [151854]   \n",
       "country_code                                                         US   \n",
       "language_code                                                             \n",
       "popular_shelves       [{'count': '515', 'name': 'to-read'}, {'count'...   \n",
       "asin                                                                      \n",
       "is_ebook                                                          false   \n",
       "average_rating                                                     4.22   \n",
       "kindle_asin                                                               \n",
       "similar_books         [948696, 439885, 274955, 12978730, 372986, 216...   \n",
       "description           To Kara's astonishment, she discovers that a p...   \n",
       "format                                                        Paperback   \n",
       "link                  https://www.goodreads.com/book/show/6066812-al...   \n",
       "authors                            [{'author_id': '19158', 'role': ''}]   \n",
       "publisher                                                    Seven Seas   \n",
       "num_pages                                                           216   \n",
       "publication_day                                                       3   \n",
       "isbn13                                                    9781934876565   \n",
       "publication_month                                                     3   \n",
       "edition_information                                                       \n",
       "publication_year                                                   2009   \n",
       "url                   https://www.goodreads.com/book/show/6066812-al...   \n",
       "image_url             https://images.gr-assets.com/books/1316637798m...   \n",
       "book_id                                                         6066812   \n",
       "ratings_count                                                        98   \n",
       "work_id                                                          701117   \n",
       "title                 All's Fairy in Love and War (Avalon: Web of Ma...   \n",
       "title_without_series  All's Fairy in Love and War (Avalon: Web of Ma...   \n",
       "\n",
       "                                                                      2  \n",
       "isbn                                                         0590417010  \n",
       "text_reviews_count                                                  193  \n",
       "series                                                               []  \n",
       "country_code                                                         US  \n",
       "language_code                                                       eng  \n",
       "popular_shelves       [{'count': '450', 'name': 'to-read'}, {'count'...  \n",
       "asin                                                                     \n",
       "is_ebook                                                          false  \n",
       "average_rating                                                     4.43  \n",
       "kindle_asin                                                  B017RORXNI  \n",
       "similar_books         [834493, 452189, 140185, 1897316, 2189812, 424...  \n",
       "description           In Newbery Medalist Cynthia Rylant's classic b...  \n",
       "format                                                        Hardcover  \n",
       "link                  https://www.goodreads.com/book/show/89378.Dog_...  \n",
       "authors                             [{'author_id': '5411', 'role': ''}]  \n",
       "publisher                                                Blue Sky Press  \n",
       "num_pages                                                            40  \n",
       "publication_day                                                       1  \n",
       "isbn13                                                    9780590417013  \n",
       "publication_month                                                     9  \n",
       "edition_information                                                      \n",
       "publication_year                                                   1995  \n",
       "url                   https://www.goodreads.com/book/show/89378.Dog_...  \n",
       "image_url             https://images.gr-assets.com/books/1360057676m...  \n",
       "book_id                                                           89378  \n",
       "ratings_count                                                      1331  \n",
       "work_id                                                           86259  \n",
       "title                                                        Dog Heaven  \n",
       "title_without_series                                         Dog Heaven  "
      ]
     },
     "execution_count": 3,
     "metadata": {},
     "output_type": "execute_result"
    }
   ],
   "source": [
    "books = []\n",
    "filename = os.path.join(DIR, 'goodreads_books_children.json.gz') \n",
    "with gzip.open(filename) as file:\n",
    "    for l in file:\n",
    "        \n",
    "        books.append(json.loads(l))\n",
    "\n",
    "books = pd.DataFrame(books)\n",
    "books.head(3).T"
   ]
  },
  {
   "cell_type": "code",
   "execution_count": 4,
   "id": "a9ba27f5",
   "metadata": {},
   "outputs": [
    {
     "name": "stdout",
     "output_type": "stream",
     "text": [
      "There are 124082 books with 29 features.\n"
     ]
    }
   ],
   "source": [
    "print('There are {} books with {} features.'.format(books.shape[0], books.shape[1]))"
   ]
  },
  {
   "cell_type": "code",
   "execution_count": 5,
   "id": "938b70c5",
   "metadata": {},
   "outputs": [
    {
     "name": "stdout",
     "output_type": "stream",
     "text": [
      "<class 'pandas.core.frame.DataFrame'>\n",
      "RangeIndex: 124082 entries, 0 to 124081\n",
      "Data columns (total 29 columns):\n",
      " #   Column                Non-Null Count   Dtype \n",
      "---  ------                --------------   ----- \n",
      " 0   isbn                  124082 non-null  object\n",
      " 1   text_reviews_count    124082 non-null  object\n",
      " 2   series                124082 non-null  object\n",
      " 3   country_code          124082 non-null  object\n",
      " 4   language_code         124082 non-null  object\n",
      " 5   popular_shelves       124082 non-null  object\n",
      " 6   asin                  124082 non-null  object\n",
      " 7   is_ebook              124082 non-null  object\n",
      " 8   average_rating        124082 non-null  object\n",
      " 9   kindle_asin           124082 non-null  object\n",
      " 10  similar_books         124082 non-null  object\n",
      " 11  description           124082 non-null  object\n",
      " 12  format                124082 non-null  object\n",
      " 13  link                  124082 non-null  object\n",
      " 14  authors               124082 non-null  object\n",
      " 15  publisher             124082 non-null  object\n",
      " 16  num_pages             124082 non-null  object\n",
      " 17  publication_day       124082 non-null  object\n",
      " 18  isbn13                124082 non-null  object\n",
      " 19  publication_month     124082 non-null  object\n",
      " 20  edition_information   124082 non-null  object\n",
      " 21  publication_year      124082 non-null  object\n",
      " 22  url                   124082 non-null  object\n",
      " 23  image_url             124082 non-null  object\n",
      " 24  book_id               124082 non-null  object\n",
      " 25  ratings_count         124082 non-null  object\n",
      " 26  work_id               124082 non-null  object\n",
      " 27  title                 124082 non-null  object\n",
      " 28  title_without_series  124082 non-null  object\n",
      "dtypes: object(29)\n",
      "memory usage: 27.5+ MB\n"
     ]
    }
   ],
   "source": [
    "books.info()"
   ]
  },
  {
   "cell_type": "markdown",
   "id": "7fe70642",
   "metadata": {},
   "source": [
    "## 4. Data type and missing data <a class='anchor' id='missing'>\n",
    "    \n",
    "Let's check for the type and missing data. \n",
    "    \n",
    "There is no missing data, however, it may be because of the type of the data, which is all object. Next we will change columns to the right data type and will check for missing values."
   ]
  },
  {
   "cell_type": "code",
   "execution_count": 6,
   "id": "4ce59ce3",
   "metadata": {},
   "outputs": [
    {
     "data": {
      "text/plain": [
       "<AxesSubplot:>"
      ]
     },
     "execution_count": 6,
     "metadata": {},
     "output_type": "execute_result"
    },
    {
     "data": {
      "image/png": "[encoded data removed]",
      "text/plain": [
       "<Figure size 864x432 with 1 Axes>"
      ]
     },
     "metadata": {
      "needs_background": "light"
     },
     "output_type": "display_data"
    }
   ],
   "source": [
    "plt.figure(figsize=(12,6))\n",
    "sns.heatmap(books.isna(), cbar=False, cmap='viridis', yticklabels=False)"
   ]
  },
  {
   "cell_type": "markdown",
   "id": "cd79e720",
   "metadata": {},
   "source": [
    "## 5. Convert data type <a class='anchor' id='type'>"
   ]
  },
  {
   "cell_type": "code",
   "execution_count": 8,
   "id": "f7afd241",
   "metadata": {},
   "outputs": [],
   "source": [
    "# change columns to integer values\n",
    "int_columns = ['text_reviews_count', 'ratings_count']\n",
    "for x in int_columns:\n",
    "    books[x] = books[x].astype(int)"
   ]
  },
  {
   "cell_type": "code",
   "execution_count": 9,
   "id": "a108b1f8",
   "metadata": {},
   "outputs": [],
   "source": [
    "float_columns =['average_rating']\n",
    "for x in float_columns:\n",
    "    books[x] = books[x].astype(float)"
   ]
  },
  {
   "cell_type": "code",
   "execution_count": 10,
   "id": "830de7b9",
   "metadata": {},
   "outputs": [],
   "source": [
    "string_columns = ['description', 'format', 'link', 'authors', 'publisher', 'edition_information', 'url', 'image_url', \n",
    "                  'title', 'title_without_series', 'isbn', 'series', 'asin', 'kindle_asin', 'isbn13', 'book_id', 'work_id']\n",
    "for x in string_columns:\n",
    "    books[x] = books[x].astype(str)"
   ]
  },
  {
   "cell_type": "code",
   "execution_count": 11,
   "id": "d88d1f8e",
   "metadata": {},
   "outputs": [
    {
     "data": {
      "text/plain": [
       "192"
      ]
     },
     "execution_count": 11,
     "metadata": {},
     "output_type": "execute_result"
    }
   ],
   "source": [
    "books['publication_year'].nunique()"
   ]
  },
  {
   "cell_type": "code",
   "execution_count": 12,
   "id": "df92f643",
   "metadata": {},
   "outputs": [
    {
     "data": {
      "text/plain": [
       "13"
      ]
     },
     "execution_count": 12,
     "metadata": {},
     "output_type": "execute_result"
    }
   ],
   "source": [
    "books['publication_month'].nunique()"
   ]
  },
  {
   "cell_type": "code",
   "execution_count": 13,
   "id": "e7fd0729",
   "metadata": {},
   "outputs": [
    {
     "data": {
      "text/plain": [
       "34068"
      ]
     },
     "execution_count": 13,
     "metadata": {},
     "output_type": "execute_result"
    }
   ],
   "source": [
    "books[books['publication_month'] == ''].shape[0]"
   ]
  },
  {
   "cell_type": "code",
   "execution_count": 14,
   "id": "264bf190",
   "metadata": {},
   "outputs": [
    {
     "data": {
      "text/plain": [
       "19826"
      ]
     },
     "execution_count": 14,
     "metadata": {},
     "output_type": "execute_result"
    }
   ],
   "source": [
    "books[books['publication_year'] == ''].shape[0]"
   ]
  },
  {
   "cell_type": "markdown",
   "id": "1d0325de",
   "metadata": {},
   "source": [
    "## 6. Language <a class = 'anchor' id='lang'>\n",
    "    \n",
    "Let's check what languages are in our data base. We can see that 'eng', 'en-GB', 'en-US', 'en-CA' all can be replaced by 'eng'. We are not interested in non-english books.\n",
    "There are ' ' and '--' languages. We use _detect_  to find the language of these books."
   ]
  },
  {
   "cell_type": "code",
   "execution_count": 15,
   "id": "eb7a2bb0",
   "metadata": {},
   "outputs": [
    {
     "data": {
      "text/plain": [
       "array(['', 'eng', 'fin', 'en-GB', 'scr', 'fil', 'en-US', 'per', 'por',\n",
       "       'ger', 'tur', 'vie', 'ara', 'spa', 'nl', 'gre', 'zho', 'est',\n",
       "       'fre', 'dan', 'cze', 'ben', 'ind', 'rum', 'ita', '--', 'cat',\n",
       "       'swe', 'nor', 'hun', 'rus', 'lit', 'bul', 'mul', 'slo', 'pol',\n",
       "       'ukr', 'nob', 'en-CA', 'afr', 'pes', 'lav', 'kor', 'smn', 'mal',\n",
       "       'kat', 'heb', 'srp', 'jpn', 'tha', 'slv', 'nno', 'msa', 'oci',\n",
       "       'pt-BR', 'aze', 'lat', 'vls', 'tgl', 'isl', 'gem', 'mkd', 'non',\n",
       "       'sin', 'mon', 'mlt', 'gle', 'egy', 'en', 'glg', 'dut', 'hye',\n",
       "       'sqi', 'sco', 'epo', 'fao', 'dum', 'yid', 'guj', 'bos', 'eus',\n",
       "       'hmn', 'nav', 'nld', 'kur', 'hin', 'kaz', 'krl', 'roh', 'nub'],\n",
       "      dtype=object)"
      ]
     },
     "execution_count": 15,
     "metadata": {},
     "output_type": "execute_result"
    }
   ],
   "source": [
    "books['language_code'].unique()"
   ]
  },
  {
   "cell_type": "code",
   "execution_count": 16,
   "id": "52462aff",
   "metadata": {},
   "outputs": [
    {
     "data": {
      "text/plain": [
       "72499"
      ]
     },
     "execution_count": 16,
     "metadata": {},
     "output_type": "execute_result"
    }
   ],
   "source": [
    "books[(books['language_code']=='') | (books['language_code']=='--')].shape[0]"
   ]
  },
  {
   "cell_type": "markdown",
   "id": "2f89411a",
   "metadata": {},
   "source": [
    "To find the language of a book, we use _detect_ either on the title or the book description, Where language is ' ' or '--'."
   ]
  },
  {
   "cell_type": "code",
   "execution_count": 17,
   "id": "40ab90ba",
   "metadata": {},
   "outputs": [],
   "source": [
    "# Where language is ' ' or '--', apply detect either on the title or the book description to find the language \n",
    "no_language = []\n",
    "for i in range(len(books)):\n",
    "    if (books.loc[i, 'language_code']=='') | (books.loc[i, 'language_code']=='--'):\n",
    "        try:\n",
    "            if detect(books.loc[i, 'title']):\n",
    "                books.loc[i, 'language_code'] = detect(books.loc[i, 'title'])\n",
    "            elif detect(books.loc[i, 'description']):\n",
    "                books.loc[i, 'language_code'] = detect(books.loc[i, 'description'])\n",
    "            else:\n",
    "                no_language.append[i]\n",
    "        except:\n",
    "            pass                   "
   ]
  },
  {
   "cell_type": "code",
   "execution_count": 18,
   "id": "63a74eac",
   "metadata": {},
   "outputs": [
    {
     "data": {
      "text/plain": [
       "True"
      ]
     },
     "execution_count": 18,
     "metadata": {},
     "output_type": "execute_result"
    }
   ],
   "source": [
    "# let's check if there is empty language filed \n",
    "\n",
    "'' in books['language_code'].unique()"
   ]
  },
  {
   "cell_type": "markdown",
   "id": "af32b285",
   "metadata": {},
   "source": [
    "It can be seen that ' ' is still present. Let's check them."
   ]
  },
  {
   "cell_type": "code",
   "execution_count": 19,
   "id": "26a4790b",
   "metadata": {},
   "outputs": [
    {
     "data": {
      "text/html": [
       "<div>\n",
       "<style scoped>\n",
       "    .dataframe tbody tr th:only-of-type {\n",
       "        vertical-align: middle;\n",
       "    }\n",
       "\n",
       "    .dataframe tbody tr th {\n",
       "        vertical-align: top;\n",
       "    }\n",
       "\n",
       "    .dataframe thead th {\n",
       "        text-align: right;\n",
       "    }\n",
       "</style>\n",
       "<table border=\"1\" class=\"dataframe\">\n",
       "  <thead>\n",
       "    <tr style=\"text-align: right;\">\n",
       "      <th></th>\n",
       "      <th>title</th>\n",
       "      <th>description</th>\n",
       "    </tr>\n",
       "  </thead>\n",
       "  <tbody>\n",
       "    <tr>\n",
       "      <th>37228</th>\n",
       "      <td>123</td>\n",
       "      <td>Every masterful image by famed photographer An...</td>\n",
       "    </tr>\n",
       "    <tr>\n",
       "      <th>46881</th>\n",
       "      <td></td>\n",
       "      <td>Ben has always been content to be brilliant at...</td>\n",
       "    </tr>\n",
       "    <tr>\n",
       "      <th>51395</th>\n",
       "      <td>1 2 3</td>\n",
       "      <td>The numbers 1 to 20 have never been so creativ...</td>\n",
       "    </tr>\n",
       "    <tr>\n",
       "      <th>68546</th>\n",
       "      <td>2095</td>\n",
       "      <td>Zapped into the 21st century by \"The Book\", th...</td>\n",
       "    </tr>\n",
       "    <tr>\n",
       "      <th>79301</th>\n",
       "      <td>1 2 3</td>\n",
       "      <td>-- This delightful series of board books has b...</td>\n",
       "    </tr>\n",
       "    <tr>\n",
       "      <th>84068</th>\n",
       "      <td>22 23</td>\n",
       "      <td>All the animals have advice for mouse on what ...</td>\n",
       "    </tr>\n",
       "  </tbody>\n",
       "</table>\n",
       "</div>"
      ],
      "text/plain": [
       "       title                                        description\n",
       "37228    123  Every masterful image by famed photographer An...\n",
       "46881         Ben has always been content to be brilliant at...\n",
       "51395  1 2 3  The numbers 1 to 20 have never been so creativ...\n",
       "68546   2095  Zapped into the 21st century by \"The Book\", th...\n",
       "79301  1 2 3  -- This delightful series of board books has b...\n",
       "84068  22 23  All the animals have advice for mouse on what ..."
      ]
     },
     "execution_count": 19,
     "metadata": {},
     "output_type": "execute_result"
    }
   ],
   "source": [
    "# Check books with empty language field\n",
    "\n",
    "books.loc[books['language_code'] == '', ['title', 'description']]"
   ]
  },
  {
   "cell_type": "markdown",
   "id": "17068ed9",
   "metadata": {},
   "source": [
    "There are still a few books with ' ' language, which are in English as shown above. We will fix it manually."
   ]
  },
  {
   "cell_type": "code",
   "execution_count": 20,
   "id": "402630a9",
   "metadata": {},
   "outputs": [],
   "source": [
    "# Change the language to eng\n",
    "\n",
    "books.loc[books['language_code']=='', 'language_code'] ='eng'"
   ]
  },
  {
   "cell_type": "markdown",
   "id": "8fc8d987",
   "metadata": {},
   "source": [
    "Now let's replace en-CA, en-US, en-GB, and en with eng, and replace any other languages with 'other and plot a bar plot. "
   ]
  },
  {
   "cell_type": "code",
   "execution_count": 21,
   "id": "8de7ef57",
   "metadata": {},
   "outputs": [],
   "source": [
    "# Replace en-CA, en-US, en-GB, and en with eng\n",
    "\n",
    "books['language_code'] = books['language_code'].replace('en-US', 'eng').replace('en-GB', 'eng').replace('en-CA', 'eng').replace('en', 'eng')"
   ]
  },
  {
   "cell_type": "code",
   "execution_count": 22,
   "id": "68d2c8da",
   "metadata": {},
   "outputs": [],
   "source": [
    "# Let's replace non-Engilsh with 'Other' and then plot the bar plot\n",
    "\n",
    "languages = ['fin', 'af', 'de', 'ar', 'scr', 'fil', 'so', 'sw', 'per',\n",
    "       'it', 'fr', 'por', 'es', 'ger', 'fi', 'nl', 'et', 'tur', 'id',\n",
    "       'ca', 'vie', 'pt', 'ara', 'cy', 'spa', 'gre', 'pl', 'zho', 'tl',\n",
    "       'da', 'est', 'fre', 'dan', 'sv', 'lt', 'cze', 'ben', 'ind', 'rum',\n",
    "       'ita', 'no', 'ro', 'cat', 'tr', 'swe', 'nor', 'hu', 'sk', 'vi',\n",
    "       'sl', 'hun', 'rus', 'lit', 'fa', 'bul', 'mul', 'slo', 'lv', 'pol',\n",
    "       'ja', 'zh-cn', 'ukr', 'nob', 'afr', 'pes', 'lav', 'sq', 'kor',\n",
    "       'hr', 'smn', 'cs', 'mal', 'ur', 'kat', 'heb', 'ru', 'srp', 'jpn',\n",
    "       'tha', 'slv', 'nno', 'msa', 'oci', 'pt-BR', 'ko', 'aze', 'lat',\n",
    "       'vls', 'tgl', 'isl', 'gem', 'mkd', 'non', 'sin', 'uk', 'bn', 'mon',\n",
    "       'mlt', 'gle', 'egy', 'glg', 'dut', 'hye', 'sqi', 'sco', 'epo',\n",
    "       'fao', 'dum', 'yid', 'guj', 'bos', 'mk', 'eus', 'hmn', 'bg', 'nav',\n",
    "       'he', 'nld', 'kur', 'hin', 'kaz', 'krl', 'roh', 'th', 'nub']\n",
    "books['language_code'] = books['language_code'].replace(languages, 'other')"
   ]
  },
  {
   "cell_type": "code",
   "execution_count": 23,
   "id": "ac3d0e45",
   "metadata": {},
   "outputs": [
    {
     "data": {
      "image/png": "[encoded data removed]",
      "text/plain": [
       "<Figure size 576x288 with 1 Axes>"
      ]
     },
     "metadata": {
      "needs_background": "light"
     },
     "output_type": "display_data"
    }
   ],
   "source": [
    "plt.figure(figsize = (8,4))\n",
    "ax = sns.countplot(y=\"language_code\", data=books, palette=\"Set2\")\n",
    "\n",
    "ax.set_yticklabels(['English', 'Others'])\n",
    "ax.set_ylabel('Language', fontsize=12)\n",
    "ax.set_xlabel('Count', fontsize=12)\n",
    "ax.set_title(\"Language Distribution\", fontsize=14)\n",
    " \n",
    "\n",
    "plt.show()"
   ]
  },
  {
   "cell_type": "code",
   "execution_count": 24,
   "id": "34b14039",
   "metadata": {},
   "outputs": [
    {
     "name": "stdout",
     "output_type": "stream",
     "text": [
      "There are 94988 English books and 29094 non-English books.\n"
     ]
    }
   ],
   "source": [
    "print('There are {} English books and {} non-English books.'.format(books['language_code'].value_counts()[0], books['language_code'].value_counts()[1]))"
   ]
  },
  {
   "cell_type": "markdown",
   "id": "f496f295",
   "metadata": {},
   "source": [
    "We are only interested in English books, therefore we ll drop non-English book later."
   ]
  },
  {
   "cell_type": "markdown",
   "id": "4b1d2cdf",
   "metadata": {},
   "source": [
    "## 7. Fix missing titles <a class='anchor' id='title'>\n",
    "    \n",
    "As shown below, there is one book with missing title. We check the associated URL and fix the title manually."
   ]
  },
  {
   "cell_type": "code",
   "execution_count": 25,
   "id": "bd800eb8",
   "metadata": {},
   "outputs": [
    {
     "data": {
      "text/plain": [
       "1"
      ]
     },
     "execution_count": 25,
     "metadata": {},
     "output_type": "execute_result"
    }
   ],
   "source": [
    "books[(books['title'] == '') | (books['title'] == '--')].shape[0]"
   ]
  },
  {
   "cell_type": "code",
   "execution_count": 26,
   "id": "5b21c812",
   "metadata": {},
   "outputs": [
    {
     "data": {
      "text/html": [
       "<div>\n",
       "<style scoped>\n",
       "    .dataframe tbody tr th:only-of-type {\n",
       "        vertical-align: middle;\n",
       "    }\n",
       "\n",
       "    .dataframe tbody tr th {\n",
       "        vertical-align: top;\n",
       "    }\n",
       "\n",
       "    .dataframe thead th {\n",
       "        text-align: right;\n",
       "    }\n",
       "</style>\n",
       "<table border=\"1\" class=\"dataframe\">\n",
       "  <thead>\n",
       "    <tr style=\"text-align: right;\">\n",
       "      <th></th>\n",
       "      <th>title</th>\n",
       "      <th>description</th>\n",
       "      <th>url</th>\n",
       "    </tr>\n",
       "  </thead>\n",
       "  <tbody>\n",
       "    <tr>\n",
       "      <th>46881</th>\n",
       "      <td></td>\n",
       "      <td>Ben has always been content to be brilliant at...</td>\n",
       "      <td>https://www.goodreads.com/book/show/2433394</td>\n",
       "    </tr>\n",
       "  </tbody>\n",
       "</table>\n",
       "</div>"
      ],
      "text/plain": [
       "      title                                        description  \\\n",
       "46881        Ben has always been content to be brilliant at...   \n",
       "\n",
       "                                               url  \n",
       "46881  https://www.goodreads.com/book/show/2433394  "
      ]
     },
     "execution_count": 26,
     "metadata": {},
     "output_type": "execute_result"
    }
   ],
   "source": [
    "books[(books['title'] == '') | (books['title'] == '--')][['title','description', 'url']]"
   ]
  },
  {
   "cell_type": "markdown",
   "id": "e18de329",
   "metadata": {},
   "source": [
    "When we check the URL, the title of the book is _(George)_, let's fix it manually. But first I save books as df if anything goes wrong.\n"
   ]
  },
  {
   "cell_type": "code",
   "execution_count": 27,
   "id": "44b65ee9",
   "metadata": {},
   "outputs": [],
   "source": [
    "books.loc[46881,'title'] = '(George)'"
   ]
  },
  {
   "cell_type": "code",
   "execution_count": 28,
   "id": "419e33cb",
   "metadata": {
    "scrolled": false
   },
   "outputs": [
    {
     "name": "stdout",
     "output_type": "stream",
     "text": [
      "(124082, 29)\n",
      "isbn                                                           0440428475\n",
      "text_reviews_count                                                      3\n",
      "series                                                                 []\n",
      "country_code                                                           US\n",
      "language_code                                                         eng\n",
      "popular_shelves         [{'count': '186', 'name': 'to-read'}, {'count'...\n",
      "asin                                                                     \n",
      "is_ebook                                                            false\n",
      "average_rating                                                       3.63\n",
      "kindle_asin                                                              \n",
      "similar_books           [121457, 575252, 2849, 7793505, 809653, 299360...\n",
      "description             Ben has always been content to be brilliant at...\n",
      "format                                                          Paperback\n",
      "link                          https://www.goodreads.com/book/show/2433394\n",
      "authors                               [{'author_id': '2713', 'role': ''}]\n",
      "publisher                                                        Yearling\n",
      "num_pages                                                             160\n",
      "publication_day                                                         1\n",
      "isbn13                                                      9780440428473\n",
      "publication_month                                                       4\n",
      "edition_information                                                      \n",
      "publication_year                                                     1985\n",
      "url                           https://www.goodreads.com/book/show/2433394\n",
      "image_url               https://s.gr-assets.com/assets/nophoto/book/11...\n",
      "book_id                                                           2433394\n",
      "ratings_count                                                           8\n",
      "work_id                                                           2440582\n",
      "title                                                            (George)\n",
      "title_without_series                                                     \n",
      "Name: 46881, dtype: object\n"
     ]
    }
   ],
   "source": [
    "print(books.shape)\n",
    "print(books.loc[46881,:] )"
   ]
  },
  {
   "cell_type": "markdown",
   "id": "ff662ebc",
   "metadata": {},
   "source": [
    "So, we successfully changed the book title, without messing with the dataframe. Next let's check if we have duplicates in data frame by checking book_id."
   ]
  },
  {
   "cell_type": "markdown",
   "id": "3fb94550",
   "metadata": {},
   "source": [
    "## 8. Check for duplicates <a claa='anchor' id='duplicate'>"
   ]
  },
  {
   "cell_type": "code",
   "execution_count": 29,
   "id": "607d1620",
   "metadata": {},
   "outputs": [
    {
     "data": {
      "text/plain": [
       "0"
      ]
     },
     "execution_count": 29,
     "metadata": {},
     "output_type": "execute_result"
    }
   ],
   "source": [
    "books.duplicated(subset='book_id').sum()"
   ]
  },
  {
   "cell_type": "markdown",
   "id": "2760275e",
   "metadata": {},
   "source": [
    "There is no duplicates in the data."
   ]
  },
  {
   "cell_type": "markdown",
   "id": "597ac0a7",
   "metadata": {},
   "source": [
    "## 9. Distribution of rating counts of the books <a class='anchor' id='rating_count'>"
   ]
  },
  {
   "cell_type": "code",
   "execution_count": 30,
   "id": "9c5ccd1e",
   "metadata": {},
   "outputs": [
    {
     "data": {
      "text/plain": [
       "Text(0, 0.5, 'Count')"
      ]
     },
     "execution_count": 30,
     "metadata": {},
     "output_type": "execute_result"
    },
    {
     "data": {
      "image/png": "[encoded data removed]",
      "text/plain": [
       "<Figure size 864x360 with 2 Axes>"
      ]
     },
     "metadata": {
      "needs_background": "light"
     },
     "output_type": "display_data"
    }
   ],
   "source": [
    "# Plot the histogram of the rating counts\n",
    "fig, (ax0, ax1) = plt.subplots(nrows=1, ncols=2, figsize=(12,5)) \n",
    "\n",
    "books[\"ratings_count\"].plot.hist(bins=10, rwidth=0.85, color=\"teal\", ax=ax0)\n",
    "books[books[\"ratings_count\"]<500]['ratings_count'].plot.hist(bins=10, rwidth=0.85, color=\"teal\", ax=ax1)\n",
    "\n",
    "ax0.legend(['Number of ratings'])\n",
    "ax0.set_xlabel('Number of ratings', fontsize=12)\n",
    "ax0.set_ylabel('Count', fontsize=12)\n",
    "\n",
    "ax1.legend(['Number of ratings'])\n",
    "ax1.set_xlabel('Number of ratings', fontsize=12)\n",
    "ax1.set_ylabel('Count', fontsize=12)\n"
   ]
  },
  {
   "cell_type": "markdown",
   "id": "eeac81dc",
   "metadata": {},
   "source": [
    "## 10. Distribution of reviews count  <a class='anchor' id='reviw_count'>"
   ]
  },
  {
   "cell_type": "code",
   "execution_count": 31,
   "id": "4a122341",
   "metadata": {},
   "outputs": [
    {
     "data": {
      "text/plain": [
       "Text(0, 0.5, 'Count')"
      ]
     },
     "execution_count": 31,
     "metadata": {},
     "output_type": "execute_result"
    },
    {
     "data": {
      "image/png": "[encoded data removed]",
      "text/plain": [
       "<Figure size 864x360 with 2 Axes>"
      ]
     },
     "metadata": {
      "needs_background": "light"
     },
     "output_type": "display_data"
    }
   ],
   "source": [
    "# Plot the histogram of the review counts\n",
    "fig, (ax0, ax1) = plt.subplots(nrows=1, ncols=2, figsize=(12,5)) \n",
    "\n",
    "books[\"text_reviews_count\"].plot.hist(bins=10, rwidth=0.85, color=\"teal\", ax=ax0)\n",
    "books[books[\"text_reviews_count\"]<100]['text_reviews_count'].plot.hist(bins=10, rwidth=0.85, color=\"teal\", ax=ax1)\n",
    "\n",
    "ax0.legend(['Number of reviews'])\n",
    "ax0.set_xlabel('Number of reviews', fontsize=12)\n",
    "ax0.set_ylabel('Count', fontsize=12)\n",
    "\n",
    "ax1.legend(['Number of reviews'])\n",
    "ax1.set_xlabel('Number of reviews', fontsize=12)\n",
    "ax1.set_ylabel('Count', fontsize=12)\n"
   ]
  },
  {
   "cell_type": "markdown",
   "id": "5947f5e3",
   "metadata": {},
   "source": [
    "## 11. Book description <a class='anchor' id='description'>"
   ]
  },
  {
   "cell_type": "markdown",
   "id": "c8d3dbcd",
   "metadata": {},
   "source": [
    "There are some books with empty description. Let's check the description of books and how long they are."
   ]
  },
  {
   "cell_type": "code",
   "execution_count": 32,
   "id": "8debb66f",
   "metadata": {},
   "outputs": [
    {
     "data": {
      "text/plain": [
       "True"
      ]
     },
     "execution_count": 32,
     "metadata": {},
     "output_type": "execute_result"
    }
   ],
   "source": [
    "'' in books['description'].unique()"
   ]
  },
  {
   "cell_type": "code",
   "execution_count": 33,
   "id": "dd8a04e5",
   "metadata": {},
   "outputs": [
    {
     "name": "stdout",
     "output_type": "stream",
     "text": [
      "There are 15238 books with empty description.\n"
     ]
    }
   ],
   "source": [
    "print('There are {} books with empty description.'.format(books[(books['description'] == '')].shape[0]))"
   ]
  },
  {
   "cell_type": "markdown",
   "id": "b0a15ade",
   "metadata": {},
   "source": [
    "Let's add a word_count column and count how many words are in each description."
   ]
  },
  {
   "cell_type": "code",
   "execution_count": 34,
   "id": "d60d97ba",
   "metadata": {},
   "outputs": [],
   "source": [
    "books['word_count'] = books['description'].apply(lambda x: len(x.split()))#  word count"
   ]
  },
  {
   "cell_type": "code",
   "execution_count": 35,
   "id": "9c54d75f",
   "metadata": {},
   "outputs": [
    {
     "data": {
      "text/plain": [
       "Text(0.5, 1.0, 'Distribution of number of words in the book description')"
      ]
     },
     "execution_count": 35,
     "metadata": {},
     "output_type": "execute_result"
    },
    {
     "data": {
      "image/png": "[encoded data removed]",
      "text/plain": [
       "<Figure size 1152x360 with 2 Axes>"
      ]
     },
     "metadata": {
      "needs_background": "light"
     },
     "output_type": "display_data"
    }
   ],
   "source": [
    "fig, (ax0, ax1) = plt.subplots(nrows=1, ncols=2, figsize=(16,5)) \n",
    "\n",
    "books[\"word_count\"].plot.hist(bins=10, rwidth=0.85, color=\"teal\", ax=ax0)\n",
    "books[books[\"word_count\"]<500]['word_count'].plot.hist(bins=10, rwidth=0.85, color=\"teal\", ax=ax1)\n",
    "\n",
    "ax0.legend(['Number of words'])\n",
    "ax0.set_xlabel('Number of words', fontsize=12)\n",
    "ax0.set_ylabel('Count', fontsize=12)\n",
    "ax0.set_title('Distribution of number of words in the book description')\n",
    "ax1.legend(['Number of words'])\n",
    "ax1.set_xlabel('Number of words', fontsize=12)\n",
    "ax1.set_ylabel('Count', fontsize=12)\n",
    "ax1.set_title('Distribution of number of words in the book description')\n"
   ]
  },
  {
   "cell_type": "code",
   "execution_count": 36,
   "id": "e7676f16",
   "metadata": {},
   "outputs": [],
   "source": [
    "# Let's replace empty description with np.nan.\n",
    "\n",
    "books['description'] = books['description'].astype(str).replace('', np.nan)"
   ]
  },
  {
   "cell_type": "markdown",
   "id": "21af1093",
   "metadata": {},
   "source": [
    "## 12. What percentages are also available as ebook? <a class='anchor' id='ebook'>"
   ]
  },
  {
   "cell_type": "code",
   "execution_count": 38,
   "id": "5176ab60",
   "metadata": {},
   "outputs": [
    {
     "data": {
      "image/png": "[encoded data removed]",
      "text/plain": [
       "<Figure size 576x288 with 1 Axes>"
      ]
     },
     "metadata": {
      "needs_background": "light"
     },
     "output_type": "display_data"
    }
   ],
   "source": [
    "fig, ax = plt.subplots(figsize=(8,4))\n",
    "ax = sns.countplot(y=\"is_ebook\", data=books, palette=\"Set1\")\n",
    "ax.set_yticklabels(['non-ebook', 'ebook'])\n",
    "ax.set_xlabel('Count', fontsize=12)\n",
    "ax.set_title(\"ebook Distribution\", fontsize=14)\n",
    "plt.show()"
   ]
  },
  {
   "cell_type": "markdown",
   "id": "71a86d4d",
   "metadata": {},
   "source": [
    "## 13. Distribution of number of pages <a class='anchor' id='num'>"
   ]
  },
  {
   "cell_type": "code",
   "execution_count": 39,
   "id": "37a2f97e",
   "metadata": {},
   "outputs": [
    {
     "data": {
      "text/plain": [
       "True"
      ]
     },
     "execution_count": 39,
     "metadata": {},
     "output_type": "execute_result"
    }
   ],
   "source": [
    "'' in books['num_pages'].unique()"
   ]
  },
  {
   "cell_type": "code",
   "execution_count": 40,
   "id": "52759e8a",
   "metadata": {},
   "outputs": [
    {
     "name": "stdout",
     "output_type": "stream",
     "text": [
      "There are 28197 books with empty num_pages \n"
     ]
    }
   ],
   "source": [
    "print(\"There are {} books with empty num_pages \".format(books[books['num_pages'] == ''].shape[0]))"
   ]
  },
  {
   "cell_type": "code",
   "execution_count": 41,
   "id": "4c5347a1",
   "metadata": {},
   "outputs": [],
   "source": [
    "# Let's replace empty number_pages with np.nan and change the type to float\n",
    "\n",
    "books['num_pages'] = books['num_pages'].astype(str).replace('', np.nan)"
   ]
  },
  {
   "cell_type": "code",
   "execution_count": 42,
   "id": "a2fa4b8d",
   "metadata": {},
   "outputs": [],
   "source": [
    "books['num_pages'] = books['num_pages'].astype(float)"
   ]
  },
  {
   "cell_type": "code",
   "execution_count": 44,
   "id": "7049437e",
   "metadata": {},
   "outputs": [
    {
     "data": {
      "text/plain": [
       "Text(0.5, 1.0, 'Distribution of number of pages')"
      ]
     },
     "execution_count": 44,
     "metadata": {},
     "output_type": "execute_result"
    },
    {
     "data": {
      "image/png": "[encoded data removed]",
      "text/plain": [
       "<Figure size 1440x360 with 3 Axes>"
      ]
     },
     "metadata": {
      "needs_background": "light"
     },
     "output_type": "display_data"
    }
   ],
   "source": [
    "fig, (ax0, ax1, ax2) = plt.subplots(nrows=1, ncols=3, figsize=(20,5)) \n",
    "\n",
    "books[\"num_pages\"].plot.hist(bins=10, rwidth=0.85, color=\"teal\", ax=ax0)\n",
    "books[books[\"num_pages\"]<500]['num_pages'].plot.hist(bins=10, rwidth=0.85, color=\"teal\", ax=ax1)\n",
    "books[books[\"num_pages\"]<50]['num_pages'].plot.hist(bins=10, rwidth=0.85, color=\"teal\", ax=ax2)\n",
    "\n",
    "ax0.legend(['Number of pages'])\n",
    "ax0.set_xlabel('Number of pages', fontsize=14)\n",
    "ax0.set_ylabel('Count', fontsize=14)\n",
    "ax0.set_title('Distribution of number of pages')\n",
    "ax1.legend(['Number of pages'])\n",
    "ax1.set_xlabel('Number of pages', fontsize=14)\n",
    "ax1.set_ylabel('Count', fontsize=14)\n",
    "ax1.set_title('Distribution of number of pages')\n",
    "ax2.legend(['Number of pages'])\n",
    "ax2.set_xlabel('Number of pages', fontsize=14)\n",
    "ax2.set_ylabel('Count', fontsize=14)\n",
    "ax2.set_title('Distribution of number of pages')"
   ]
  },
  {
   "cell_type": "code",
   "execution_count": 45,
   "id": "4983e4ed",
   "metadata": {},
   "outputs": [
    {
     "data": {
      "text/html": [
       "<div>\n",
       "<style scoped>\n",
       "    .dataframe tbody tr th:only-of-type {\n",
       "        vertical-align: middle;\n",
       "    }\n",
       "\n",
       "    .dataframe tbody tr th {\n",
       "        vertical-align: top;\n",
       "    }\n",
       "\n",
       "    .dataframe thead th {\n",
       "        text-align: right;\n",
       "    }\n",
       "</style>\n",
       "<table border=\"1\" class=\"dataframe\">\n",
       "  <thead>\n",
       "    <tr style=\"text-align: right;\">\n",
       "      <th></th>\n",
       "      <th>title</th>\n",
       "      <th>description</th>\n",
       "      <th>num_pages</th>\n",
       "      <th>average_rating</th>\n",
       "    </tr>\n",
       "  </thead>\n",
       "  <tbody>\n",
       "    <tr>\n",
       "      <th>34249</th>\n",
       "      <td>The New Junior Classics (The New Junior Classi...</td>\n",
       "      <td>1 = Fairy Tales and Fables\\n(66 fairy tales fr...</td>\n",
       "      <td>4,500.0</td>\n",
       "      <td>4.55</td>\n",
       "    </tr>\n",
       "    <tr>\n",
       "      <th>108944</th>\n",
       "      <td>The Wizard of Oz 15 Book Collection</td>\n",
       "      <td>\"Anyone in a fairy country like the Land of Oz...</td>\n",
       "      <td>3,816.0</td>\n",
       "      <td>4.47</td>\n",
       "    </tr>\n",
       "    <tr>\n",
       "      <th>73961</th>\n",
       "      <td>Oz, the Complete Hardcover Collection: The Won...</td>\n",
       "      <td>NaN</td>\n",
       "      <td>3,600.0</td>\n",
       "      <td>4.62</td>\n",
       "    </tr>\n",
       "    <tr>\n",
       "      <th>69</th>\n",
       "      <td>The Complete Charlie Bone Series</td>\n",
       "      <td>NaN</td>\n",
       "      <td>3,520.0</td>\n",
       "      <td>4.4</td>\n",
       "    </tr>\n",
       "    <tr>\n",
       "      <th>90754</th>\n",
       "      <td>Dork Diaries Box Set (Ten Books Inside!): Dork...</td>\n",
       "      <td>Get your dork on with the ultimate Dork Diarie...</td>\n",
       "      <td>3,296.0</td>\n",
       "      <td>4.53</td>\n",
       "    </tr>\n",
       "    <tr>\n",
       "      <th>99057</th>\n",
       "      <td>Pat of Silver Bush</td>\n",
       "      <td>Patricia Gardner loved Silver Bush, the old-fa...</td>\n",
       "      <td>3,281.0</td>\n",
       "      <td>3.88</td>\n",
       "    </tr>\n",
       "    <tr>\n",
       "      <th>6299</th>\n",
       "      <td>Paul Jennings' Spookiest Stories</td>\n",
       "      <td>Since Unreal was published in 1985, Paul Jenni...</td>\n",
       "      <td>3,210.0</td>\n",
       "      <td>3.89</td>\n",
       "    </tr>\n",
       "  </tbody>\n",
       "</table>\n",
       "</div>"
      ],
      "text/plain": [
       "                                                    title  \\\n",
       "34249   The New Junior Classics (The New Junior Classi...   \n",
       "108944                The Wizard of Oz 15 Book Collection   \n",
       "73961   Oz, the Complete Hardcover Collection: The Won...   \n",
       "69                       The Complete Charlie Bone Series   \n",
       "90754   Dork Diaries Box Set (Ten Books Inside!): Dork...   \n",
       "99057                                  Pat of Silver Bush   \n",
       "6299                     Paul Jennings' Spookiest Stories   \n",
       "\n",
       "                                              description  num_pages  \\\n",
       "34249   1 = Fairy Tales and Fables\\n(66 fairy tales fr...    4,500.0   \n",
       "108944  \"Anyone in a fairy country like the Land of Oz...    3,816.0   \n",
       "73961                                                 NaN    3,600.0   \n",
       "69                                                    NaN    3,520.0   \n",
       "90754   Get your dork on with the ultimate Dork Diarie...    3,296.0   \n",
       "99057   Patricia Gardner loved Silver Bush, the old-fa...    3,281.0   \n",
       "6299    Since Unreal was published in 1985, Paul Jenni...    3,210.0   \n",
       "\n",
       "        average_rating  \n",
       "34249             4.55  \n",
       "108944            4.47  \n",
       "73961             4.62  \n",
       "69                 4.4  \n",
       "90754             4.53  \n",
       "99057             3.88  \n",
       "6299              3.89  "
      ]
     },
     "execution_count": 45,
     "metadata": {},
     "output_type": "execute_result"
    }
   ],
   "source": [
    "# there are a few books with >3000 pages.\n",
    "\n",
    "books[books[\"num_pages\"]>3000][['title','description', 'num_pages', 'average_rating']].sort_values(by='num_pages', ascending=False)"
   ]
  },
  {
   "cell_type": "markdown",
   "id": "1d286985",
   "metadata": {},
   "source": [
    "## 14. Distribution of books published annually <a class='anchor' id='year'>\n",
    "    \n",
    "There are some strange publish year in the data. We replace anything >2018 and <1800 with np.nan."
   ]
  },
  {
   "cell_type": "code",
   "execution_count": 46,
   "id": "4b995c8d",
   "metadata": {},
   "outputs": [],
   "source": [
    "books['publication_year'] = books['publication_year'].astype(str)"
   ]
  },
  {
   "cell_type": "code",
   "execution_count": 47,
   "id": "b9cd7f76",
   "metadata": {},
   "outputs": [
    {
     "data": {
      "text/plain": [
       "True"
      ]
     },
     "execution_count": 47,
     "metadata": {},
     "output_type": "execute_result"
    }
   ],
   "source": [
    "'' in books['publication_year'].unique()"
   ]
  },
  {
   "cell_type": "code",
   "execution_count": 48,
   "id": "788ace7e",
   "metadata": {},
   "outputs": [],
   "source": [
    "books['publication_year'] = books['publication_year'].replace('', np.nan)"
   ]
  },
  {
   "cell_type": "code",
   "execution_count": 49,
   "id": "64477b62",
   "metadata": {},
   "outputs": [],
   "source": [
    "books['publication_year'] = books['publication_year'].astype(float)"
   ]
  },
  {
   "cell_type": "code",
   "execution_count": 50,
   "id": "af84117d",
   "metadata": {},
   "outputs": [
    {
     "data": {
      "text/plain": [
       "count             104,256.0\n",
       "mean    2,004.8108118477594\n",
       "std      249.24933836269057\n",
       "min                     0.0\n",
       "25%                 1,999.0\n",
       "50%                 2,007.0\n",
       "75%                 2,013.0\n",
       "max                65,535.0\n",
       "Name: publication_year, dtype: float64"
      ]
     },
     "execution_count": 50,
     "metadata": {},
     "output_type": "execute_result"
    }
   ],
   "source": [
    "books['publication_year'].describe()"
   ]
  },
  {
   "cell_type": "code",
   "execution_count": 51,
   "id": "c954418e",
   "metadata": {},
   "outputs": [
    {
     "name": "stdout",
     "output_type": "stream",
     "text": [
      "There are 60 books with publication_year < 1800 or publication_year > 2018, which cannot be correct.\n"
     ]
    }
   ],
   "source": [
    "print('There are {} books with publication_year < 1800 or publication_year > 2018, which cannot be correct.'.format(books[(books['publication_year']>2018) | (books['publication_year']<1800)].shape[0]))"
   ]
  },
  {
   "cell_type": "markdown",
   "id": "f183f74a",
   "metadata": {},
   "source": [
    "Let's replace these strange publication_years by np.nan and then plot the histogram."
   ]
  },
  {
   "cell_type": "code",
   "execution_count": 52,
   "id": "5294850b",
   "metadata": {},
   "outputs": [
    {
     "data": {
      "text/plain": [
       "60"
      ]
     },
     "execution_count": 52,
     "metadata": {},
     "output_type": "execute_result"
    }
   ],
   "source": [
    "books[(books['publication_year']>2018) | (books['publication_year']<1800)].shape[0]"
   ]
  },
  {
   "cell_type": "code",
   "execution_count": 53,
   "id": "f7675cc8",
   "metadata": {},
   "outputs": [],
   "source": [
    "books.loc[(books['publication_year']>2018) | (books['publication_year']<1800)] = np.nan"
   ]
  },
  {
   "cell_type": "code",
   "execution_count": 54,
   "id": "bbf8dbeb",
   "metadata": {},
   "outputs": [
    {
     "data": {
      "text/plain": [
       "(1900.0, 2020.0)"
      ]
     },
     "execution_count": 54,
     "metadata": {},
     "output_type": "execute_result"
    },
    {
     "data": {
      "image/png": "[encoded data removed]",
      "text/plain": [
       "<Figure size 720x360 with 1 Axes>"
      ]
     },
     "metadata": {
      "needs_background": "light"
     },
     "output_type": "display_data"
    }
   ],
   "source": [
    "fig, ax = plt.subplots(figsize=(10,5)) \n",
    "books['publication_year'].plot.hist(bins=118, rwidth=0.8, color=\"teal\", ax = ax)\n",
    "\n",
    "\n",
    "ax.legend(['Number books'])\n",
    "ax.set_xlabel('Year', fontsize=14)\n",
    "ax.set_ylabel('Count', fontsize=14)\n",
    "ax.set_title('Distribution of books published in each year')\n",
    "ax.set_xlim([1900, 2020])"
   ]
  },
  {
   "cell_type": "markdown",
   "id": "d364e136",
   "metadata": {},
   "source": [
    "## 15. List of 10 publishers with highest number of published books <a class='anchor' id='publisher'>"
   ]
  },
  {
   "cell_type": "code",
   "execution_count": 55,
   "id": "870d3393",
   "metadata": {},
   "outputs": [
    {
     "data": {
      "text/plain": [
       "                                        20141\n",
       "HarperCollins                            3313\n",
       "HMH Books for Young Readers              2569\n",
       "Scholastic                               2175\n",
       "Random House Books for Young Readers     1951\n",
       "Puffin Books                             1403\n",
       "Candlewick Press                         1393\n",
       "Scholastic Paperbacks                    1236\n",
       "Puffin                                   1220\n",
       "Turtleback Books                         1119\n",
       "Name: publisher, dtype: int64"
      ]
     },
     "execution_count": 55,
     "metadata": {},
     "output_type": "execute_result"
    }
   ],
   "source": [
    "books['publisher'].value_counts()[0:10]"
   ]
  },
  {
   "cell_type": "markdown",
   "id": "cedf932b",
   "metadata": {},
   "source": [
    "## 16. Distribution of average rating <a class='anchor' id='average_rating'>"
   ]
  },
  {
   "cell_type": "code",
   "execution_count": 56,
   "id": "7d50a74e",
   "metadata": {},
   "outputs": [
    {
     "data": {
      "text/plain": [
       "Text(0.5, 1.0, 'Distribution of average rating')"
      ]
     },
     "execution_count": 56,
     "metadata": {},
     "output_type": "execute_result"
    },
    {
     "data": {
      "image/png": "[encoded data removed]",
      "text/plain": [
       "<Figure size 720x360 with 1 Axes>"
      ]
     },
     "metadata": {
      "needs_background": "light"
     },
     "output_type": "display_data"
    }
   ],
   "source": [
    "fig, ax = plt.subplots(figsize=(10,5)) \n",
    "books['average_rating'].plot.hist(rwidth=0.8, color=\"teal\", ax = ax)\n",
    "\n",
    "\n",
    "ax.legend(['Average rating'])\n",
    "ax.set_xlabel('Rating', fontsize=14)\n",
    "ax.set_ylabel('Count', fontsize=14)\n",
    "ax.set_title('Distribution of average rating')\n"
   ]
  },
  {
   "cell_type": "markdown",
   "id": "4b296001",
   "metadata": {},
   "source": [
    "## 17. What columns and rows should we drop? <a class='anchor' id='drop'>"
   ]
  },
  {
   "cell_type": "markdown",
   "id": "7048048a",
   "metadata": {},
   "source": [
    "Our focus is on English books. So all non-English books will be dropped.\n",
    "\n",
    "We drop books with no description and number of pages. \n",
    "\n",
    "We are also interested in books with average_rating equal or higher than 3.5."
   ]
  },
  {
   "cell_type": "code",
   "execution_count": 58,
   "id": "9fef2678",
   "metadata": {},
   "outputs": [
    {
     "data": {
      "text/plain": [
       "eng    94962\n",
       "Name: language_code, dtype: int64"
      ]
     },
     "execution_count": 58,
     "metadata": {},
     "output_type": "execute_result"
    }
   ],
   "source": [
    "# Drop those books of which language is not English!\n",
    "books = books[books.language_code=='eng']\n",
    "books['language_code'].value_counts()\n"
   ]
  },
  {
   "cell_type": "code",
   "execution_count": 59,
   "id": "1b757c26",
   "metadata": {},
   "outputs": [
    {
     "data": {
      "text/plain": [
       "Index(['isbn', 'text_reviews_count', 'series', 'country_code', 'language_code',\n",
       "       'popular_shelves', 'asin', 'is_ebook', 'average_rating', 'kindle_asin',\n",
       "       'similar_books', 'description', 'format', 'link', 'authors',\n",
       "       'publisher', 'num_pages', 'publication_day', 'isbn13',\n",
       "       'publication_month', 'edition_information', 'publication_year', 'url',\n",
       "       'image_url', 'book_id', 'ratings_count', 'work_id', 'title',\n",
       "       'title_without_series', 'word_count'],\n",
       "      dtype='object')"
      ]
     },
     "execution_count": 59,
     "metadata": {},
     "output_type": "execute_result"
    }
   ],
   "source": [
    "books.columns"
   ]
  },
  {
   "cell_type": "code",
   "execution_count": 60,
   "id": "0b688a7f",
   "metadata": {},
   "outputs": [
    {
     "data": {
      "text/html": [
       "<div>\n",
       "<style scoped>\n",
       "    .dataframe tbody tr th:only-of-type {\n",
       "        vertical-align: middle;\n",
       "    }\n",
       "\n",
       "    .dataframe tbody tr th {\n",
       "        vertical-align: top;\n",
       "    }\n",
       "\n",
       "    .dataframe thead th {\n",
       "        text-align: right;\n",
       "    }\n",
       "</style>\n",
       "<table border=\"1\" class=\"dataframe\">\n",
       "  <thead>\n",
       "    <tr style=\"text-align: right;\">\n",
       "      <th></th>\n",
       "      <th>book_id</th>\n",
       "      <th>isbn</th>\n",
       "      <th>title</th>\n",
       "      <th>description</th>\n",
       "      <th>num_pages</th>\n",
       "      <th>authors</th>\n",
       "      <th>ratings_count</th>\n",
       "      <th>average_rating</th>\n",
       "      <th>image_url</th>\n",
       "      <th>url</th>\n",
       "      <th>similar_books</th>\n",
       "    </tr>\n",
       "  </thead>\n",
       "  <tbody>\n",
       "    <tr>\n",
       "      <th>0</th>\n",
       "      <td>287141</td>\n",
       "      <td>1599150603</td>\n",
       "      <td>The Aeneid for Boys and Girls</td>\n",
       "      <td>Relates in vigorous prose the tale of Aeneas, ...</td>\n",
       "      <td>162.0</td>\n",
       "      <td>[{'author_id': '3041852', 'role': ''}]</td>\n",
       "      <td>46.0</td>\n",
       "      <td>4.13</td>\n",
       "      <td>https://s.gr-assets.com/assets/nophoto/book/11...</td>\n",
       "      <td>https://www.goodreads.com/book/show/287141.The...</td>\n",
       "      <td>[]</td>\n",
       "    </tr>\n",
       "    <tr>\n",
       "      <th>1</th>\n",
       "      <td>6066812</td>\n",
       "      <td>1934876569</td>\n",
       "      <td>All's Fairy in Love and War (Avalon: Web of Ma...</td>\n",
       "      <td>To Kara's astonishment, she discovers that a p...</td>\n",
       "      <td>216.0</td>\n",
       "      <td>[{'author_id': '19158', 'role': ''}]</td>\n",
       "      <td>98.0</td>\n",
       "      <td>4.22</td>\n",
       "      <td>https://images.gr-assets.com/books/1316637798m...</td>\n",
       "      <td>https://www.goodreads.com/book/show/6066812-al...</td>\n",
       "      <td>[948696, 439885, 274955, 12978730, 372986, 216...</td>\n",
       "    </tr>\n",
       "    <tr>\n",
       "      <th>2</th>\n",
       "      <td>89378</td>\n",
       "      <td>0590417010</td>\n",
       "      <td>Dog Heaven</td>\n",
       "      <td>In Newbery Medalist Cynthia Rylant's classic b...</td>\n",
       "      <td>40.0</td>\n",
       "      <td>[{'author_id': '5411', 'role': ''}]</td>\n",
       "      <td>1,331.0</td>\n",
       "      <td>4.43</td>\n",
       "      <td>https://images.gr-assets.com/books/1360057676m...</td>\n",
       "      <td>https://www.goodreads.com/book/show/89378.Dog_...</td>\n",
       "      <td>[834493, 452189, 140185, 1897316, 2189812, 424...</td>\n",
       "    </tr>\n",
       "  </tbody>\n",
       "</table>\n",
       "</div>"
      ],
      "text/plain": [
       "   book_id        isbn                                              title  \\\n",
       "0   287141  1599150603                      The Aeneid for Boys and Girls   \n",
       "1  6066812  1934876569  All's Fairy in Love and War (Avalon: Web of Ma...   \n",
       "2    89378  0590417010                                         Dog Heaven   \n",
       "\n",
       "                                         description  num_pages  \\\n",
       "0  Relates in vigorous prose the tale of Aeneas, ...      162.0   \n",
       "1  To Kara's astonishment, she discovers that a p...      216.0   \n",
       "2  In Newbery Medalist Cynthia Rylant's classic b...       40.0   \n",
       "\n",
       "                                  authors  ratings_count  average_rating  \\\n",
       "0  [{'author_id': '3041852', 'role': ''}]           46.0            4.13   \n",
       "1    [{'author_id': '19158', 'role': ''}]           98.0            4.22   \n",
       "2     [{'author_id': '5411', 'role': ''}]        1,331.0            4.43   \n",
       "\n",
       "                                           image_url  \\\n",
       "0  https://s.gr-assets.com/assets/nophoto/book/11...   \n",
       "1  https://images.gr-assets.com/books/1316637798m...   \n",
       "2  https://images.gr-assets.com/books/1360057676m...   \n",
       "\n",
       "                                                 url  \\\n",
       "0  https://www.goodreads.com/book/show/287141.The...   \n",
       "1  https://www.goodreads.com/book/show/6066812-al...   \n",
       "2  https://www.goodreads.com/book/show/89378.Dog_...   \n",
       "\n",
       "                                       similar_books  \n",
       "0                                                 []  \n",
       "1  [948696, 439885, 274955, 12978730, 372986, 216...  \n",
       "2  [834493, 452189, 140185, 1897316, 2189812, 424...  "
      ]
     },
     "execution_count": 60,
     "metadata": {},
     "output_type": "execute_result"
    }
   ],
   "source": [
    "keeplist = ['book_id', 'isbn', 'title', 'description','num_pages', 'authors', 'ratings_count', 'average_rating', 'image_url', 'url', 'similar_books']\n",
    "books = books[keeplist]\n",
    "books.head(3)"
   ]
  },
  {
   "cell_type": "code",
   "execution_count": 67,
   "id": "8d718467",
   "metadata": {},
   "outputs": [
    {
     "data": {
      "text/plain": [
       "book_id               0\n",
       "isbn                  0\n",
       "title                 0\n",
       "description       11770\n",
       "num_pages         22379\n",
       "authors               0\n",
       "ratings_count         0\n",
       "average_rating        0\n",
       "image_url             0\n",
       "url                   0\n",
       "similar_books         0\n",
       "dtype: int64"
      ]
     },
     "execution_count": 67,
     "metadata": {},
     "output_type": "execute_result"
    }
   ],
   "source": [
    "books.isna().sum()"
   ]
  },
  {
   "cell_type": "code",
   "execution_count": 62,
   "id": "ebd20e89",
   "metadata": {},
   "outputs": [
    {
     "data": {
      "text/plain": [
       "(94962, 11)"
      ]
     },
     "execution_count": 62,
     "metadata": {},
     "output_type": "execute_result"
    }
   ],
   "source": [
    "books.shape"
   ]
  },
  {
   "cell_type": "code",
   "execution_count": 68,
   "id": "2f61e0b4",
   "metadata": {},
   "outputs": [],
   "source": [
    "books = books.drop(books[books['average_rating']<3.5].index)"
   ]
  },
  {
   "cell_type": "code",
   "execution_count": 69,
   "id": "065680ee",
   "metadata": {},
   "outputs": [
    {
     "data": {
      "text/plain": [
       "(84705, 11)"
      ]
     },
     "execution_count": 69,
     "metadata": {},
     "output_type": "execute_result"
    }
   ],
   "source": [
    "books.shape"
   ]
  },
  {
   "cell_type": "code",
   "execution_count": 73,
   "id": "a87f77aa",
   "metadata": {},
   "outputs": [
    {
     "data": {
      "text/plain": [
       "(60004, 11)"
      ]
     },
     "execution_count": 73,
     "metadata": {},
     "output_type": "execute_result"
    }
   ],
   "source": [
    "# Let's drop books with no number of pages and description\n",
    "books.dropna(inplace=True)\n",
    "books.shape"
   ]
  },
  {
   "cell_type": "code",
   "execution_count": 322,
   "id": "6a7f2b3d",
   "metadata": {},
   "outputs": [],
   "source": [
    "# Let's set the book_id as index and then the book_id of books\n",
    "\n",
    "books = books.set_index('book_id')\n",
    "book_list = books.index"
   ]
  },
  {
   "cell_type": "markdown",
   "id": "befa9930",
   "metadata": {},
   "source": [
    "## 18. Authors <a class='anchor' id='authors'>\n",
    "    \n",
    "The Authors file includes author_id, rating and author name. The books data file includes the author_id. So we need to merge the two files by using the author_id as the key."
   ]
  },
  {
   "cell_type": "code",
   "execution_count": 76,
   "id": "1cb63f41",
   "metadata": {
    "scrolled": true
   },
   "outputs": [
    {
     "data": {
      "text/html": [
       "<div>\n",
       "<style scoped>\n",
       "    .dataframe tbody tr th:only-of-type {\n",
       "        vertical-align: middle;\n",
       "    }\n",
       "\n",
       "    .dataframe tbody tr th {\n",
       "        vertical-align: top;\n",
       "    }\n",
       "\n",
       "    .dataframe thead th {\n",
       "        text-align: right;\n",
       "    }\n",
       "</style>\n",
       "<table border=\"1\" class=\"dataframe\">\n",
       "  <thead>\n",
       "    <tr style=\"text-align: right;\">\n",
       "      <th></th>\n",
       "      <th>0</th>\n",
       "      <th>1</th>\n",
       "      <th>2</th>\n",
       "    </tr>\n",
       "  </thead>\n",
       "  <tbody>\n",
       "    <tr>\n",
       "      <th>average_rating</th>\n",
       "      <td>3.98</td>\n",
       "      <td>4.08</td>\n",
       "      <td>3.92</td>\n",
       "    </tr>\n",
       "    <tr>\n",
       "      <th>author_id</th>\n",
       "      <td>604031</td>\n",
       "      <td>626222</td>\n",
       "      <td>10333</td>\n",
       "    </tr>\n",
       "    <tr>\n",
       "      <th>text_reviews_count</th>\n",
       "      <td>7</td>\n",
       "      <td>28716</td>\n",
       "      <td>5075</td>\n",
       "    </tr>\n",
       "    <tr>\n",
       "      <th>name</th>\n",
       "      <td>Ronald J. Fields</td>\n",
       "      <td>Anita Diamant</td>\n",
       "      <td>Barbara Hambly</td>\n",
       "    </tr>\n",
       "    <tr>\n",
       "      <th>ratings_count</th>\n",
       "      <td>49</td>\n",
       "      <td>546796</td>\n",
       "      <td>122118</td>\n",
       "    </tr>\n",
       "  </tbody>\n",
       "</table>\n",
       "</div>"
      ],
      "text/plain": [
       "                                   0              1               2\n",
       "average_rating                  3.98           4.08            3.92\n",
       "author_id                     604031         626222           10333\n",
       "text_reviews_count                 7          28716            5075\n",
       "name                Ronald J. Fields  Anita Diamant  Barbara Hambly\n",
       "ratings_count                     49         546796          122118"
      ]
     },
     "execution_count": 76,
     "metadata": {},
     "output_type": "execute_result"
    }
   ],
   "source": [
    "authors = []\n",
    "filename = os.path.join(DIR, 'goodreads_book_authors.json.gz') \n",
    "with gzip.open(filename) as file:\n",
    "    for l in file:\n",
    "        \n",
    "        authors.append(json.loads(l))\n",
    "\n",
    "authors = pd.DataFrame(authors)\n",
    "authors.head(3).T"
   ]
  },
  {
   "cell_type": "code",
   "execution_count": 77,
   "id": "e5b294a7",
   "metadata": {},
   "outputs": [
    {
     "data": {
      "text/plain": [
       "(829529, 5)"
      ]
     },
     "execution_count": 77,
     "metadata": {},
     "output_type": "execute_result"
    }
   ],
   "source": [
    "authors.shape"
   ]
  },
  {
   "cell_type": "code",
   "execution_count": 326,
   "id": "4b049cca",
   "metadata": {},
   "outputs": [],
   "source": [
    "authors = authors.set_index('author_id')"
   ]
  },
  {
   "cell_type": "code",
   "execution_count": 327,
   "id": "e035bac7",
   "metadata": {},
   "outputs": [],
   "source": [
    "for book in book_list:\n",
    "    author_ids = re.findall('[0-9]+', books.loc[book,'authors'])\n",
    "    authors_names = []\n",
    "    for author_id in author_ids:\n",
    "        author_name = authors.loc[author_id, 'name']\n",
    "        authors_names.append(author_name)\n",
    "    books.at[book,'authors_names'] = authors_names\n",
    " "
   ]
  },
  {
   "cell_type": "markdown",
   "id": "509c1dbd",
   "metadata": {},
   "source": [
    "## 19. Genres <a class='anchor' id='genres'>"
   ]
  },
  {
   "cell_type": "code",
   "execution_count": 171,
   "id": "206cdc1f",
   "metadata": {},
   "outputs": [
    {
     "data": {
      "text/html": [
       "<div>\n",
       "<style scoped>\n",
       "    .dataframe tbody tr th:only-of-type {\n",
       "        vertical-align: middle;\n",
       "    }\n",
       "\n",
       "    .dataframe tbody tr th {\n",
       "        vertical-align: top;\n",
       "    }\n",
       "\n",
       "    .dataframe thead th {\n",
       "        text-align: right;\n",
       "    }\n",
       "</style>\n",
       "<table border=\"1\" class=\"dataframe\">\n",
       "  <thead>\n",
       "    <tr style=\"text-align: right;\">\n",
       "      <th></th>\n",
       "      <th>0</th>\n",
       "      <th>1</th>\n",
       "      <th>2</th>\n",
       "    </tr>\n",
       "  </thead>\n",
       "  <tbody>\n",
       "    <tr>\n",
       "      <th>book_id</th>\n",
       "      <td>5333265</td>\n",
       "      <td>1333909</td>\n",
       "      <td>7327624</td>\n",
       "    </tr>\n",
       "    <tr>\n",
       "      <th>genres</th>\n",
       "      <td>{'history, historical fiction, biography': 1}</td>\n",
       "      <td>{'fiction': 219, 'history, historical fiction,...</td>\n",
       "      <td>{'fantasy, paranormal': 31, 'fiction': 8, 'mys...</td>\n",
       "    </tr>\n",
       "  </tbody>\n",
       "</table>\n",
       "</div>"
      ],
      "text/plain": [
       "                                                     0  \\\n",
       "book_id                                        5333265   \n",
       "genres   {'history, historical fiction, biography': 1}   \n",
       "\n",
       "                                                         1  \\\n",
       "book_id                                            1333909   \n",
       "genres   {'fiction': 219, 'history, historical fiction,...   \n",
       "\n",
       "                                                         2  \n",
       "book_id                                            7327624  \n",
       "genres   {'fantasy, paranormal': 31, 'fiction': 8, 'mys...  "
      ]
     },
     "execution_count": 171,
     "metadata": {},
     "output_type": "execute_result"
    }
   ],
   "source": [
    "genres = []\n",
    "filename = os.path.join(DIR, 'goodreads_book_genres_initial.json.gz') \n",
    "with gzip.open(filename) as file:\n",
    "    for l in file:\n",
    "        \n",
    "        genres.append(json.loads(l))\n",
    "\n",
    "genres = pd.DataFrame(genres)\n",
    "genres.head(3).T"
   ]
  },
  {
   "cell_type": "code",
   "execution_count": 172,
   "id": "ce80f8a0",
   "metadata": {},
   "outputs": [
    {
     "data": {
      "text/plain": [
       "(2360655, 2)"
      ]
     },
     "execution_count": 172,
     "metadata": {},
     "output_type": "execute_result"
    }
   ],
   "source": [
    "genres.shape"
   ]
  },
  {
   "cell_type": "code",
   "execution_count": 173,
   "id": "4e7ec154",
   "metadata": {},
   "outputs": [],
   "source": [
    "# Let's filter and keep those books in our books data frame.\n",
    "genres =  genres.loc[genres['book_id'].isin(book_list)]"
   ]
  },
  {
   "cell_type": "code",
   "execution_count": 174,
   "id": "0060ff0b",
   "metadata": {},
   "outputs": [
    {
     "data": {
      "text/plain": [
       "(60004, 2)"
      ]
     },
     "execution_count": 174,
     "metadata": {},
     "output_type": "execute_result"
    }
   ],
   "source": [
    "genres.shape"
   ]
  },
  {
   "cell_type": "markdown",
   "id": "2d06e313",
   "metadata": {},
   "source": [
    "## 20. Book reviews <a class='anchor' id='reviews'>"
   ]
  },
  {
   "cell_type": "code",
   "execution_count": 112,
   "id": "0b96c0a9",
   "metadata": {},
   "outputs": [
    {
     "data": {
      "text/html": [
       "<div>\n",
       "<style scoped>\n",
       "    .dataframe tbody tr th:only-of-type {\n",
       "        vertical-align: middle;\n",
       "    }\n",
       "\n",
       "    .dataframe tbody tr th {\n",
       "        vertical-align: top;\n",
       "    }\n",
       "\n",
       "    .dataframe thead th {\n",
       "        text-align: right;\n",
       "    }\n",
       "</style>\n",
       "<table border=\"1\" class=\"dataframe\">\n",
       "  <thead>\n",
       "    <tr style=\"text-align: right;\">\n",
       "      <th></th>\n",
       "      <th>0</th>\n",
       "      <th>1</th>\n",
       "      <th>2</th>\n",
       "    </tr>\n",
       "  </thead>\n",
       "  <tbody>\n",
       "    <tr>\n",
       "      <th>user_id</th>\n",
       "      <td>8842281e1d1347389f2ab93d60773d4d</td>\n",
       "      <td>8842281e1d1347389f2ab93d60773d4d</td>\n",
       "      <td>8842281e1d1347389f2ab93d60773d4d</td>\n",
       "    </tr>\n",
       "    <tr>\n",
       "      <th>book_id</th>\n",
       "      <td>23310161</td>\n",
       "      <td>17290220</td>\n",
       "      <td>6954929</td>\n",
       "    </tr>\n",
       "    <tr>\n",
       "      <th>review_id</th>\n",
       "      <td>f4b4b050f4be00e9283c92a814af2670</td>\n",
       "      <td>22d424a2b0057b18fb6ecf017af7be92</td>\n",
       "      <td>50ed4431c451d5677d98dd25ca8ec106</td>\n",
       "    </tr>\n",
       "    <tr>\n",
       "      <th>rating</th>\n",
       "      <td>4</td>\n",
       "      <td>5</td>\n",
       "      <td>5</td>\n",
       "    </tr>\n",
       "    <tr>\n",
       "      <th>review_text</th>\n",
       "      <td>Fun sequel to the original.</td>\n",
       "      <td>One of my favorite books to read to my 5 year ...</td>\n",
       "      <td>One of the best and most imaginative childrens...</td>\n",
       "    </tr>\n",
       "    <tr>\n",
       "      <th>date_added</th>\n",
       "      <td>Tue Nov 17 11:37:35 -0800 2015</td>\n",
       "      <td>Sat Nov 08 08:54:03 -0800 2014</td>\n",
       "      <td>Thu Oct 23 13:46:20 -0700 2014</td>\n",
       "    </tr>\n",
       "    <tr>\n",
       "      <th>date_updated</th>\n",
       "      <td>Tue Nov 17 11:38:05 -0800 2015</td>\n",
       "      <td>Wed Jan 25 13:56:12 -0800 2017</td>\n",
       "      <td>Thu Oct 23 13:47:00 -0700 2014</td>\n",
       "    </tr>\n",
       "    <tr>\n",
       "      <th>read_at</th>\n",
       "      <td></td>\n",
       "      <td>Tue Jan 24 00:00:00 -0800 2017</td>\n",
       "      <td></td>\n",
       "    </tr>\n",
       "    <tr>\n",
       "      <th>started_at</th>\n",
       "      <td></td>\n",
       "      <td></td>\n",
       "      <td></td>\n",
       "    </tr>\n",
       "    <tr>\n",
       "      <th>n_votes</th>\n",
       "      <td>7</td>\n",
       "      <td>4</td>\n",
       "      <td>6</td>\n",
       "    </tr>\n",
       "    <tr>\n",
       "      <th>n_comments</th>\n",
       "      <td>0</td>\n",
       "      <td>0</td>\n",
       "      <td>1</td>\n",
       "    </tr>\n",
       "  </tbody>\n",
       "</table>\n",
       "</div>"
      ],
      "text/plain": [
       "                                             0  \\\n",
       "user_id       8842281e1d1347389f2ab93d60773d4d   \n",
       "book_id                               23310161   \n",
       "review_id     f4b4b050f4be00e9283c92a814af2670   \n",
       "rating                                       4   \n",
       "review_text        Fun sequel to the original.   \n",
       "date_added      Tue Nov 17 11:37:35 -0800 2015   \n",
       "date_updated    Tue Nov 17 11:38:05 -0800 2015   \n",
       "read_at                                          \n",
       "started_at                                       \n",
       "n_votes                                      7   \n",
       "n_comments                                   0   \n",
       "\n",
       "                                                              1  \\\n",
       "user_id                        8842281e1d1347389f2ab93d60773d4d   \n",
       "book_id                                                17290220   \n",
       "review_id                      22d424a2b0057b18fb6ecf017af7be92   \n",
       "rating                                                        5   \n",
       "review_text   One of my favorite books to read to my 5 year ...   \n",
       "date_added                       Sat Nov 08 08:54:03 -0800 2014   \n",
       "date_updated                     Wed Jan 25 13:56:12 -0800 2017   \n",
       "read_at                          Tue Jan 24 00:00:00 -0800 2017   \n",
       "started_at                                                        \n",
       "n_votes                                                       4   \n",
       "n_comments                                                    0   \n",
       "\n",
       "                                                              2  \n",
       "user_id                        8842281e1d1347389f2ab93d60773d4d  \n",
       "book_id                                                 6954929  \n",
       "review_id                      50ed4431c451d5677d98dd25ca8ec106  \n",
       "rating                                                        5  \n",
       "review_text   One of the best and most imaginative childrens...  \n",
       "date_added                       Thu Oct 23 13:46:20 -0700 2014  \n",
       "date_updated                     Thu Oct 23 13:47:00 -0700 2014  \n",
       "read_at                                                          \n",
       "started_at                                                       \n",
       "n_votes                                                       6  \n",
       "n_comments                                                    1  "
      ]
     },
     "execution_count": 112,
     "metadata": {},
     "output_type": "execute_result"
    }
   ],
   "source": [
    "reviews = []\n",
    "filename = os.path.join(DIR, 'goodreads_reviews_children.json.gz') \n",
    "with gzip.open(filename) as file:\n",
    "    for l in file:\n",
    "        \n",
    "        reviews.append(json.loads(l))\n",
    "\n",
    "reviews = pd.DataFrame(reviews)\n",
    "reviews.head(3).T"
   ]
  },
  {
   "cell_type": "markdown",
   "id": "c96b8294",
   "metadata": {},
   "source": [
    "### 20.1.  What do we need from reviews? <a class='anchor' id='separate'>\n",
    "\n",
    "We only need reviews for books in our cleaned book data file. We saved the list of book_ids. \n",
    "We need book_id, review_id, review_text, rating and n_votes, number of votes."
   ]
  },
  {
   "cell_type": "code",
   "execution_count": 113,
   "id": "1a0d2896",
   "metadata": {},
   "outputs": [
    {
     "name": "stdout",
     "output_type": "stream",
     "text": [
      "There are 734640 reviews.\n"
     ]
    }
   ],
   "source": [
    "print('There are {} reviews.'.format(reviews.shape[0]))"
   ]
  },
  {
   "cell_type": "code",
   "execution_count": 114,
   "id": "5aca9a12",
   "metadata": {},
   "outputs": [],
   "source": [
    "reviews_keep_list = ['book_id', 'review_id', 'rating', 'review_text', 'n_votes']\n",
    "reviews = reviews[reviews_keep_list]\n",
    "# Creating a mask to filter reviews\n",
    "\n",
    "mask = reviews['book_id'].isin(book_list)\n",
    "reviews = reviews[mask]"
   ]
  },
  {
   "cell_type": "code",
   "execution_count": 115,
   "id": "1ef9aed1",
   "metadata": {},
   "outputs": [],
   "source": [
    "col_names = ['book_id', 'positive_review', 'negative_review']\n",
    "data = []\n",
    "review_summary =pd.DataFrame(data, columns=col_names)\n",
    "\n",
    "for book in book_list:\n",
    "    critical_review = ','.join(list(reviews[(reviews['book_id'] == book) & (reviews['rating']<=3)]['review_text'].astype(str)))\n",
    "    positive_review = ','.join(list(reviews[(reviews['book_id'] == book) & (reviews['rating']>=4)]['review_text'].astype(str)))\n",
    "    new_record = {'book_id': book, 'positive_review': positive_review, 'negative_review': critical_review}\n",
    "    review_summary = review_summary.append(new_record, ignore_index = True)"
   ]
  },
  {
   "cell_type": "code",
   "execution_count": 116,
   "id": "98aba311",
   "metadata": {},
   "outputs": [
    {
     "data": {
      "text/html": [
       "<div>\n",
       "<style scoped>\n",
       "    .dataframe tbody tr th:only-of-type {\n",
       "        vertical-align: middle;\n",
       "    }\n",
       "\n",
       "    .dataframe tbody tr th {\n",
       "        vertical-align: top;\n",
       "    }\n",
       "\n",
       "    .dataframe thead th {\n",
       "        text-align: right;\n",
       "    }\n",
       "</style>\n",
       "<table border=\"1\" class=\"dataframe\">\n",
       "  <thead>\n",
       "    <tr style=\"text-align: right;\">\n",
       "      <th></th>\n",
       "      <th>book_id</th>\n",
       "      <th>positive_review</th>\n",
       "      <th>negative_review</th>\n",
       "    </tr>\n",
       "  </thead>\n",
       "  <tbody>\n",
       "    <tr>\n",
       "      <th>0</th>\n",
       "      <td>287141</td>\n",
       "      <td>Once again, my kids loved this book about anci...</td>\n",
       "      <td></td>\n",
       "    </tr>\n",
       "    <tr>\n",
       "      <th>1</th>\n",
       "      <td>6066812</td>\n",
       "      <td></td>\n",
       "      <td>This was a really cute book, though to be hone...</td>\n",
       "    </tr>\n",
       "    <tr>\n",
       "      <th>2</th>\n",
       "      <td>89378</td>\n",
       "      <td>Really cute, sweet, and charming.,This beautif...</td>\n",
       "      <td>I probably would have liked this book more if ...</td>\n",
       "    </tr>\n",
       "    <tr>\n",
       "      <th>3</th>\n",
       "      <td>1698376</td>\n",
       "      <td></td>\n",
       "      <td>Colourful. Fun to read. My daughter enjoys thi...</td>\n",
       "    </tr>\n",
       "    <tr>\n",
       "      <th>4</th>\n",
       "      <td>3631900</td>\n",
       "      <td>My nine-year-old son and I enjoyed this book a...</td>\n",
       "      <td>This is an enjoyable book, and Amadi is an eng...</td>\n",
       "    </tr>\n",
       "  </tbody>\n",
       "</table>\n",
       "</div>"
      ],
      "text/plain": [
       "   book_id                                    positive_review  \\\n",
       "0   287141  Once again, my kids loved this book about anci...   \n",
       "1  6066812                                                      \n",
       "2    89378  Really cute, sweet, and charming.,This beautif...   \n",
       "3  1698376                                                      \n",
       "4  3631900  My nine-year-old son and I enjoyed this book a...   \n",
       "\n",
       "                                     negative_review  \n",
       "0                                                     \n",
       "1  This was a really cute book, though to be hone...  \n",
       "2  I probably would have liked this book more if ...  \n",
       "3  Colourful. Fun to read. My daughter enjoys thi...  \n",
       "4  This is an enjoyable book, and Amadi is an eng...  "
      ]
     },
     "execution_count": 116,
     "metadata": {},
     "output_type": "execute_result"
    }
   ],
   "source": [
    "review_summary.head()"
   ]
  },
  {
   "cell_type": "code",
   "execution_count": 117,
   "id": "22e366f2",
   "metadata": {},
   "outputs": [],
   "source": [
    "SavePath = 'C:\\\\Users\\\\somfl\\\\Documents\\\\GitHub\\\\Somayeh_Youssefi\\\\Book Recomendation System\\\\data_files\\\\Review_summary.csv'\n",
    "reviews.to_csv(SavePath, sep =',')"
   ]
  },
  {
   "cell_type": "markdown",
   "id": "6aee2139",
   "metadata": {},
   "source": [
    "## 21. Merge files <a class='anchor' id='merge'>"
   ]
  },
  {
   "cell_type": "code",
   "execution_count": 330,
   "id": "76009774",
   "metadata": {},
   "outputs": [],
   "source": [
    "genres['book_id'] = genres['book_id'].astype(str)\n",
    "\n",
    "df = books.merge(genres, on='book_id', how='inner')"
   ]
  },
  {
   "cell_type": "code",
   "execution_count": 331,
   "id": "583991a7",
   "metadata": {},
   "outputs": [],
   "source": [
    "df = df.merge(review_summary, on='book_id', how='inner')"
   ]
  },
  {
   "cell_type": "code",
   "execution_count": 332,
   "id": "188f0753",
   "metadata": {},
   "outputs": [
    {
     "data": {
      "text/html": [
       "<div>\n",
       "<style scoped>\n",
       "    .dataframe tbody tr th:only-of-type {\n",
       "        vertical-align: middle;\n",
       "    }\n",
       "\n",
       "    .dataframe tbody tr th {\n",
       "        vertical-align: top;\n",
       "    }\n",
       "\n",
       "    .dataframe thead th {\n",
       "        text-align: right;\n",
       "    }\n",
       "</style>\n",
       "<table border=\"1\" class=\"dataframe\">\n",
       "  <thead>\n",
       "    <tr style=\"text-align: right;\">\n",
       "      <th></th>\n",
       "      <th>book_id</th>\n",
       "      <th>isbn</th>\n",
       "      <th>title</th>\n",
       "      <th>description</th>\n",
       "      <th>num_pages</th>\n",
       "      <th>authors</th>\n",
       "      <th>ratings_count</th>\n",
       "      <th>average_rating</th>\n",
       "      <th>image_url</th>\n",
       "      <th>url</th>\n",
       "      <th>similar_books</th>\n",
       "      <th>authors_names</th>\n",
       "      <th>genres</th>\n",
       "      <th>positive_review</th>\n",
       "      <th>negative_review</th>\n",
       "    </tr>\n",
       "  </thead>\n",
       "  <tbody>\n",
       "    <tr>\n",
       "      <th>0</th>\n",
       "      <td>287141</td>\n",
       "      <td>1599150603</td>\n",
       "      <td>The Aeneid for Boys and Girls</td>\n",
       "      <td>Relates in vigorous prose the tale of Aeneas, ...</td>\n",
       "      <td>162.0</td>\n",
       "      <td>[{'author_id': '3041852', 'role': ''}]</td>\n",
       "      <td>46.0</td>\n",
       "      <td>4.13</td>\n",
       "      <td>https://s.gr-assets.com/assets/nophoto/book/11...</td>\n",
       "      <td>https://www.goodreads.com/book/show/287141.The...</td>\n",
       "      <td>[]</td>\n",
       "      <td>[Alfred J. Church]</td>\n",
       "      <td>{'history, historical fiction, biography': 9, ...</td>\n",
       "      <td>Once again, my kids loved this book about anci...</td>\n",
       "      <td></td>\n",
       "    </tr>\n",
       "    <tr>\n",
       "      <th>1</th>\n",
       "      <td>6066812</td>\n",
       "      <td>1934876569</td>\n",
       "      <td>All's Fairy in Love and War (Avalon: Web of Ma...</td>\n",
       "      <td>To Kara's astonishment, she discovers that a p...</td>\n",
       "      <td>216.0</td>\n",
       "      <td>[{'author_id': '19158', 'role': ''}]</td>\n",
       "      <td>98.0</td>\n",
       "      <td>4.22</td>\n",
       "      <td>https://images.gr-assets.com/books/1316637798m...</td>\n",
       "      <td>https://www.goodreads.com/book/show/6066812-al...</td>\n",
       "      <td>[948696, 439885, 274955, 12978730, 372986, 216...</td>\n",
       "      <td>[Rachel Roberts]</td>\n",
       "      <td>{'fantasy, paranormal': 32, 'young-adult': 8, ...</td>\n",
       "      <td></td>\n",
       "      <td>This was a really cute book, though to be hone...</td>\n",
       "    </tr>\n",
       "    <tr>\n",
       "      <th>2</th>\n",
       "      <td>89378</td>\n",
       "      <td>0590417010</td>\n",
       "      <td>Dog Heaven</td>\n",
       "      <td>In Newbery Medalist Cynthia Rylant's classic b...</td>\n",
       "      <td>40.0</td>\n",
       "      <td>[{'author_id': '5411', 'role': ''}]</td>\n",
       "      <td>1,331.0</td>\n",
       "      <td>4.43</td>\n",
       "      <td>https://images.gr-assets.com/books/1360057676m...</td>\n",
       "      <td>https://www.goodreads.com/book/show/89378.Dog_...</td>\n",
       "      <td>[834493, 452189, 140185, 1897316, 2189812, 424...</td>\n",
       "      <td>[Cynthia Rylant]</td>\n",
       "      <td>{'children': 109, 'fiction': 13, 'non-fiction'...</td>\n",
       "      <td>Really cute, sweet, and charming.,This beautif...</td>\n",
       "      <td>I probably would have liked this book more if ...</td>\n",
       "    </tr>\n",
       "    <tr>\n",
       "      <th>3</th>\n",
       "      <td>1698376</td>\n",
       "      <td>1416904999</td>\n",
       "      <td>What Do You Do?</td>\n",
       "      <td>WHAT DO YOU DO?\\nA hen lays eggs...\\nA cow giv...</td>\n",
       "      <td>24.0</td>\n",
       "      <td>[{'author_id': '169159', 'role': ''}]</td>\n",
       "      <td>23.0</td>\n",
       "      <td>3.57</td>\n",
       "      <td>https://s.gr-assets.com/assets/nophoto/book/11...</td>\n",
       "      <td>https://www.goodreads.com/book/show/1698376.Wh...</td>\n",
       "      <td>[]</td>\n",
       "      <td>[Mandy Stanley]</td>\n",
       "      <td>{'children': 6}</td>\n",
       "      <td></td>\n",
       "      <td>Colourful. Fun to read. My daughter enjoys thi...</td>\n",
       "    </tr>\n",
       "    <tr>\n",
       "      <th>4</th>\n",
       "      <td>3631900</td>\n",
       "      <td>0884482987</td>\n",
       "      <td>Amadi's Snowman: A Story of Reading</td>\n",
       "      <td>When Amadi disobeys his mother and runs off to...</td>\n",
       "      <td>32.0</td>\n",
       "      <td>[{'author_id': '1540277', 'role': ''}, {'autho...</td>\n",
       "      <td>44.0</td>\n",
       "      <td>3.89</td>\n",
       "      <td>https://images.gr-assets.com/books/1300370678m...</td>\n",
       "      <td>https://www.goodreads.com/book/show/3631900-am...</td>\n",
       "      <td>[]</td>\n",
       "      <td>[Katia Novet Saint-Lot, Dimitrea Tokunbo]</td>\n",
       "      <td>{'fiction': 6, 'children': 8, 'young-adult': 1}</td>\n",
       "      <td>My nine-year-old son and I enjoyed this book a...</td>\n",
       "      <td>This is an enjoyable book, and Amadi is an eng...</td>\n",
       "    </tr>\n",
       "  </tbody>\n",
       "</table>\n",
       "</div>"
      ],
      "text/plain": [
       "   book_id        isbn                                              title  \\\n",
       "0   287141  1599150603                      The Aeneid for Boys and Girls   \n",
       "1  6066812  1934876569  All's Fairy in Love and War (Avalon: Web of Ma...   \n",
       "2    89378  0590417010                                         Dog Heaven   \n",
       "3  1698376  1416904999                                    What Do You Do?   \n",
       "4  3631900  0884482987                Amadi's Snowman: A Story of Reading   \n",
       "\n",
       "                                         description  num_pages  \\\n",
       "0  Relates in vigorous prose the tale of Aeneas, ...      162.0   \n",
       "1  To Kara's astonishment, she discovers that a p...      216.0   \n",
       "2  In Newbery Medalist Cynthia Rylant's classic b...       40.0   \n",
       "3  WHAT DO YOU DO?\\nA hen lays eggs...\\nA cow giv...       24.0   \n",
       "4  When Amadi disobeys his mother and runs off to...       32.0   \n",
       "\n",
       "                                             authors  ratings_count  \\\n",
       "0             [{'author_id': '3041852', 'role': ''}]           46.0   \n",
       "1               [{'author_id': '19158', 'role': ''}]           98.0   \n",
       "2                [{'author_id': '5411', 'role': ''}]        1,331.0   \n",
       "3              [{'author_id': '169159', 'role': ''}]           23.0   \n",
       "4  [{'author_id': '1540277', 'role': ''}, {'autho...           44.0   \n",
       "\n",
       "   average_rating                                          image_url  \\\n",
       "0            4.13  https://s.gr-assets.com/assets/nophoto/book/11...   \n",
       "1            4.22  https://images.gr-assets.com/books/1316637798m...   \n",
       "2            4.43  https://images.gr-assets.com/books/1360057676m...   \n",
       "3            3.57  https://s.gr-assets.com/assets/nophoto/book/11...   \n",
       "4            3.89  https://images.gr-assets.com/books/1300370678m...   \n",
       "\n",
       "                                                 url  \\\n",
       "0  https://www.goodreads.com/book/show/287141.The...   \n",
       "1  https://www.goodreads.com/book/show/6066812-al...   \n",
       "2  https://www.goodreads.com/book/show/89378.Dog_...   \n",
       "3  https://www.goodreads.com/book/show/1698376.Wh...   \n",
       "4  https://www.goodreads.com/book/show/3631900-am...   \n",
       "\n",
       "                                       similar_books  \\\n",
       "0                                                 []   \n",
       "1  [948696, 439885, 274955, 12978730, 372986, 216...   \n",
       "2  [834493, 452189, 140185, 1897316, 2189812, 424...   \n",
       "3                                                 []   \n",
       "4                                                 []   \n",
       "\n",
       "                               authors_names  \\\n",
       "0                         [Alfred J. Church]   \n",
       "1                           [Rachel Roberts]   \n",
       "2                           [Cynthia Rylant]   \n",
       "3                            [Mandy Stanley]   \n",
       "4  [Katia Novet Saint-Lot, Dimitrea Tokunbo]   \n",
       "\n",
       "                                              genres  \\\n",
       "0  {'history, historical fiction, biography': 9, ...   \n",
       "1  {'fantasy, paranormal': 32, 'young-adult': 8, ...   \n",
       "2  {'children': 109, 'fiction': 13, 'non-fiction'...   \n",
       "3                                    {'children': 6}   \n",
       "4    {'fiction': 6, 'children': 8, 'young-adult': 1}   \n",
       "\n",
       "                                     positive_review  \\\n",
       "0  Once again, my kids loved this book about anci...   \n",
       "1                                                      \n",
       "2  Really cute, sweet, and charming.,This beautif...   \n",
       "3                                                      \n",
       "4  My nine-year-old son and I enjoyed this book a...   \n",
       "\n",
       "                                     negative_review  \n",
       "0                                                     \n",
       "1  This was a really cute book, though to be hone...  \n",
       "2  I probably would have liked this book more if ...  \n",
       "3  Colourful. Fun to read. My daughter enjoys thi...  \n",
       "4  This is an enjoyable book, and Amadi is an eng...  "
      ]
     },
     "execution_count": 332,
     "metadata": {},
     "output_type": "execute_result"
    }
   ],
   "source": [
    "df.head()"
   ]
  },
  {
   "cell_type": "markdown",
   "id": "66692ebf",
   "metadata": {},
   "source": [
    "\n",
    "\n",
    "I realized some of the description filed are actually reference to websites. These need to be dropped."
   ]
  },
  {
   "cell_type": "code",
   "execution_count": 334,
   "id": "9b1afa7f",
   "metadata": {},
   "outputs": [],
   "source": [
    "descrip =[]\n",
    "for i in range(len(books)):\n",
    "               text = str(df.loc[i, 'description'])\n",
    "               if (text.startswith('http'))|(text=='none'):\n",
    "                   descrip.append(i)\n"
   ]
  },
  {
   "cell_type": "code",
   "execution_count": 340,
   "id": "81bf8a5b",
   "metadata": {},
   "outputs": [
    {
     "data": {
      "text/plain": [
       "7"
      ]
     },
     "execution_count": 340,
     "metadata": {},
     "output_type": "execute_result"
    }
   ],
   "source": [
    "len(descrip)"
   ]
  },
  {
   "cell_type": "code",
   "execution_count": 337,
   "id": "33846810",
   "metadata": {},
   "outputs": [],
   "source": [
    "df.drop(descrip, axis=0, inplace=True)"
   ]
  },
  {
   "cell_type": "code",
   "execution_count": 338,
   "id": "2f287687",
   "metadata": {},
   "outputs": [],
   "source": [
    "# Let's save the final data file that has all neccessary info\n",
    "\n",
    "SavePath = 'C:\\\\Users\\\\somfl\\\\Documents\\\\GitHub\\\\Somayeh_Youssefi\\\\Book Recomendation System\\\\data_files\\\\CleanedBooks.csv'\n",
    "df.to_csv(SavePath, sep =',')"
   ]
  },
  {
   "cell_type": "markdown",
   "id": "8e18db14",
   "metadata": {},
   "source": [
    "## 22. Summary <a class='anchor' id='summary'>"
   ]
  },
  {
   "cell_type": "markdown",
   "id": "339115c1",
   "metadata": {},
   "source": [
    "In this notebook, "
   ]
  }
 ],
 "metadata": {
  "kernelspec": {
   "display_name": "Python 3",
   "language": "python",
   "name": "python3"
  },
  "language_info": {
   "codemirror_mode": {
    "name": "ipython",
    "version": 3
   },
   "file_extension": ".py",
   "mimetype": "text/x-python",
   "name": "python",
   "nbconvert_exporter": "python",
   "pygments_lexer": "ipython3",
   "version": "3.8.8"
  }
 },
 "nbformat": 4,
 "nbformat_minor": 5
}
