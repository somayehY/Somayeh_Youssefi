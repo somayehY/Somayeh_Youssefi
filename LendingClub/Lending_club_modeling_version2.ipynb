{
 "cells": [
  {
   "cell_type": "code",
   "execution_count": 9,
   "id": "33bb49fb",
   "metadata": {},
   "outputs": [],
   "source": [
    "import pandas as pd\n",
    "import matplotlib.pyplot as plt\n",
    "import seaborn as sns\n",
    "import os\n",
    "import numpy as np\n",
    "\n",
    "from sklearn.decomposition import PCA\n",
    "from sklearn.preprocessing import scale\n",
    "from sklearn.compose import make_column_selector as selector\n",
    "from sklearn.model_selection import train_test_split, cross_validate, GridSearchCV, learning_curve\n",
    "from sklearn.preprocessing import MinMaxScaler, OneHotEncoder\n",
    "from sklearn import tree, metrics\n",
    "from IPython.display import Image  \n",
    "import pydotplus\n",
    "\n",
    "from xgboost import XGBClassifier, cv, plot_importance\n",
    "from sklearn.ensemble import RandomForestClassifier\n",
    "\n",
    "from sklearn.metrics import classification_report, roc_auc_score, f1_score, precision_recall_curve, accuracy_score, confusion_matrix, balanced_accuracy_score\n",
    "from sklearn.linear_model import LogisticRegression\n",
    "\n",
    "from sklearn.pipeline import make_pipeline\n",
    "from sklearn.pipeline import Pipeline\n",
    "\n",
    "\n",
    "from sklearn.metrics import fbeta_score, make_scorer\n",
    "\n",
    "import itertools\n",
    "\n",
    "import warnings\n",
    "warnings.filterwarnings('ignore')\n",
    "\n",
    "from imblearn.under_sampling import RandomUnderSampler\n",
    "\n",
    "from sklearn.feature_selection import SelectKBest, chi2\n",
    "from sklearn.compose import ColumnTransformer\n",
    "\n",
    "import datetime\n",
    "\n",
    "import pickle\n"
   ]
  },
  {
   "cell_type": "code",
   "execution_count": 4,
   "id": "81d289ad",
   "metadata": {},
   "outputs": [],
   "source": [
    "SavePath = \"C:\\\\Users\\\\somfl\\\\Documents\\\\Data Science Career Track\\\\LendingClub\\\\LendingClubClean.csv\"\n",
    "df = pd.read_csv(SavePath, sep=',', index_col=0)"
   ]
  },
  {
   "cell_type": "code",
   "execution_count": 5,
   "id": "703f3c9b",
   "metadata": {},
   "outputs": [
    {
     "data": {
      "text/html": [
       "<div>\n",
       "<style scoped>\n",
       "    .dataframe tbody tr th:only-of-type {\n",
       "        vertical-align: middle;\n",
       "    }\n",
       "\n",
       "    .dataframe tbody tr th {\n",
       "        vertical-align: top;\n",
       "    }\n",
       "\n",
       "    .dataframe thead th {\n",
       "        text-align: right;\n",
       "    }\n",
       "</style>\n",
       "<table border=\"1\" class=\"dataframe\">\n",
       "  <thead>\n",
       "    <tr style=\"text-align: right;\">\n",
       "      <th></th>\n",
       "      <th>revol_util</th>\n",
       "      <th>dti</th>\n",
       "      <th>chargeoff_within_12_mths</th>\n",
       "      <th>collections_12_mths_ex_med</th>\n",
       "      <th>inq_last_6mths</th>\n",
       "      <th>open_acc</th>\n",
       "      <th>mort_acc</th>\n",
       "      <th>annual_inc</th>\n",
       "      <th>sub_grade</th>\n",
       "      <th>loan_status</th>\n",
       "      <th>...</th>\n",
       "      <th>term</th>\n",
       "      <th>revol_bal</th>\n",
       "      <th>emp_length</th>\n",
       "      <th>home_ownership</th>\n",
       "      <th>num_rev_accts</th>\n",
       "      <th>pub_rec_bankruptcies</th>\n",
       "      <th>tax_liens</th>\n",
       "      <th>loan_amnt</th>\n",
       "      <th>Credit Length (year)</th>\n",
       "      <th>fico_score</th>\n",
       "    </tr>\n",
       "  </thead>\n",
       "  <tbody>\n",
       "    <tr>\n",
       "      <th>0</th>\n",
       "      <td>29.7</td>\n",
       "      <td>5.91</td>\n",
       "      <td>0.0</td>\n",
       "      <td>0.0</td>\n",
       "      <td>1.0</td>\n",
       "      <td>7.0</td>\n",
       "      <td>1.0</td>\n",
       "      <td>55000.0</td>\n",
       "      <td>C4</td>\n",
       "      <td>Fully Paid</td>\n",
       "      <td>...</td>\n",
       "      <td>36 months</td>\n",
       "      <td>2765.0</td>\n",
       "      <td>10 years up</td>\n",
       "      <td>MORTGAGE</td>\n",
       "      <td>9.0</td>\n",
       "      <td>0.0</td>\n",
       "      <td>0.0</td>\n",
       "      <td>3600.0</td>\n",
       "      <td>12.334271</td>\n",
       "      <td>697.064619</td>\n",
       "    </tr>\n",
       "    <tr>\n",
       "      <th>1</th>\n",
       "      <td>19.2</td>\n",
       "      <td>16.06</td>\n",
       "      <td>0.0</td>\n",
       "      <td>0.0</td>\n",
       "      <td>4.0</td>\n",
       "      <td>22.0</td>\n",
       "      <td>4.0</td>\n",
       "      <td>65000.0</td>\n",
       "      <td>C1</td>\n",
       "      <td>Fully Paid</td>\n",
       "      <td>...</td>\n",
       "      <td>36 months</td>\n",
       "      <td>21470.0</td>\n",
       "      <td>10 years up</td>\n",
       "      <td>MORTGAGE</td>\n",
       "      <td>27.0</td>\n",
       "      <td>0.0</td>\n",
       "      <td>0.0</td>\n",
       "      <td>24700.0</td>\n",
       "      <td>16.000329</td>\n",
       "      <td>697.064619</td>\n",
       "    </tr>\n",
       "    <tr>\n",
       "      <th>3</th>\n",
       "      <td>64.5</td>\n",
       "      <td>25.37</td>\n",
       "      <td>0.0</td>\n",
       "      <td>0.0</td>\n",
       "      <td>3.0</td>\n",
       "      <td>12.0</td>\n",
       "      <td>6.0</td>\n",
       "      <td>104433.0</td>\n",
       "      <td>F1</td>\n",
       "      <td>Fully Paid</td>\n",
       "      <td>...</td>\n",
       "      <td>60 months</td>\n",
       "      <td>21929.0</td>\n",
       "      <td>3 years</td>\n",
       "      <td>MORTGAGE</td>\n",
       "      <td>19.0</td>\n",
       "      <td>0.0</td>\n",
       "      <td>0.0</td>\n",
       "      <td>10400.0</td>\n",
       "      <td>17.500702</td>\n",
       "      <td>697.064619</td>\n",
       "    </tr>\n",
       "    <tr>\n",
       "      <th>4</th>\n",
       "      <td>68.4</td>\n",
       "      <td>10.20</td>\n",
       "      <td>0.0</td>\n",
       "      <td>0.0</td>\n",
       "      <td>0.0</td>\n",
       "      <td>5.0</td>\n",
       "      <td>0.0</td>\n",
       "      <td>34000.0</td>\n",
       "      <td>C3</td>\n",
       "      <td>Fully Paid</td>\n",
       "      <td>...</td>\n",
       "      <td>36 months</td>\n",
       "      <td>8822.0</td>\n",
       "      <td>4 years</td>\n",
       "      <td>RENT</td>\n",
       "      <td>4.0</td>\n",
       "      <td>0.0</td>\n",
       "      <td>0.0</td>\n",
       "      <td>11950.0</td>\n",
       "      <td>28.167587</td>\n",
       "      <td>697.064619</td>\n",
       "    </tr>\n",
       "  </tbody>\n",
       "</table>\n",
       "<p>4 rows × 22 columns</p>\n",
       "</div>"
      ],
      "text/plain": [
       "   revol_util    dti  chargeoff_within_12_mths  collections_12_mths_ex_med  \\\n",
       "0        29.7   5.91                       0.0                         0.0   \n",
       "1        19.2  16.06                       0.0                         0.0   \n",
       "3        64.5  25.37                       0.0                         0.0   \n",
       "4        68.4  10.20                       0.0                         0.0   \n",
       "\n",
       "   inq_last_6mths  open_acc  mort_acc  annual_inc sub_grade loan_status  ...  \\\n",
       "0             1.0       7.0       1.0     55000.0        C4  Fully Paid  ...   \n",
       "1             4.0      22.0       4.0     65000.0        C1  Fully Paid  ...   \n",
       "3             3.0      12.0       6.0    104433.0        F1  Fully Paid  ...   \n",
       "4             0.0       5.0       0.0     34000.0        C3  Fully Paid  ...   \n",
       "\n",
       "         term  revol_bal   emp_length  home_ownership num_rev_accts  \\\n",
       "0   36 months     2765.0  10 years up        MORTGAGE           9.0   \n",
       "1   36 months    21470.0  10 years up        MORTGAGE          27.0   \n",
       "3   60 months    21929.0      3 years        MORTGAGE          19.0   \n",
       "4   36 months     8822.0      4 years            RENT           4.0   \n",
       "\n",
       "  pub_rec_bankruptcies  tax_liens  loan_amnt  Credit Length (year)  fico_score  \n",
       "0                  0.0        0.0     3600.0             12.334271  697.064619  \n",
       "1                  0.0        0.0    24700.0             16.000329  697.064619  \n",
       "3                  0.0        0.0    10400.0             17.500702  697.064619  \n",
       "4                  0.0        0.0    11950.0             28.167587  697.064619  \n",
       "\n",
       "[4 rows x 22 columns]"
      ]
     },
     "execution_count": 5,
     "metadata": {},
     "output_type": "execute_result"
    }
   ],
   "source": [
    "df.head(4)"
   ]
  },
  {
   "cell_type": "code",
   "execution_count": 6,
   "id": "6f266a30",
   "metadata": {},
   "outputs": [
    {
     "data": {
      "text/plain": [
       "Index(['revol_util', 'dti', 'chargeoff_within_12_mths',\n",
       "       'collections_12_mths_ex_med', 'inq_last_6mths', 'open_acc', 'mort_acc',\n",
       "       'annual_inc', 'sub_grade', 'loan_status', 'installment', 'int_rate',\n",
       "       'term', 'revol_bal', 'emp_length', 'home_ownership', 'num_rev_accts',\n",
       "       'pub_rec_bankruptcies', 'tax_liens', 'loan_amnt',\n",
       "       'Credit Length (year)', 'fico_score'],\n",
       "      dtype='object')"
      ]
     },
     "execution_count": 6,
     "metadata": {},
     "output_type": "execute_result"
    }
   ],
   "source": [
    "df.columns"
   ]
  },
  {
   "cell_type": "code",
   "execution_count": 44,
   "id": "adf1f5a8",
   "metadata": {},
   "outputs": [],
   "source": [
    "categorical_columns = ['sub_grade', 'term', 'emp_length', 'home_ownership']\n",
    "numerical_columns = ['revol_util', 'dti', 'chargeoff_within_12_mths', 'collections_12_mths_ex_med', 'inq_last_6mths', \n",
    "                     'open_acc', 'mort_acc', 'annual_inc', 'installment', 'int_rate', 'revol_bal', 'num_rev_accts',\n",
    "                     'pub_rec_bankruptcies', 'tax_liens', 'loan_amnt', 'Credit Length (year)', 'fico_score']\n",
    "\n",
    "y = df['loan_status']\n",
    "X = df[numerical_columns + categorical_columns]\n",
    "\n",
    "X_cols = X.columns\n",
    "y_col = ['status']\n",
    "\n",
    "# Undersample\n",
    "Xn = X.to_numpy()\n",
    "yn = y.to_numpy()\n",
    "random_state=42\n",
    "RU = RandomUnderSampler()\n",
    "X_res, y_res = RU.fit_resample(Xn,yn)\n",
    "\n",
    "X_res = pd.DataFrame(X_res, columns = X_cols)\n",
    "y_res = pd.DataFrame(y_res, columns = y_col)\n",
    "\n",
    "X_train, X_test, y_train, y_test = train_test_split(X_res, y_res, stratify=y_res, test_size=0.25, random_state=42)\n",
    "\n",
    "categorical_pipe = Pipeline(steps=[('encoder', OneHotEncoder(drop='if_binary'))])\n",
    "numerical_pipe = Pipeline(steps=[('scaler', MinMaxScaler())])\n",
    "\n",
    "preprocessing = ColumnTransformer(\n",
    "    [\n",
    "        (\"cat\", categorical_pipe, categorical_columns),\n",
    "        (\"num\", numerical_pipe, numerical_columns),\n",
    "    ]\n",
    ")\n"
   ]
  },
  {
   "cell_type": "code",
   "execution_count": 28,
   "id": "26a431ab",
   "metadata": {},
   "outputs": [
    {
     "data": {
      "text/plain": [
       "(1206759, 21)"
      ]
     },
     "execution_count": 28,
     "metadata": {},
     "output_type": "execute_result"
    }
   ],
   "source": [
    "X.shape"
   ]
  },
  {
   "cell_type": "code",
   "execution_count": null,
   "id": "e7f12f99",
   "metadata": {},
   "outputs": [],
   "source": []
  },
  {
   "cell_type": "code",
   "execution_count": 45,
   "id": "6e67d48f",
   "metadata": {},
   "outputs": [],
   "source": [
    "lr = Pipeline(\n",
    "    [\n",
    "        (\"preprocess\", preprocessing),\n",
    "        (\"classifier\", LogisticRegression(random_state=42))\n",
    "    ]\n",
    ")"
   ]
  },
  {
   "cell_type": "code",
   "execution_count": 46,
   "id": "d90ca94d",
   "metadata": {},
   "outputs": [
    {
     "data": {
      "text/plain": [
       "array([0.65193061, 0.65431862, 0.65081254, 0.65166987, 0.65352527])"
      ]
     },
     "execution_count": 46,
     "metadata": {},
     "output_type": "execute_result"
    }
   ],
   "source": [
    "cv_results = cross_validate(lr, X_train, y_train, scoring = 'balanced_accuracy', cv=5)\n",
    "cv_scores = cv_results['test_score']\n",
    "cv_scores"
   ]
  },
  {
   "cell_type": "code",
   "execution_count": 47,
   "id": "14626db4",
   "metadata": {},
   "outputs": [
    {
     "data": {
      "text/plain": [
       "GridSearchCV(cv=5,\n",
       "             estimator=Pipeline(steps=[('preprocess',\n",
       "                                        ColumnTransformer(transformers=[('cat',\n",
       "                                                                         Pipeline(steps=[('encoder',\n",
       "                                                                                          OneHotEncoder(drop='if_binary'))]),\n",
       "                                                                         ['sub_grade',\n",
       "                                                                          'term',\n",
       "                                                                          'emp_length',\n",
       "                                                                          'home_ownership']),\n",
       "                                                                        ('num',\n",
       "                                                                         Pipeline(steps=[('scaler',\n",
       "                                                                                          MinMaxScaler())]),\n",
       "                                                                         ['revol_util',\n",
       "                                                                          'dti',\n",
       "                                                                          'chargeoff_within_12_mths',\n",
       "                                                                          'collections_12_mths_ex_med',\n",
       "                                                                          'inq_last_6mths',\n",
       "                                                                          'open_acc',\n",
       "                                                                          'mort_acc',\n",
       "                                                                          'annual_inc',\n",
       "                                                                          'installment',\n",
       "                                                                          'int_rate',\n",
       "                                                                          'revol_bal',\n",
       "                                                                          'num_rev_accts',\n",
       "                                                                          'pub_rec_bankruptcies',\n",
       "                                                                          'tax_liens',\n",
       "                                                                          'loan_amnt',\n",
       "                                                                          'Credit '\n",
       "                                                                          'Length '\n",
       "                                                                          '(year)',\n",
       "                                                                          'fico_score'])])),\n",
       "                                       ('classifier',\n",
       "                                        LogisticRegression(random_state=42))]),\n",
       "             n_jobs=-1,\n",
       "             param_grid={'classifier__C': [0.1, 100],\n",
       "                         'classifier__penalty': ['l1', 'l2']},\n",
       "             scoring='balanced_accuracy')"
      ]
     },
     "execution_count": 47,
     "metadata": {},
     "output_type": "execute_result"
    }
   ],
   "source": [
    "# Define a set of parameters for grid search\n",
    "grid_params = {'classifier__penalty': ['l1','l2'],\n",
    "               'classifier__C': [0.1,100]          \n",
    "}\n",
    "\n",
    "# Perform grid search\n",
    "grid_cv = GridSearchCV(lr, param_grid=grid_params, cv=5, scoring = 'balanced_accuracy', n_jobs=-1)\n",
    "grid_cv.fit(X_train, y_train)"
   ]
  },
  {
   "cell_type": "code",
   "execution_count": 48,
   "id": "3ce97c13",
   "metadata": {},
   "outputs": [
    {
     "data": {
      "image/png": "[encoded data removed]",
      "text/plain": [
       "<Figure size 720x432 with 1 Axes>"
      ]
     },
     "metadata": {
      "needs_background": "light"
     },
     "output_type": "display_data"
    },
    {
     "data": {
      "image/png": "[encoded data removed]",
      "text/plain": [
       "<Figure size 432x288 with 1 Axes>"
      ]
     },
     "metadata": {
      "needs_background": "light"
     },
     "output_type": "display_data"
    }
   ],
   "source": [
    "from sklearn.inspection import permutation_importance\n",
    "result = permutation_importance(\n",
    "    grid_cv.best_estimator_, X_test, y_test, n_repeats=10, random_state=42, n_jobs=2\n",
    ")\n",
    "sorted_idx = result.importances_mean.argsort()\n",
    "\n",
    "fig, ax = plt.subplots(figsize=(10,6))\n",
    "ax.boxplot(\n",
    "    result.importances[sorted_idx].T, vert=False, labels=X_test.columns[sorted_idx]\n",
    ")\n",
    "ax.set_title(\"Feature importance\")\n",
    "fig.tight_layout()\n",
    "plt.show()\n",
    "\n",
    "\n",
    "y_pred = grid_cv.best_estimator_.predict(X_test)\n",
    "y_prob = grid_cv.best_estimator_.predict_proba(X_test)\n",
    "probs = y_prob[:,1]\n",
    "FalsePositiveRate, TruePositiveRate, threshold = metrics.roc_curve(y_test, probs, pos_label='Fully Paid')\n",
    "roc_auc = metrics.auc(FalsePositiveRate, TruePositiveRate)\n",
    "\n",
    "plt.title('Receiver Operating Characteristic with sub_grade')\n",
    "plt.plot(FalsePositiveRate, TruePositiveRate, 'b', label = 'AUC = %0.2f' % roc_auc)\n",
    "plt.legend(loc = 'lower right')\n",
    "plt.plot([0, 1], [0, 1],'r--')\n",
    "plt.xlim([0, 1])\n",
    "plt.ylim([0, 1])\n",
    "plt.ylabel('True Positive Rate')\n",
    "plt.xlabel('False Positive Rate')\n",
    "plt.show()"
   ]
  },
  {
   "cell_type": "code",
   "execution_count": null,
   "id": "445b20c5",
   "metadata": {},
   "outputs": [],
   "source": []
  },
  {
   "cell_type": "code",
   "execution_count": 35,
   "id": "3cb87a99",
   "metadata": {},
   "outputs": [
    {
     "data": {
      "image/png": "[encoded data removed]",
      "text/plain": [
       "<Figure size 720x432 with 1 Axes>"
      ]
     },
     "metadata": {
      "needs_background": "light"
     },
     "output_type": "display_data"
    }
   ],
   "source": [
    "categorical_columns = ['term', 'emp_length', 'home_ownership']\n",
    "numerical_columns = ['revol_util', 'dti', 'chargeoff_within_12_mths', 'collections_12_mths_ex_med', 'inq_last_6mths', \n",
    "                     'open_acc', 'mort_acc', 'annual_inc', 'installment', 'int_rate', 'revol_bal', 'num_rev_accts',\n",
    "                     'pub_rec_bankruptcies', 'tax_liens', 'loan_amnt', 'Credit Length (year)', 'fico_score']\n",
    "\n",
    "y = df['loan_status']\n",
    "X = df[numerical_columns + categorical_columns]\n",
    "\n",
    "X_cols = X.columns\n",
    "y_col = ['status']\n",
    "\n",
    "# Undersample\n",
    "Xn = X.to_numpy()\n",
    "yn = y.to_numpy()\n",
    "random_state=42\n",
    "RU = RandomUnderSampler()\n",
    "X_res, y_res = RU.fit_resample(Xn,yn)\n",
    "\n",
    "X_res = pd.DataFrame(X_res, columns = X_cols)\n",
    "y_res = pd.DataFrame(y_res, columns = y_col)\n",
    "\n",
    "X_train, X_test, y_train, y_test = train_test_split(X_res, y_res, stratify=y_res, test_size=0.25, random_state=42)\n",
    "\n",
    "categorical_pipe = Pipeline(steps=[('encoder', OneHotEncoder(drop='if_binary'))])\n",
    "numerical_pipe = Pipeline(steps=[('scaler', MinMaxScaler())])\n",
    "\n",
    "preprocessing = ColumnTransformer(\n",
    "    [\n",
    "        (\"cat\", categorical_pipe, categorical_columns),\n",
    "        (\"num\", numerical_pipe, numerical_columns),\n",
    "    ]\n",
    ")\n",
    "\n",
    "lr = Pipeline(\n",
    "    [\n",
    "        (\"preprocess\", preprocessing),\n",
    "        (\"classifier\", LogisticRegression(random_state=42))\n",
    "    ]\n",
    ")\n",
    "\n",
    "grid_params = {'classifier__penalty': ['l1','l2'],\n",
    "               'classifier__C': [0.1,100]          \n",
    "}\n",
    "\n",
    "# Perform grid search\n",
    "grid_cv = GridSearchCV(lr, param_grid=grid_params, cv=5, scoring = 'balanced_accuracy', n_jobs=-1)\n",
    "grid_cv.fit(X_train, y_train)\n",
    "\n",
    "result = permutation_importance(\n",
    "    grid_cv.best_estimator_, X_test, y_test, n_repeats=10, random_state=42, n_jobs=2\n",
    ")\n",
    "sorted_idx = result.importances_mean.argsort()\n",
    "\n",
    "fig, ax = plt.subplots(figsize=(10,6))\n",
    "ax.boxplot(\n",
    "    result.importances[sorted_idx].T, vert=False, labels=X_test.columns[sorted_idx]\n",
    ")\n",
    "ax.set_title(\"Feature importance\")\n",
    "fig.tight_layout()\n",
    "plt.show()"
   ]
  },
  {
   "cell_type": "code",
   "execution_count": 36,
   "id": "ded7aa1b",
   "metadata": {},
   "outputs": [
    {
     "data": {
      "image/png": "[encoded data removed]",
      "text/plain": [
       "<Figure size 720x432 with 1 Axes>"
      ]
     },
     "metadata": {
      "needs_background": "light"
     },
     "output_type": "display_data"
    }
   ],
   "source": [
    "categorical_columns = ['term', 'emp_length', 'home_ownership']\n",
    "numerical_columns = ['revol_util', 'dti', 'chargeoff_within_12_mths', 'collections_12_mths_ex_med', 'inq_last_6mths', \n",
    "                     'open_acc', 'mort_acc', 'annual_inc', 'installment', 'revol_bal', 'num_rev_accts',\n",
    "                     'pub_rec_bankruptcies', 'tax_liens', 'loan_amnt', 'Credit Length (year)', 'fico_score']\n",
    "\n",
    "y = df['loan_status']\n",
    "X = df[numerical_columns + categorical_columns]\n",
    "\n",
    "X_cols = X.columns\n",
    "y_col = ['status']\n",
    "\n",
    "# Undersample\n",
    "Xn = X.to_numpy()\n",
    "yn = y.to_numpy()\n",
    "random_state=42\n",
    "RU = RandomUnderSampler()\n",
    "X_res, y_res = RU.fit_resample(Xn,yn)\n",
    "\n",
    "X_res = pd.DataFrame(X_res, columns = X_cols)\n",
    "y_res = pd.DataFrame(y_res, columns = y_col)\n",
    "\n",
    "X_train, X_test, y_train, y_test = train_test_split(X_res, y_res, stratify=y_res, test_size=0.25, random_state=42)\n",
    "\n",
    "categorical_pipe = Pipeline(steps=[('encoder', OneHotEncoder(drop='if_binary'))])\n",
    "numerical_pipe = Pipeline(steps=[('scaler', MinMaxScaler())])\n",
    "\n",
    "preprocessing = ColumnTransformer(\n",
    "    [\n",
    "        (\"cat\", categorical_pipe, categorical_columns),\n",
    "        (\"num\", numerical_pipe, numerical_columns),\n",
    "    ]\n",
    ")\n",
    "\n",
    "lr = Pipeline(\n",
    "    [\n",
    "        (\"preprocess\", preprocessing),\n",
    "        (\"classifier\", LogisticRegression(random_state=42))\n",
    "    ]\n",
    ")\n",
    "\n",
    "grid_params = {'classifier__penalty': ['l1','l2'],\n",
    "               'classifier__C': [0.1,100]          \n",
    "}\n",
    "\n",
    "# Perform grid search\n",
    "grid_cv = GridSearchCV(lr, param_grid=grid_params, cv=5, scoring = 'balanced_accuracy', n_jobs=-1)\n",
    "grid_cv.fit(X_train, y_train)\n",
    "\n",
    "result = permutation_importance(\n",
    "    grid_cv.best_estimator_, X_test, y_test, n_repeats=10, random_state=42, n_jobs=2\n",
    ")\n",
    "sorted_idx = result.importances_mean.argsort()\n",
    "\n",
    "fig, ax = plt.subplots(figsize=(10,6))\n",
    "ax.boxplot(\n",
    "    result.importances[sorted_idx].T, vert=False, labels=X_test.columns[sorted_idx]\n",
    ")\n",
    "ax.set_title(\"Feature importance\")\n",
    "fig.tight_layout()\n",
    "plt.show()"
   ]
  },
  {
   "cell_type": "code",
   "execution_count": 43,
   "id": "669652e3",
   "metadata": {},
   "outputs": [
    {
     "data": {
      "image/png": "[encoded data removed]",
      "text/plain": [
       "<Figure size 432x288 with 1 Axes>"
      ]
     },
     "metadata": {
      "needs_background": "light"
     },
     "output_type": "display_data"
    }
   ],
   "source": [
    "y_pred = grid_cv.best_estimator_.predict(X_test)\n",
    "y_prob = grid_cv.best_estimator_.predict_proba(X_test)\n",
    "probs = y_prob[:,1]\n",
    "FalsePositiveRate, TruePositiveRate, threshold = metrics.roc_curve(y_test, probs, pos_label='Fully Paid')\n",
    "roc_auc = metrics.auc(FalsePositiveRate, TruePositiveRate)\n",
    "\n",
    "plt.title('Receiver Operating Characteristic')\n",
    "plt.plot(FalsePositiveRate, TruePositiveRate, 'b', label = 'AUC = %0.2f' % roc_auc)\n",
    "plt.legend(loc = 'lower right')\n",
    "plt.plot([0, 1], [0, 1],'r--')\n",
    "plt.xlim([0, 1])\n",
    "plt.ylim([0, 1])\n",
    "plt.ylabel('True Positive Rate')\n",
    "plt.xlabel('False Positive Rate')\n",
    "plt.show()"
   ]
  },
  {
   "cell_type": "code",
   "execution_count": null,
   "id": "5dbf8ae2",
   "metadata": {},
   "outputs": [],
   "source": []
  },
  {
   "cell_type": "code",
   "execution_count": null,
   "id": "3be73bea",
   "metadata": {},
   "outputs": [],
   "source": []
  },
  {
   "cell_type": "code",
   "execution_count": null,
   "id": "8ee1a5b3",
   "metadata": {},
   "outputs": [],
   "source": []
  },
  {
   "cell_type": "code",
   "execution_count": null,
   "id": "f7ac215a",
   "metadata": {},
   "outputs": [],
   "source": []
  },
  {
   "cell_type": "code",
   "execution_count": null,
   "id": "c8b3f137",
   "metadata": {},
   "outputs": [],
   "source": []
  },
  {
   "cell_type": "code",
   "execution_count": null,
   "id": "e7022f95",
   "metadata": {},
   "outputs": [],
   "source": []
  },
  {
   "cell_type": "code",
   "execution_count": null,
   "id": "5c98c618",
   "metadata": {},
   "outputs": [],
   "source": []
  },
  {
   "cell_type": "code",
   "execution_count": null,
   "id": "a1ad46c4",
   "metadata": {},
   "outputs": [],
   "source": [
    "y = df['loan_status']\n",
    "X = df.drop(columns=['loan_status'])\n",
    "\n",
    "# Choose the categorical columns\n",
    "col_num =X.shape[1]\n",
    "categorical_columns_selector = selector(dtype_include=object)\n",
    "categorical_columns = categorical_columns_selector(X)\n",
    "\n",
    "# One Hot encode\n",
    "\n",
    "enc = OneHotEncoder(drop='if_binary')\n",
    "enc_df = pd.DataFrame(enc.fit_transform(X[categorical_columns]).toarray())\n",
    "feature_names = enc.get_feature_names(input_features=categorical_columns)\n",
    "enc_df.columns = feature_names\n",
    "X.drop(columns=categorical_columns, inplace=True)\n",
    "# merge with main df bridge_df on key values\n",
    "X =X.join(enc_df)\n",
    "#X.set_index('id', inplace=True)\n",
    "print('The new X has the columns added by One Hot Encoder, which has increased the number of columns from {} to {}'.format(col_num, X.shape[1]))\n",
    "\n",
    "Xcol_names = X.columns\n",
    "ycol_name =['Status']\n",
    "\n",
    "# Undersample\n",
    "Xn = X.to_numpy()\n",
    "yn = y.to_numpy()\n",
    "random_state=42\n",
    "RU = RandomUnderSampler()\n",
    "X_res, y_res = RU.fit_resample(Xn,yn)\n",
    "\n",
    "# Split\n",
    "X_train, X_test, y_train, y_test = train_test_split(X_res, y_res, test_size=0.3, random_state=47)\n",
    "\n",
    "# Change back to panads dataframe\n",
    "X_train = pd.DataFrame(X_train, columns=Xcol_names)\n",
    "X_test = pd.DataFrame(X_test, columns=Xcol_names)\n",
    "y_train = pd.DataFrame(y_train, columns=ycol_name)\n",
    "y_test = pd.DataFrame(y_test, columns=ycol_name)\n"
   ]
  }
 ],
 "metadata": {
  "kernelspec": {
   "display_name": "Python 3",
   "language": "python",
   "name": "python3"
  },
  "language_info": {
   "codemirror_mode": {
    "name": "ipython",
    "version": 3
   },
   "file_extension": ".py",
   "mimetype": "text/x-python",
   "name": "python",
   "nbconvert_exporter": "python",
   "pygments_lexer": "ipython3",
   "version": "3.8.8"
  }
 },
 "nbformat": 4,
 "nbformat_minor": 5
}
