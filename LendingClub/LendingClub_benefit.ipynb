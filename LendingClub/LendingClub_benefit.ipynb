{
 "cells": [
  {
   "cell_type": "markdown",
   "id": "00f00ebe",
   "metadata": {},
   "source": [
    "# How much money Lending Club has lost through loan defaultation?\n",
    "\n",
    "In order to find out the answer, we look through the original data file and will estimate _loss_ for defaulted loans.\n",
    "\n",
    "_loss_ is defined as the difference between the expected amount and total payment.\n",
    "The expected amount is estimated by the loan term multiplied by monthly installment. The total payment as well as the date of last payment both are available. \n",
    "\n"
   ]
  },
  {
   "cell_type": "code",
   "execution_count": 111,
   "id": "a9b4d05f",
   "metadata": {},
   "outputs": [],
   "source": [
    "import pandas as pd\n",
    "import matplotlib.pyplot as plt\n",
    "import seaborn as sns\n",
    "import os\n",
    "import numpy as np\n",
    "\n",
    "import pickle\n",
    "import warnings\n",
    "warnings.filterwarnings('ignore')\n",
    "\n",
    "import matplotlib.pyplot as plt\n",
    "import seaborn as sns\n",
    "\n",
    "from sklearn.compose import make_column_selector as selector\n",
    "from sklearn.model_selection import train_test_split, cross_validate, GridSearchCV, learning_curve\n",
    "from sklearn.preprocessing import MinMaxScaler, OneHotEncoder\n",
    "from sklearn import tree, metrics\n",
    "from IPython.display import Image  \n",
    "import pydotplus\n",
    "\n",
    "from xgboost import XGBClassifier, cv, plot_importance\n",
    "from sklearn.ensemble import RandomForestClassifier\n",
    "\n",
    "from sklearn.metrics import classification_report, roc_auc_score, f1_score, precision_recall_curve, accuracy_score, confusion_matrix, balanced_accuracy_score\n",
    "from sklearn.linear_model import LogisticRegression\n",
    "\n",
    "from sklearn.pipeline import make_pipeline\n",
    "\n",
    "from sklearn.metrics import fbeta_score, make_scorer\n",
    "\n",
    "import itertools\n",
    "\n",
    "import warnings\n",
    "warnings.filterwarnings('ignore')\n",
    "\n",
    "from imblearn.under_sampling import RandomUnderSampler\n",
    "\n",
    "from sklearn.feature_selection import SelectKBest, chi2\n",
    "from sklearn.compose import ColumnTransformer\n",
    "\n",
    "import datetime\n",
    "\n",
    "import pickle"
   ]
  },
  {
   "cell_type": "code",
   "execution_count": 143,
   "id": "21b0a514",
   "metadata": {},
   "outputs": [],
   "source": [
    "filepath = \"C:\\\\Users\\\\somfl\\\\Documents\\\\Data Science Career Track\\\\LendingClub\\\\accepted_2007_to_2018Q4.csv\"\n",
    "df = pd.read_csv(filepath)"
   ]
  },
  {
   "cell_type": "code",
   "execution_count": 144,
   "id": "67f8e02c",
   "metadata": {},
   "outputs": [],
   "source": [
    "# Defining a new column 'new_status' and combine 'Charged Off' and 'Default' as well as any 'late' loans into one status\n",
    "\n",
    "df['new_status'] = df['loan_status']\n",
    "df.loc[df['loan_status']=='Late (31-120 days)', 'new_status'] = 'Default'\n",
    "df.loc[df['loan_status']=='In Grace Period', 'new_status'] = 'Default'\n",
    "df.loc[df['loan_status']=='Late (16-30 days)', 'new_status'] = 'Default'\n",
    "df.loc[df['loan_status']=='Charged Off', 'new_status'] = 'Default'\n",
    "df.loc[df['loan_status']=='Does not meet the credit policy. Status:Fully Paid', 'new_status'] = 'Fully Paid'\n",
    "df.loc[df['loan_status']=='Does not meet the credit policy. Status:Charged Off', 'new_status'] = 'Default'\n",
    "\n",
    "\n",
    "df.drop(columns='loan_status', inplace=True)"
   ]
  },
  {
   "cell_type": "code",
   "execution_count": 145,
   "id": "49a632b5",
   "metadata": {},
   "outputs": [],
   "source": [
    "## Defining a dataframe that holds financial relevent data \n",
    "financial=df[['id', 'new_status', 'loan_amnt', 'issue_d', 'installment', 'int_rate', 'term', 'last_pymnt_d',\\\n",
    "                 'total_pymnt', 'total_rec_late_fee']]"
   ]
  },
  {
   "cell_type": "code",
   "execution_count": 147,
   "id": "343f5e05",
   "metadata": {},
   "outputs": [],
   "source": [
    "# Find the time(the number of month after the beginning of loan term) that a loan owner stops paying their loan\n",
    "\n",
    "financial['pay_length'] = (pd.to_datetime(financial['last_pymnt_d'])- pd.to_datetime(financial['issue_d']))*12/np.timedelta64(1,'Y')\n",
    "financial['pay_length'] =round(financial['pay_length'])\n"
   ]
  },
  {
   "cell_type": "code",
   "execution_count": 148,
   "id": "7beba044",
   "metadata": {},
   "outputs": [],
   "source": [
    "## Choosing only defaulted loans\n",
    "data = financial.loc[df['new_status']=='Default']"
   ]
  },
  {
   "cell_type": "code",
   "execution_count": 149,
   "id": "043fc918",
   "metadata": {},
   "outputs": [],
   "source": [
    "# Define a function to change the term from object type to numerical value, to be able to use it in loss calculation\n",
    "def term_num(x):\n",
    "    if x == '36 months':\n",
    "        return 36\n",
    "    else:\n",
    "        return 60\n",
    "\n",
    "data['Term'] = data.term.apply(term_num)\n"
   ]
  },
  {
   "cell_type": "code",
   "execution_count": 151,
   "id": "09e908d8",
   "metadata": {},
   "outputs": [],
   "source": [
    "# Estimate the expected amount an applicant should pay by the end of their term\n",
    "data['expected'] = data['Term']*data['installment']"
   ]
  },
  {
   "cell_type": "code",
   "execution_count": 152,
   "id": "b23b9c55",
   "metadata": {},
   "outputs": [],
   "source": [
    "# Estimate loss as the \n",
    "data['loss'] = data['expected'] - data['total_pymnt']"
   ]
  },
  {
   "cell_type": "code",
   "execution_count": 159,
   "id": "62f441d3",
   "metadata": {},
   "outputs": [],
   "source": [
    "data['term_per'] = data['pay_length']/data['Term']"
   ]
  },
  {
   "cell_type": "code",
   "execution_count": 153,
   "id": "8ef9282c",
   "metadata": {},
   "outputs": [],
   "source": [
    "data.drop(columns=['new_status', 'term', 'issue_d', 'last_pymnt_d'], axis=1, inplace=True)"
   ]
  },
  {
   "cell_type": "code",
   "execution_count": 154,
   "id": "2e9e0075",
   "metadata": {},
   "outputs": [],
   "source": [
    "data.loc[data['loss']<0, 'loss']=0"
   ]
  },
  {
   "cell_type": "code",
   "execution_count": 160,
   "id": "8c6ff1d5",
   "metadata": {},
   "outputs": [
    {
     "data": {
      "text/html": [
       "<div>\n",
       "<style scoped>\n",
       "    .dataframe tbody tr th:only-of-type {\n",
       "        vertical-align: middle;\n",
       "    }\n",
       "\n",
       "    .dataframe tbody tr th {\n",
       "        vertical-align: top;\n",
       "    }\n",
       "\n",
       "    .dataframe thead th {\n",
       "        text-align: right;\n",
       "    }\n",
       "</style>\n",
       "<table border=\"1\" class=\"dataframe\">\n",
       "  <thead>\n",
       "    <tr style=\"text-align: right;\">\n",
       "      <th></th>\n",
       "      <th>id</th>\n",
       "      <th>loan_amnt</th>\n",
       "      <th>installment</th>\n",
       "      <th>int_rate</th>\n",
       "      <th>total_pymnt</th>\n",
       "      <th>total_rec_late_fee</th>\n",
       "      <th>pay_length</th>\n",
       "      <th>Term</th>\n",
       "      <th>expected</th>\n",
       "      <th>loss</th>\n",
       "      <th>term_per</th>\n",
       "    </tr>\n",
       "  </thead>\n",
       "  <tbody>\n",
       "    <tr>\n",
       "      <th>13</th>\n",
       "      <td>66624733</td>\n",
       "      <td>18000.0</td>\n",
       "      <td>471.70</td>\n",
       "      <td>19.48</td>\n",
       "      <td>9452.74</td>\n",
       "      <td>0.00</td>\n",
       "      <td>17.0</td>\n",
       "      <td>60</td>\n",
       "      <td>28302.0</td>\n",
       "      <td>18849.26</td>\n",
       "      <td>0.283333</td>\n",
       "    </tr>\n",
       "    <tr>\n",
       "      <th>25</th>\n",
       "      <td>67849662</td>\n",
       "      <td>4225.0</td>\n",
       "      <td>146.16</td>\n",
       "      <td>14.85</td>\n",
       "      <td>2558.87</td>\n",
       "      <td>0.00</td>\n",
       "      <td>16.0</td>\n",
       "      <td>60</td>\n",
       "      <td>8769.6</td>\n",
       "      <td>6210.73</td>\n",
       "      <td>0.266667</td>\n",
       "    </tr>\n",
       "    <tr>\n",
       "      <th>30</th>\n",
       "      <td>67715283</td>\n",
       "      <td>16000.0</td>\n",
       "      <td>538.18</td>\n",
       "      <td>12.88</td>\n",
       "      <td>17396.63</td>\n",
       "      <td>161.46</td>\n",
       "      <td>35.0</td>\n",
       "      <td>60</td>\n",
       "      <td>32290.8</td>\n",
       "      <td>14894.17</td>\n",
       "      <td>0.583333</td>\n",
       "    </tr>\n",
       "    <tr>\n",
       "      <th>31</th>\n",
       "      <td>68341789</td>\n",
       "      <td>24250.0</td>\n",
       "      <td>701.01</td>\n",
       "      <td>24.24</td>\n",
       "      <td>4124.42</td>\n",
       "      <td>0.00</td>\n",
       "      <td>7.0</td>\n",
       "      <td>60</td>\n",
       "      <td>42060.6</td>\n",
       "      <td>37936.18</td>\n",
       "      <td>0.116667</td>\n",
       "    </tr>\n",
       "  </tbody>\n",
       "</table>\n",
       "</div>"
      ],
      "text/plain": [
       "          id  loan_amnt  installment  int_rate  total_pymnt  \\\n",
       "13  66624733    18000.0       471.70     19.48      9452.74   \n",
       "25  67849662     4225.0       146.16     14.85      2558.87   \n",
       "30  67715283    16000.0       538.18     12.88     17396.63   \n",
       "31  68341789    24250.0       701.01     24.24      4124.42   \n",
       "\n",
       "    total_rec_late_fee  pay_length  Term  expected      loss  term_per  \n",
       "13                0.00        17.0    60   28302.0  18849.26  0.283333  \n",
       "25                0.00        16.0    60    8769.6   6210.73  0.266667  \n",
       "30              161.46        35.0    60   32290.8  14894.17  0.583333  \n",
       "31                0.00         7.0    60   42060.6  37936.18  0.116667  "
      ]
     },
     "execution_count": 160,
     "metadata": {},
     "output_type": "execute_result"
    }
   ],
   "source": [
    "data.head(4)"
   ]
  },
  {
   "cell_type": "code",
   "execution_count": 166,
   "id": "b54b06e2",
   "metadata": {},
   "outputs": [
    {
     "data": {
      "text/plain": [
       "array([[<AxesSubplot:title={'center':'term_per'}>,\n",
       "        <AxesSubplot:title={'center':'loss'}>],\n",
       "       [<AxesSubplot:title={'center':'pay_length'}>, <AxesSubplot:>]],\n",
       "      dtype=object)"
      ]
     },
     "execution_count": 166,
     "metadata": {},
     "output_type": "execute_result"
    },
    {
     "data": {
      "image/png": "[encoded data removed]",
      "text/plain": [
       "<Figure size 1080x720 with 4 Axes>"
      ]
     },
     "metadata": {
      "needs_background": "light"
     },
     "output_type": "display_data"
    }
   ],
   "source": [
    "data[['term_per', 'loss', 'pay_length']].hist(figsize=(15,10))"
   ]
  },
  {
   "cell_type": "code",
   "execution_count": null,
   "id": "01a85123",
   "metadata": {},
   "outputs": [],
   "source": []
  },
  {
   "cell_type": "markdown",
   "id": "ff9e701f",
   "metadata": {},
   "source": [
    "# How much money would Lending Club save?\n",
    "\n",
    "Load the data."
   ]
  },
  {
   "cell_type": "code",
   "execution_count": 106,
   "id": "d94a0d59",
   "metadata": {},
   "outputs": [],
   "source": [
    "df = pd.read_csv(\"C:\\\\Users\\\\somfl\\\\Documents\\\\Data Science Career Track\\\\LendingClub\\\\LendingClubClean.csv\")\n",
    "df = df.drop(columns=['Unnamed: 0'])"
   ]
  },
  {
   "cell_type": "markdown",
   "id": "651c19d2",
   "metadata": {},
   "source": [
    "Load the model"
   ]
  },
  {
   "cell_type": "code",
   "execution_count": 109,
   "id": "c5f6e415",
   "metadata": {},
   "outputs": [],
   "source": [
    "model = pickle.load(open(\"XGBoost_model\", \"rb\"))"
   ]
  },
  {
   "cell_type": "code",
   "execution_count": 112,
   "id": "aebfac7d",
   "metadata": {},
   "outputs": [],
   "source": [
    "# Preprocess the data to apply model.\n",
    "\n",
    "y = df['Status']\n",
    "X = df.drop(columns=['Status', 'grade'])\n",
    "\n",
    "\n",
    "\n",
    "ycol_name =['Status']\n",
    "categorical_columns_selector = selector(dtype_include=object)\n",
    "categorical_columns = categorical_columns_selector(X)\n",
    "\n",
    "# One Hot encode\n",
    "\n",
    "enc = OneHotEncoder(drop='if_binary')\n",
    "enc_df = pd.DataFrame(enc.fit_transform(X[categorical_columns]).toarray())\n",
    "feature_names = enc.get_feature_names(input_features=categorical_columns)\n",
    "enc_df.columns = feature_names\n",
    "X.drop(columns=categorical_columns, inplace=True)\n",
    "# merge with main df bridge_df on key values\n",
    "X =X.join(enc_df)\n",
    "Xcol_names = X.columns\n",
    "#X.set_index('id', inplace=True)\n",
    "Xn = X.to_numpy()\n",
    "yn = y.to_numpy()\n",
    "\n",
    "random_state=42\n",
    "RU = RandomUnderSampler()\n",
    "X_res, y_res = RU.fit_resample(Xn,yn)\n",
    "X_res = pd.DataFrame(X_res, columns=Xcol_names)\n",
    "\n",
    "id = X_res['id']\n",
    "\n",
    "X_res.drop(columns='id', axis=1, inplace=True)\n",
    "X_res = X_res.to_numpy()"
   ]
  },
  {
   "cell_type": "code",
   "execution_count": null,
   "id": "20bfc350",
   "metadata": {},
   "outputs": [],
   "source": [
    "## Define a pipeline and fit the model"
   ]
  },
  {
   "cell_type": "code",
   "execution_count": 113,
   "id": "282a5b9b",
   "metadata": {},
   "outputs": [
    {
     "name": "stdout",
     "output_type": "stream",
     "text": [
      "[10:15:13] WARNING: ..\\src\\learner.cc:541: \n",
      "Parameters: { n_estimator } might not be used.\n",
      "\n",
      "  This may not be accurate due to some parameters are only used in language bindings but\n",
      "  passed down to XGBoost core.  Or some parameters are not used but slip through this\n",
      "  verification. Please open an issue if you find above cases.\n",
      "\n",
      "\n",
      "[10:15:14] WARNING: ..\\src\\learner.cc:1061: Starting in XGBoost 1.3.0, the default evaluation metric used with the objective 'binary:logistic' was changed from 'error' to 'logloss'. Explicitly set eval_metric if you'd like to restore the old behavior.\n"
     ]
    }
   ],
   "source": [
    "pipeXGbest = make_pipeline(MinMaxScaler(), model)\n",
    "result = pipeXGbest.fit(X_res, y_res)"
   ]
  },
  {
   "cell_type": "code",
   "execution_count": 114,
   "id": "fccfd7f8",
   "metadata": {},
   "outputs": [],
   "source": [
    "y_pred = pipeXGbest.predict(X_res)"
   ]
  },
  {
   "cell_type": "code",
   "execution_count": 167,
   "id": "e6210fe6",
   "metadata": {},
   "outputs": [],
   "source": [
    "model_prediction = pd.concat({'loan_status': pd.Series(y_res), 'predicted_status': pd.Series(y_pred)}, axis=1)\n",
    "model_prediction.index = id\n"
   ]
  },
  {
   "cell_type": "code",
   "execution_count": 168,
   "id": "cbcaa59c",
   "metadata": {},
   "outputs": [],
   "source": [
    "results = model_prediction.merge(data, how='left', left_on='id', right_on='id')"
   ]
  },
  {
   "cell_type": "code",
   "execution_count": 129,
   "id": "140dc7d7",
   "metadata": {},
   "outputs": [],
   "source": [
    "results_saving = results.loc[(results['loan_status']=='Default') & (results['predicted_status']=='Default'), :]"
   ]
  },
  {
   "cell_type": "code",
   "execution_count": 170,
   "id": "a1547d75",
   "metadata": {},
   "outputs": [
    {
     "data": {
      "text/html": [
       "<div>\n",
       "<style scoped>\n",
       "    .dataframe tbody tr th:only-of-type {\n",
       "        vertical-align: middle;\n",
       "    }\n",
       "\n",
       "    .dataframe tbody tr th {\n",
       "        vertical-align: top;\n",
       "    }\n",
       "\n",
       "    .dataframe thead th {\n",
       "        text-align: right;\n",
       "    }\n",
       "</style>\n",
       "<table border=\"1\" class=\"dataframe\">\n",
       "  <thead>\n",
       "    <tr style=\"text-align: right;\">\n",
       "      <th></th>\n",
       "      <th>loan_status</th>\n",
       "      <th>predicted_status</th>\n",
       "      <th>id</th>\n",
       "      <th>loan_amnt</th>\n",
       "      <th>installment</th>\n",
       "      <th>int_rate</th>\n",
       "      <th>total_pymnt</th>\n",
       "      <th>total_rec_late_fee</th>\n",
       "      <th>pay_length</th>\n",
       "      <th>Term</th>\n",
       "      <th>expected</th>\n",
       "      <th>loss</th>\n",
       "    </tr>\n",
       "  </thead>\n",
       "  <tbody>\n",
       "    <tr>\n",
       "      <th>0</th>\n",
       "      <td>Default</td>\n",
       "      <td>Default</td>\n",
       "      <td>66624733.0</td>\n",
       "      <td>18000.0</td>\n",
       "      <td>471.70</td>\n",
       "      <td>19.48</td>\n",
       "      <td>9452.74</td>\n",
       "      <td>0.00</td>\n",
       "      <td>17.0</td>\n",
       "      <td>60.0</td>\n",
       "      <td>28302.0</td>\n",
       "      <td>18849.26</td>\n",
       "    </tr>\n",
       "    <tr>\n",
       "      <th>1</th>\n",
       "      <td>Default</td>\n",
       "      <td>Default</td>\n",
       "      <td>67849662.0</td>\n",
       "      <td>4225.0</td>\n",
       "      <td>146.16</td>\n",
       "      <td>14.85</td>\n",
       "      <td>2558.87</td>\n",
       "      <td>0.00</td>\n",
       "      <td>16.0</td>\n",
       "      <td>60.0</td>\n",
       "      <td>8769.6</td>\n",
       "      <td>6210.73</td>\n",
       "    </tr>\n",
       "    <tr>\n",
       "      <th>2</th>\n",
       "      <td>Default</td>\n",
       "      <td>Default</td>\n",
       "      <td>67715283.0</td>\n",
       "      <td>16000.0</td>\n",
       "      <td>538.18</td>\n",
       "      <td>12.88</td>\n",
       "      <td>17396.63</td>\n",
       "      <td>161.46</td>\n",
       "      <td>35.0</td>\n",
       "      <td>60.0</td>\n",
       "      <td>32290.8</td>\n",
       "      <td>14894.17</td>\n",
       "    </tr>\n",
       "    <tr>\n",
       "      <th>3</th>\n",
       "      <td>Default</td>\n",
       "      <td>Default</td>\n",
       "      <td>68341789.0</td>\n",
       "      <td>24250.0</td>\n",
       "      <td>701.01</td>\n",
       "      <td>24.24</td>\n",
       "      <td>4124.42</td>\n",
       "      <td>0.00</td>\n",
       "      <td>7.0</td>\n",
       "      <td>60.0</td>\n",
       "      <td>42060.6</td>\n",
       "      <td>37936.18</td>\n",
       "    </tr>\n",
       "    <tr>\n",
       "      <th>4</th>\n",
       "      <td>Default</td>\n",
       "      <td>Default</td>\n",
       "      <td>68415473.0</td>\n",
       "      <td>25000.0</td>\n",
       "      <td>581.58</td>\n",
       "      <td>13.99</td>\n",
       "      <td>14490.92</td>\n",
       "      <td>0.00</td>\n",
       "      <td>26.0</td>\n",
       "      <td>60.0</td>\n",
       "      <td>34894.8</td>\n",
       "      <td>20403.88</td>\n",
       "    </tr>\n",
       "  </tbody>\n",
       "</table>\n",
       "</div>"
      ],
      "text/plain": [
       "  loan_status predicted_status          id  loan_amnt  installment  int_rate  \\\n",
       "0     Default          Default  66624733.0    18000.0       471.70     19.48   \n",
       "1     Default          Default  67849662.0     4225.0       146.16     14.85   \n",
       "2     Default          Default  67715283.0    16000.0       538.18     12.88   \n",
       "3     Default          Default  68341789.0    24250.0       701.01     24.24   \n",
       "4     Default          Default  68415473.0    25000.0       581.58     13.99   \n",
       "\n",
       "   total_pymnt  total_rec_late_fee  pay_length  Term  expected      loss  \n",
       "0      9452.74                0.00        17.0  60.0   28302.0  18849.26  \n",
       "1      2558.87                0.00        16.0  60.0    8769.6   6210.73  \n",
       "2     17396.63              161.46        35.0  60.0   32290.8  14894.17  \n",
       "3      4124.42                0.00         7.0  60.0   42060.6  37936.18  \n",
       "4     14490.92                0.00        26.0  60.0   34894.8  20403.88  "
      ]
     },
     "execution_count": 170,
     "metadata": {},
     "output_type": "execute_result"
    }
   ],
   "source": [
    "results_saving.head()"
   ]
  },
  {
   "cell_type": "code",
   "execution_count": 171,
   "id": "da18efcf",
   "metadata": {},
   "outputs": [
    {
     "name": "stdout",
     "output_type": "stream",
     "text": [
      "Total amount Lending Club has lost is 5998214435.158355.\n"
     ]
    }
   ],
   "source": [
    "print('Total amount Lending Club has lost is {}.'.format(data.loss.sum()))"
   ]
  },
  {
   "cell_type": "code",
   "execution_count": 173,
   "id": "7b5fb706",
   "metadata": {},
   "outputs": [
    {
     "name": "stdout",
     "output_type": "stream",
     "text": [
      "Lending Club would have saved $3764828296.1 (62.77% of the total loss), if they had used our model\n"
     ]
    }
   ],
   "source": [
    "print('Lending Club would have saved ${} ({}% of the total loss), if they had used our model'.format(round(results_saving.loss.sum(),2),round(100*results_saving.loss.sum()/data.loss.sum(),2)))"
   ]
  },
  {
   "cell_type": "code",
   "execution_count": null,
   "id": "abfa3d2a",
   "metadata": {},
   "outputs": [],
   "source": []
  }
 ],
 "metadata": {
  "kernelspec": {
   "display_name": "Python 3",
   "language": "python",
   "name": "python3"
  },
  "language_info": {
   "codemirror_mode": {
    "name": "ipython",
    "version": 3
   },
   "file_extension": ".py",
   "mimetype": "text/x-python",
   "name": "python",
   "nbconvert_exporter": "python",
   "pygments_lexer": "ipython3",
   "version": "3.8.8"
  }
 },
 "nbformat": 4,
 "nbformat_minor": 5
}
