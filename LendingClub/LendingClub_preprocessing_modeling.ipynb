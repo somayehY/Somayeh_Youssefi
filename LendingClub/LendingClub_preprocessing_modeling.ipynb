{
 "cells": [
  {
   "cell_type": "markdown",
   "id": "9ad5cebe",
   "metadata": {},
   "source": [
    "## Table of contents\n",
    "\n",
    "* [1. Background](#Background)\n",
    "* [2. Imports](#import)\n",
    "* [3. Load the data](#Load_Data)\n",
    "* [4. Is the data imbalanced?](#imblnc)\n",
    "* [5. Data preparation prior to model training](#pre)\n",
    "* [6. Choose the right metrics for model evaluation](#metrics)\n",
    "* [7. Train models](#model)\n",
    "    * [7.1. Logistic regression](#lr)\n",
    "        * [7.1.1.  Make a pipeline for logistic regression model training](#pllr)\n",
    "        * [7.1.2. Hyperparameter search using GridSearchCV for logistic regression](#gdlr)\n",
    "        * [7.1.3. Best Logistic Regression model](#bestlr)\n",
    "    * [7.2. Decision tree classifier](#dt)\n",
    "        * [7.2.1. Make a pipeline for decision tree](#pldt)\n",
    "        * [7.2.2. Hyperparameter search for decision tree classifier](#gddt)\n",
    "        * [7.2.3. Decision tree classifier with best parameters](#bestdt)\n",
    "        * [7.2.4. Feature importance assessment in the decision tree classifier](#fidt)\n",
    "    * [7.3. Random forest classifier](#rf)\n",
    "        * [7.3.1. Make a pipeline for random forest classifier](#plrf)\n",
    "        * [7.3.2. Hyperparameter search for random forest classifier](#gdrf)\n",
    "        * [7.3.3. Rondom forest classifier feature importance assessment](#firf)\n",
    "    * [7.4. Gradient boosting classifier](#GB)\n",
    "        * [7.4.1. Make a pipeline for gradient boosting classifier](#plgb)\n",
    "        * [7.4.2. Hyperparameter tuning for gradient boosting classifier](#gdgb)\n",
    "        * [7.4.3. Gradient boosting feature importance assessment](#figb)\n",
    "* [8. Final model selection](#select)\n",
    "    * [8.1. Logistic regressio](#lr_test)\n",
    "    * [8.2. Decision tree](#dt_test)\n",
    "    * [8.3 Random forest](#rf_test)\n",
    "    * [8.4. XGBoost](#XG_test)\n",
    "    * [8.5. Discussion](#disc)\n",
    "* [9. Save the best model](#save_model)\n",
    "* [10. Summary](#discussion)    "
   ]
  },
  {
   "cell_type": "markdown",
   "id": "fdad8133",
   "metadata": {},
   "source": [
    "# 1. Background  <a class='anchor' id='Background'></a>\n",
    "\n",
    "In this notebook we will apply several calssification models to our cleaned data frame of accepted loans from Lending Club. Briefly, Lending Club used to be the biggest peer to peer lending platform. To decide about a loan application, Lending Club relies on applicants' information provided during application. Such information includes income, length employment and credit history. In previous notebooks, we addressed missing data and explore the data to get a better understanding of the data \n",
    "\n",
    "In this notebook we will apply several classification models to predict if a loan will default. The models are:\n",
    "\n",
    "1. Logistic regression\n",
    "\n",
    "2. Decision tree\n",
    "\n",
    "3. Random Forest\n",
    "\n"
   ]
  },
  {
   "cell_type": "markdown",
   "id": "104aefea",
   "metadata": {},
   "source": [
    "# 2. Imports <a class='anchor' id='import'></a>\n",
    "\n",
    "We start by importing required packages."
   ]
  },
  {
   "cell_type": "code",
   "execution_count": 81,
   "id": "81d33209",
   "metadata": {},
   "outputs": [],
   "source": [
    "import pandas as pd\n",
    "import numpy as np\n",
    "import matplotlib.pyplot as plt\n",
    "import seaborn as sns\n",
    "\n",
    "from sklearn.compose import make_column_selector as selector\n",
    "from sklearn.model_selection import train_test_split, cross_validate, GridSearchCV, learning_curve\n",
    "from sklearn.preprocessing import MinMaxScaler, OneHotEncoder\n",
    "from sklearn import tree, metrics\n",
    "from IPython.display import Image  \n",
    "import pydotplus\n",
    "\n",
    "from xgboost import XGBClassifier, cv, plot_importance\n",
    "from sklearn.ensemble import RandomForestClassifier\n",
    "from sklearn.metrics import classification_report, roc_auc_score, f1_score, precision_recall_curve, accuracy_score, confusion_matrix, balanced_accuracy_score\n",
    "from sklearn.linear_model import LogisticRegression\n",
    "\n",
    "from sklearn.pipeline import make_pipeline\n",
    "\n",
    "from sklearn.metrics import fbeta_score, make_scorer\n",
    "\n",
    "import itertools\n",
    "\n",
    "import warnings\n",
    "warnings.filterwarnings('ignore')\n",
    "\n",
    "from imblearn.under_sampling import NearMiss, RandomUnderSampler\n",
    "\n",
    "from sklearn.feature_selection import SelectKBest, chi2\n",
    "from sklearn.compose import ColumnTransformer\n",
    "\n",
    "import datetime\n",
    "\n",
    "import pickle\n"
   ]
  },
  {
   "cell_type": "markdown",
   "id": "86ffb59e",
   "metadata": {},
   "source": [
    "# 3. Load the data<a class='anchor' id='Load_Data'></a>\n",
    "\n",
    "Using the pd.read_csv, we load the data"
   ]
  },
  {
   "cell_type": "code",
   "execution_count": 40,
   "id": "beb32bda",
   "metadata": {},
   "outputs": [],
   "source": [
    "df = pd.read_csv(\"C:\\\\Users\\\\somfl\\\\Documents\\\\Data Science Career Track\\\\LendingClub\\\\LendingClubClean.csv\")\n",
    "df = df.drop(columns=['id', 'Unnamed: 0'])"
   ]
  },
  {
   "cell_type": "markdown",
   "id": "928a3cbc",
   "metadata": {},
   "source": [
    "# 4. Is the data imbalanced? <a class='anchor' id='imblnc'><a/>\n",
    "\n",
    "A data set is called [imbalanced](https://developers.google.com/machine-learning/data-prep/construct/sampling-splitting/imbalanced-data), if the minority class makes a small percentage of the data set. \n",
    "\n",
    "If the minority class (in our case the defaulted loans) makes 20 to 40% of a data set, then it is mildly imbalance.\n",
    "if the minority class is 1 to 20%, then the dataset is moderately imbalanced and if minority class is < 1% of data set, the data is extremely imbalanced.\n",
    "\n",
    "To find out if our data set is imbalanced or not, we will look at waht percentages of loan applications in the data frame is defaulted"
   ]
  },
  {
   "cell_type": "code",
   "execution_count": 41,
   "id": "76cb9bf8",
   "metadata": {},
   "outputs": [
    {
     "data": {
      "text/plain": [
       "Fully Paid    0.784132\n",
       "Default       0.215868\n",
       "Name: Status, dtype: float64"
      ]
     },
     "execution_count": 41,
     "metadata": {},
     "output_type": "execute_result"
    }
   ],
   "source": [
    "df.Status.value_counts()/len(df)"
   ]
  },
  {
   "cell_type": "markdown",
   "id": "b14d5290",
   "metadata": {},
   "source": [
    "Default loans count for 22% of our data set. Therefore, our data is mildly imbalance, which may or may not be a problem. It is suggested to model with the true distribution and if it was not fine, apply techncis such as undersampling to deal with the imbalance."
   ]
  },
  {
   "cell_type": "markdown",
   "id": "0443df4d",
   "metadata": {},
   "source": [
    "# 5. Data preparation prior to model training <a class='anchor' id='pre'><a/>"
   ]
  },
  {
   "cell_type": "markdown",
   "id": "e98540a9",
   "metadata": {},
   "source": [
    "Due to complexity of our data frame, we definde two functions to handle all the prerocessing steps we need to do prior to training. These steps are:\n",
    "\n",
    "1. Defining X and y\n",
    "2. Applying One Hot Encoder to change categorical data\n",
    "3. Under sampling the data by using RandomUnderSampler\n",
    "4. spliting the data into training and testing sets.\n"
   ]
  },
  {
   "cell_type": "code",
   "execution_count": 42,
   "id": "89a0fe11",
   "metadata": {},
   "outputs": [
    {
     "name": "stdout",
     "output_type": "stream",
     "text": [
      "The new X has the columns added by One Hot Encoder, which has increased the number of columns from 23 to 74\n"
     ]
    }
   ],
   "source": [
    "y = df['Status']\n",
    "X = df.drop(columns=['Status', 'grade'])\n",
    "\n",
    "# Choose the categorical columns\n",
    "col_num =X.shape[1]\n",
    "categorical_columns_selector = selector(dtype_include=object)\n",
    "categorical_columns = categorical_columns_selector(X)\n",
    "\n",
    "# One Hot encode\n",
    "\n",
    "enc = OneHotEncoder(drop='if_binary')\n",
    "enc_df = pd.DataFrame(enc.fit_transform(X[categorical_columns]).toarray())\n",
    "feature_names = enc.get_feature_names(input_features=categorical_columns)\n",
    "enc_df.columns = feature_names\n",
    "X.drop(columns=categorical_columns, inplace=True)\n",
    "# merge with main df bridge_df on key values\n",
    "X =X.join(enc_df)\n",
    "#X.set_index('id', inplace=True)\n",
    "print('The new X has the columns added by One Hot Encoder, which has increased the number of columns from {} to {}'.format(col_num, X.shape[1]))\n",
    "\n",
    "Xcol_names = X.columns\n",
    "ycol_name =['Status']\n",
    "\n",
    "# Undersample\n",
    "Xn = X.to_numpy()\n",
    "yn = y.to_numpy()\n",
    "random_state=42\n",
    "RU = RandomUnderSampler()\n",
    "X_res, y_res = RU.fit_resample(Xn,yn)\n",
    "\n",
    "# Split\n",
    "X_train, X_test, y_train, y_test = train_test_split(X_res, y_res, test_size=0.3, random_state=47)\n",
    "\n",
    "# Change back to panads dataframe\n",
    "X_train = pd.DataFrame(X_train, columns=Xcol_names)\n",
    "X_test = pd.DataFrame(X_test, columns=Xcol_names)\n",
    "y_train = pd.DataFrame(y_train, columns=ycol_name)\n",
    "y_test = pd.DataFrame(y_test, columns=ycol_name)\n",
    "\n"
   ]
  },
  {
   "cell_type": "markdown",
   "id": "a2d51d69",
   "metadata": {},
   "source": [
    "# 6. Choose the right metrics for model evaluation <a class='anchor' id='metrics'></a>\n",
    "\n",
    "Given that the data is mildly imbalanced, accuracy score is not a good metrics to evaluate performance of a model. It is [recommended](https://www.kdnuggets.com/2017/06/7-techniques-handle-imbalanced-data.html#:~:text=1%20Use%20the%20right%20evaluation%20metrics.%20Applying%20inappropriate,keep%20the%20models%20as%20a%20fixed%20component.%20) to use evaluation metrics such as precision, recal, f1 score or balanced accuracy. We use \"balanced accuracy\" as our evaluation metrics to compare model performance. \n"
   ]
  },
  {
   "cell_type": "markdown",
   "id": "a214b789",
   "metadata": {},
   "source": [
    "# 7. Model training <a class='anchor' id='model'></a>\n",
    "\n",
    "Following classifiers will be trained on the test data:\n",
    "\n",
    "1. Logistic regression\n",
    "\n",
    "2. Decision tree\n",
    "\n",
    "3. Random Forest\n",
    "\n",
    "4. XGBoost\n",
    "\n",
    "Steps that we follow for each model include:\n",
    "\n",
    "1. Make a pipeline, that includes the model and scaling steps and then use cross valiadtion to train a general model. \n",
    "\n",
    "2. Grid search to find the hyperparameters.\n",
    "\n",
    "3. Train the model with the tuned hyperparameters and study feature importance\n",
    "\n",
    "After training all 4 models, I will use them on the test data and will compare the results to choose the model with the most predictive power."
   ]
  },
  {
   "cell_type": "markdown",
   "id": "ce271273",
   "metadata": {},
   "source": [
    "## 7.1. Logistic regression <a class='anchor' id='lr'></a>"
   ]
  },
  {
   "cell_type": "markdown",
   "id": "b858a5c7",
   "metadata": {},
   "source": [
    "### 7.1.1.  Make a pipeline for logistic regression classifier <a class='anchor' id='pllr'></a>\n",
    "\n",
    "Using make_pipeline, a pipeline is created to train logistic regression classifier. The sacler used is MinMaxScaler. This scaler gives 0 and to the minimum and maximum values of features, and scale the rest of values accordingly. Given that, there are columns with only 0 and 1 to represent categorical features, MinMaXScaler does not change these columns. Therefore, MinMaxScaler is chosen as the scaling method.\n",
    "\n",
    "To avoid overfitting, we use cross validation with 5 folds."
   ]
  },
  {
   "cell_type": "code",
   "execution_count": 93,
   "id": "d7ddf8a6",
   "metadata": {},
   "outputs": [
    {
     "name": "stdout",
     "output_type": "stream",
     "text": [
      "Balanced accuaracy scores of 5 fold logistic regression are:  [0.65394849 0.65172379 0.6554796  0.65475217 0.65394346]\n",
      "Mean and standard deviation of balanced accuaracy scores of 5 fold logistic regression is:  0.6539695020989218  , 0.0012599475627318266\n"
     ]
    }
   ],
   "source": [
    "# General lr\n",
    "pipe = make_pipeline( \n",
    "    MinMaxScaler(),\n",
    "    LogisticRegression()\n",
    ")\n",
    "\n",
    "lr_cv_results = cross_validate(pipe, X_train, y_train, scoring = 'balanced_accuracy', cv=5)\n",
    "lr_cv_scores = lr_cv_results['test_score']\n",
    "\n",
    "print('Balanced accuaracy scores of 5 fold logistic regression are: ', lr_cv_scores)\n",
    "print('Mean and standard deviation of balanced accuaracy scores of 5 fold logistic regression is: ', lr_cv_scores.mean(),  ' ,' , lr_cv_scores.std())"
   ]
  },
  {
   "cell_type": "markdown",
   "id": "06c4d61d",
   "metadata": {},
   "source": [
    "### 7.1.2. Hyperparameter search using GridSearchCV for logistic regression <a class='anchor' id='gdlr'></a>\n",
    "\n",
    "Logistic regression has several parameters to tune. These parameters are shown by using get_params().keys(). Given the computing power constraints, a small though important number of features are chosen to tune. These parameters are learning rate and penalty."
   ]
  },
  {
   "cell_type": "code",
   "execution_count": 44,
   "id": "0745b57a",
   "metadata": {},
   "outputs": [
    {
     "data": {
      "text/plain": [
       "GridSearchCV(cv=5,\n",
       "             estimator=Pipeline(steps=[('minmaxscaler', MinMaxScaler()),\n",
       "                                       ('logisticregression',\n",
       "                                        LogisticRegression())]),\n",
       "             n_jobs=-1,\n",
       "             param_grid={'logisticregression__C': [0.1, 1, 10, 100, 1000],\n",
       "                         'logisticregression__penalty': ['l1', 'l2']},\n",
       "             scoring='balanced_accuracy')"
      ]
     },
     "execution_count": 44,
     "metadata": {},
     "output_type": "execute_result"
    }
   ],
   "source": [
    "pipe = make_pipeline( \n",
    "    MinMaxScaler(),\n",
    "    LogisticRegression()\n",
    ")\n",
    "# Define a set of parameters for grid search\n",
    "grid_params = {'logisticregression__penalty': ['l1','l2'], 'logisticregression__C': [0.1,1,10,100,1000]}\n",
    "\n",
    "# Perform grid search\n",
    "lr_grid_cv = GridSearchCV(pipe, param_grid=grid_params, cv=5, scoring = 'balanced_accuracy', n_jobs=-1)\n",
    "lr_grid_cv.fit(X_train, y_train)\n"
   ]
  },
  {
   "cell_type": "markdown",
   "id": "19b68371",
   "metadata": {},
   "source": [
    "### 7.1.3. Best Logistic Regression model and feature importance <a class='anchor' id='bestlr'></a>\n",
    "\n",
    "Now that we know the best hyperparameters for Logistic Regression, we will train the model with the tuned hyperparameteres and look at the cofficients of features to find out the most influential features."
   ]
  },
  {
   "cell_type": "code",
   "execution_count": 45,
   "id": "5162113b",
   "metadata": {},
   "outputs": [
    {
     "name": "stdout",
     "output_type": "stream",
     "text": [
      "{'logisticregression__C': 1000, 'logisticregression__penalty': 'l2'}\n",
      "Mean of balanced accuaracy score of tuned logistic regression is:  0.65408476103503\n"
     ]
    }
   ],
   "source": [
    "# Get the best parameters\n",
    "print(lr_grid_cv.best_params_)\n",
    "lr_gd_best_score = lr_grid_cv.best_score_\n",
    "print('Mean of balanced accuaracy score of tuned logistic regression is: ', lr_gd_best_score)"
   ]
  },
  {
   "cell_type": "markdown",
   "id": "120a2adb",
   "metadata": {},
   "source": [
    "Grid serach and tuning hyperparameters did not make a significant change on the initial classification. Next by using the best estimator, we get the coefficients of each feature and will plot feature importance figure."
   ]
  },
  {
   "cell_type": "code",
   "execution_count": 738,
   "id": "c8437631",
   "metadata": {
    "scrolled": false
   },
   "outputs": [
    {
     "data": {
      "text/plain": [
       "Text(43.401553819444445, 0.5, 'Feature')"
      ]
     },
     "execution_count": 738,
     "metadata": {},
     "output_type": "execute_result"
    },
    {
     "data": {
      "image/png": "[encoded data removed]",
      "text/plain": [
       "<Figure size 440.875x360 with 1 Axes>"
      ]
     },
     "metadata": {
      "needs_background": "light"
     },
     "output_type": "display_data"
    }
   ],
   "source": [
    "model_features = pd.DataFrame(lr_grid_cv.best_estimator_.named_steps.logisticregression.coef_.T)\n",
    "model_features.index = X.columns\n",
    "model_features.columns=['Importance']\n",
    "\n",
    "HO = model_features.loc['home_ownership_ANY':,:]\n",
    "HO = pd.DataFrame({'Importance': HO.mean()})\n",
    "HO.index = ['home_ownership']\n",
    "\n",
    "Emp = model_features.loc['emp_length_1 year':'emp_length_< 1 year', :]\n",
    "Emp = pd.DataFrame({'Importance': Emp.mean()})\n",
    "Emp.index = ['employment length']\n",
    "\n",
    "Sub = model_features.loc['sub_grade_A1':'sub_grade_G5', :]\n",
    "sub = pd.DataFrame({'Importance': Sub.mean()})\n",
    "sub.index = ['sub_grade']\n",
    "\n",
    "VS = model_features.loc['verification_status_Not Verified':'verification_status_Verified', :]\n",
    "vs = pd.DataFrame({'Importance': VS.mean()})\n",
    "vs.index = ['Verification status']\n",
    "\n",
    "term = pd.DataFrame({'Importance': model_features.loc['term_ 60 months',:]})\n",
    "term.index = ['term']\n",
    "\n",
    "model_features = pd.concat([model_features.loc[:'Credit Length (year)',:], term, HO, Emp, sub, vs])\n",
    "title = 'Feature importance for tuned logistic regression'\n",
    "model_features['Effect'] = 'Positive'\n",
    "model_features.loc[model_features['Importance'] < 0, 'Effect'] = 'Negative'\n",
    "model_features['Absolute effect'] = abs(model_features['Importance'])\n",
    "data = model_features.sort_values(by='Absolute effect', ascending=False)\n",
    "\n",
    "# Plot feature importance\n",
    "sns.catplot(y= data.index, x='Absolute effect', hue='Effect', kind='bar', data=data)\n",
    "plt.title(title)\n",
    "plt.xlabel('Coefficient')\n",
    "plt.ylabel('Feature')"
   ]
  },
  {
   "cell_type": "markdown",
   "id": "c88cd5f9",
   "metadata": {},
   "source": [
    "\n",
    "For the logistic regression, the balanced accuracy score is 65%. \n",
    "We can see that, number of _mortage accounts_ followed by amount of _revoling balance_ are the most significant features, followed by number of _collections_ and _installment_ amount. \n",
    "\n",
    "Furthermore, the _sub grade_, _employment length_ and _home ownership_ has very little effect on logistic regression classification result.\n",
    "\n",
    "\n",
    "In the next step, we will train a decision tree classifier."
   ]
  },
  {
   "cell_type": "markdown",
   "id": "254a6839",
   "metadata": {},
   "source": [
    "## 7.2. Decision tree classifier <a class='anchor' id='dt'></a>\n",
    " \n"
   ]
  },
  {
   "cell_type": "markdown",
   "id": "c89062b2",
   "metadata": {},
   "source": [
    "### 7.2.1. Make a pipeline for decision tree <a class='anchor' id='pldt'></a>\n",
    "\n",
    "Using make_pipeline, a pipeline is created to train decision tree classifier. The sacler used is MinMaxScaler. This scaler gives 0 and to the minimum and maximum values of features, and scale the rest of values accordingly. Given that, there are columns with only 0 and 1 to represent categorical features, MinMaXScaler does not change these columns. Therefore, MinMaxScaler is chosen as the scaling method."
   ]
  },
  {
   "cell_type": "code",
   "execution_count": 743,
   "id": "3a6a182d",
   "metadata": {},
   "outputs": [
    {
     "name": "stdout",
     "output_type": "stream",
     "text": [
      "The new X has the columns added by One Hot Encoder, which has increased the number of columns from 23 to 74\n",
      "[0.5681987  0.57353995 0.57074286 0.57097576 0.57114027]\n",
      "0.5709195088337988 0.001694261725022137\n"
     ]
    }
   ],
   "source": [
    "# Make pipeline\n",
    "y = df['Status']\n",
    "X = df.drop(columns=['Status', 'grade'])\n",
    "\n",
    "# Choose the categorical columns\n",
    "col_num =X.shape[1]\n",
    "categorical_columns_selector = selector(dtype_include=object)\n",
    "categorical_columns = categorical_columns_selector(X)\n",
    "\n",
    "# One Hot encode\n",
    "\n",
    "enc = OneHotEncoder(drop='if_binary')\n",
    "enc_df = pd.DataFrame(enc.fit_transform(X[categorical_columns]).toarray())\n",
    "feature_names = enc.get_feature_names(input_features=categorical_columns)\n",
    "enc_df.columns = feature_names\n",
    "X.drop(columns=categorical_columns, inplace=True)\n",
    "# merge with main df bridge_df on key values\n",
    "X =X.join(enc_df)\n",
    "#X.set_index('id', inplace=True)\n",
    "print('The new X has the columns added by One Hot Encoder, which has increased the number of columns from {} to {}'.format(col_num, X.shape[1]))\n",
    "\n",
    "# Save column names\n",
    "Xcol_names = X.columns\n",
    "ycol_name = ['Status']\n",
    "# Undersample\n",
    "\n",
    "Xn = X.to_numpy()\n",
    "yn = y.to_numpy()\n",
    "random_state=42\n",
    "RU = RandomUnderSampler()\n",
    "X_res, y_res = RU.fit_resample(Xn,yn)\n",
    "\n",
    "# Split\n",
    "X_train, X_test, y_train, y_test = train_test_split(X_res, y_res, test_size=0.3, random_state=47)\n",
    "\n",
    "X_train = pd.DataFrame(X_train, columns=Xcol_names)\n",
    "y_train = pd.DataFrame(y_train, columns=ycol_name)\n",
    "\n",
    "pipeTree = make_pipeline( \n",
    "    MinMaxScaler(),\n",
    "    tree.DecisionTreeClassifier()\n",
    ")\n",
    "\n",
    "cv_results = cross_validate(pipeTree, X_train, y_train, scoring = 'balanced_accuracy', cv=5)\n",
    "cv_scores = cv_results['test_score']\n",
    "print(cv_scores)\n",
    "print(cv_scores.mean(), cv_scores.std())\n"
   ]
  },
  {
   "cell_type": "markdown",
   "id": "273752e9",
   "metadata": {},
   "source": [
    " \n",
    "Decision tree balanced accuracy score before hyperparameter tuning is 57%, which is worse than logistic regression. Next we will do hyperparameter tuning."
   ]
  },
  {
   "cell_type": "markdown",
   "id": "bf9f36d8",
   "metadata": {},
   "source": [
    "### 9.2.2. Hyperparameter search for decision tree classifier <a class='anchor' id='gddt'></a>\n",
    "\n",
    "There are several parameters to tune but given the constraints with computing power, only a small number of parameters are chosen."
   ]
  },
  {
   "cell_type": "code",
   "execution_count": 54,
   "id": "861a3506",
   "metadata": {},
   "outputs": [],
   "source": [
    "pipeTree = make_pipeline( \n",
    "    MinMaxScaler(),\n",
    "    tree.DecisionTreeClassifier()\n",
    ")\n",
    "# Define grid parameters\n",
    "\n",
    "grid_params = {'decisiontreeclassifier__criterion': ['gini', 'entropy'], 'decisiontreeclassifier__max_depth': [3, 6, 9, 12, 15]}"
   ]
  },
  {
   "cell_type": "code",
   "execution_count": 55,
   "id": "5faeac4c",
   "metadata": {},
   "outputs": [
    {
     "data": {
      "text/plain": [
       "GridSearchCV(cv=5,\n",
       "             estimator=Pipeline(steps=[('minmaxscaler', MinMaxScaler()),\n",
       "                                       ('decisiontreeclassifier',\n",
       "                                        DecisionTreeClassifier())]),\n",
       "             n_jobs=-1,\n",
       "             param_grid={'decisiontreeclassifier__criterion': ['gini',\n",
       "                                                               'entropy'],\n",
       "                         'decisiontreeclassifier__max_depth': [3, 6, 9, 12,\n",
       "                                                               15]},\n",
       "             scoring='balanced_accuracy')"
      ]
     },
     "execution_count": 55,
     "metadata": {},
     "output_type": "execute_result"
    }
   ],
   "source": [
    "# Perform grid search to find hyperparameters of decision tree\n",
    "\n",
    "tree_grid_cv = GridSearchCV(pipeTree, param_grid=grid_params, scoring='balanced_accuracy', cv=5, n_jobs=-1)\n",
    "tree_grid_cv.fit(X_train, y_train)"
   ]
  },
  {
   "cell_type": "markdown",
   "id": "25fb79d9",
   "metadata": {},
   "source": [
    "### 9.2.3. Decision tree classifier with best parameters <a class='anchor' id='bestdt'></a>\n",
    "\n",
    "We access the best parameters by using grid.best_params_"
   ]
  },
  {
   "cell_type": "code",
   "execution_count": 56,
   "id": "56c870d3",
   "metadata": {},
   "outputs": [
    {
     "data": {
      "text/plain": [
       "{'decisiontreeclassifier__criterion': 'gini',\n",
       " 'decisiontreeclassifier__max_depth': 9}"
      ]
     },
     "execution_count": 56,
     "metadata": {},
     "output_type": "execute_result"
    }
   ],
   "source": [
    "tree_grid_cv.best_params_"
   ]
  },
  {
   "cell_type": "markdown",
   "id": "3e1e7e60",
   "metadata": {},
   "source": [
    "We fit a decision tree to the training data by using the best hyperparameters and then, we will look at the importance of the features."
   ]
  },
  {
   "cell_type": "code",
   "execution_count": 95,
   "id": "20314a6a",
   "metadata": {},
   "outputs": [
    {
     "name": "stdout",
     "output_type": "stream",
     "text": [
      "Balanced accuaracy scores of 5 fold decision tree are:  [0.64875248 0.64444773 0.64979896 0.64810399 0.64930863]\n",
      "Mean and standard deviation of balanced accuaracy scores of 5 fold decision tree is:  0.6480823577864803  , 0.0019031851733949858\n"
     ]
    }
   ],
   "source": [
    "#BestTree = tree.DecisionTreeClassifier(criterion=\"entropy\", max_depth =9, random_state = 1234)\n",
    "BestTree = tree_grid_cv.best_estimator_\n",
    "pipeTreeBest = make_pipeline(\n",
    "    MinMaxScaler(),\n",
    "    BestTree)\n",
    "\n",
    "cv_results = cross_validate(pipeTreeBest, X_train, y_train, scoring = 'balanced_accuracy', cv=5)\n",
    "cv_scores = cv_results['test_score']\n",
    "print('Balanced accuaracy scores of 5 fold decision tree are: ', cv_scores)\n",
    "print('Mean and standard deviation of balanced accuaracy scores of 5 fold decision tree is: ', cv_scores.mean(),  ' ,' , cv_scores.std())\n"
   ]
  },
  {
   "cell_type": "markdown",
   "id": "5fff94e9",
   "metadata": {},
   "source": [
    "It can be seen that after hyperparameter tuning, the balanced accuracy of the decision tree model reached 65%. The hyperparameter tuning increased the score from 0.57 to 0.65. In the next step, we will plot the tree as well as the feature importance figure."
   ]
  },
  {
   "cell_type": "code",
   "execution_count": 777,
   "id": "4587ea55",
   "metadata": {},
   "outputs": [
    {
     "ename": "AttributeError",
     "evalue": "decisiontreeclassifier",
     "output_type": "error",
     "traceback": [
      "\u001b[1;31m---------------------------------------------------------------------------\u001b[0m",
      "\u001b[1;31mKeyError\u001b[0m                                  Traceback (most recent call last)",
      "\u001b[1;32m~\\anaconda3\\lib\\site-packages\\sklearn\\utils\\__init__.py\u001b[0m in \u001b[0;36m__getattr__\u001b[1;34m(self, key)\u001b[0m\n\u001b[0;32m     93\u001b[0m         \u001b[1;32mtry\u001b[0m\u001b[1;33m:\u001b[0m\u001b[1;33m\u001b[0m\u001b[1;33m\u001b[0m\u001b[0m\n\u001b[1;32m---> 94\u001b[1;33m             \u001b[1;32mreturn\u001b[0m \u001b[0mself\u001b[0m\u001b[1;33m[\u001b[0m\u001b[0mkey\u001b[0m\u001b[1;33m]\u001b[0m\u001b[1;33m\u001b[0m\u001b[1;33m\u001b[0m\u001b[0m\n\u001b[0m\u001b[0;32m     95\u001b[0m         \u001b[1;32mexcept\u001b[0m \u001b[0mKeyError\u001b[0m\u001b[1;33m:\u001b[0m\u001b[1;33m\u001b[0m\u001b[1;33m\u001b[0m\u001b[0m\n",
      "\u001b[1;31mKeyError\u001b[0m: 'decisiontreeclassifier'",
      "\nDuring handling of the above exception, another exception occurred:\n",
      "\u001b[1;31mAttributeError\u001b[0m                            Traceback (most recent call last)",
      "\u001b[1;32m<ipython-input-777-48b9d080a728>\u001b[0m in \u001b[0;36m<module>\u001b[1;34m\u001b[0m\n\u001b[0;32m      9\u001b[0m \u001b[1;33m\u001b[0m\u001b[0m\n\u001b[0;32m     10\u001b[0m \u001b[1;31m# We can do so with export_graphviz\u001b[0m\u001b[1;33m\u001b[0m\u001b[1;33m\u001b[0m\u001b[1;33m\u001b[0m\u001b[0m\n\u001b[1;32m---> 11\u001b[1;33m tree.export_graphviz(pipeTreeBest.named_steps.decisiontreeclassifier, out_file=dot_data,  \n\u001b[0m\u001b[0;32m     12\u001b[0m                 \u001b[0mfilled\u001b[0m\u001b[1;33m=\u001b[0m\u001b[1;32mTrue\u001b[0m\u001b[1;33m,\u001b[0m \u001b[0mrounded\u001b[0m\u001b[1;33m=\u001b[0m\u001b[1;32mTrue\u001b[0m\u001b[1;33m,\u001b[0m\u001b[1;33m\u001b[0m\u001b[1;33m\u001b[0m\u001b[0m\n\u001b[0;32m     13\u001b[0m                 special_characters=True, feature_names=X_train.columns,class_names = ['Fully Paid', 'Default'])\n",
      "\u001b[1;32m~\\anaconda3\\lib\\site-packages\\sklearn\\utils\\__init__.py\u001b[0m in \u001b[0;36m__getattr__\u001b[1;34m(self, key)\u001b[0m\n\u001b[0;32m     94\u001b[0m             \u001b[1;32mreturn\u001b[0m \u001b[0mself\u001b[0m\u001b[1;33m[\u001b[0m\u001b[0mkey\u001b[0m\u001b[1;33m]\u001b[0m\u001b[1;33m\u001b[0m\u001b[1;33m\u001b[0m\u001b[0m\n\u001b[0;32m     95\u001b[0m         \u001b[1;32mexcept\u001b[0m \u001b[0mKeyError\u001b[0m\u001b[1;33m:\u001b[0m\u001b[1;33m\u001b[0m\u001b[1;33m\u001b[0m\u001b[0m\n\u001b[1;32m---> 96\u001b[1;33m             \u001b[1;32mraise\u001b[0m \u001b[0mAttributeError\u001b[0m\u001b[1;33m(\u001b[0m\u001b[0mkey\u001b[0m\u001b[1;33m)\u001b[0m\u001b[1;33m\u001b[0m\u001b[1;33m\u001b[0m\u001b[0m\n\u001b[0m\u001b[0;32m     97\u001b[0m \u001b[1;33m\u001b[0m\u001b[0m\n\u001b[0;32m     98\u001b[0m     \u001b[1;32mdef\u001b[0m \u001b[0m__setstate__\u001b[0m\u001b[1;33m(\u001b[0m\u001b[0mself\u001b[0m\u001b[1;33m,\u001b[0m \u001b[0mstate\u001b[0m\u001b[1;33m)\u001b[0m\u001b[1;33m:\u001b[0m\u001b[1;33m\u001b[0m\u001b[1;33m\u001b[0m\u001b[0m\n",
      "\u001b[1;31mAttributeError\u001b[0m: decisiontreeclassifier"
     ]
    }
   ],
   "source": [
    "from sklearn.tree import export_graphviz\n",
    "\n",
    "import os     \n",
    "\n",
    "os.environ[\"PATH\"] += os.pathsep + 'C://Users//somfl//anaconda3//Library//bin//graphviz'\n",
    "\n",
    "# Now we want to visualize the tree\n",
    "dot_data = StringIO()\n",
    "\n",
    "# We can do so with export_graphviz\n",
    "tree.export_graphviz(pipeTreeBest.named_steps.decisiontreeclassifier, out_file=dot_data,  \n",
    "                filled=True, rounded=True,\n",
    "                special_characters=True, feature_names=X_train.columns,class_names = ['Fully Paid', 'Default'])\n",
    "# Alternatively for class_names use entr_model.classes_\n",
    "graph = pydotplus.graph_from_dot_data(dot_data.getvalue())  \n",
    "Image(graph.create_png())"
   ]
  },
  {
   "cell_type": "markdown",
   "id": "4afe4b21",
   "metadata": {},
   "source": [
    "### 7.2.4. Feature importance assessment in the decision tree classifier <a class='anchor' id='fidt'></a>"
   ]
  },
  {
   "cell_type": "markdown",
   "id": "a1bb880c",
   "metadata": {},
   "source": [
    "Using the \"tree_grid_cv.best_estimator_.named_steps.decisiontreeclassifier.feature_importances_\", we access the feature importance values and plot them."
   ]
  },
  {
   "cell_type": "code",
   "execution_count": 788,
   "id": "4fc2f7a1",
   "metadata": {},
   "outputs": [
    {
     "data": {
      "text/plain": [
       "Text(0, 0.5, 'Feature')"
      ]
     },
     "execution_count": 788,
     "metadata": {},
     "output_type": "execute_result"
    },
    {
     "data": {
      "image/png": "[encoded data removed]",
      "text/plain": [
       "<Figure size 864x576 with 1 Axes>"
      ]
     },
     "metadata": {
      "needs_background": "light"
     },
     "output_type": "display_data"
    }
   ],
   "source": [
    "model_features = pd.DataFrame(tree_grid_cv.best_estimator_.named_steps.decisiontreeclassifier.feature_importances_.T)\n",
    "model_features.index = X.columns\n",
    "model_features.columns=['Importance']\n",
    "\n",
    "HO = model_features.loc['home_ownership_ANY':,:]\n",
    "HO = pd.DataFrame({'Importance': HO.mean()})\n",
    "HO.index = ['home_ownership']\n",
    "\n",
    "Emp = model_features.loc['emp_length_1 year':'emp_length_< 1 year', :]\n",
    "Emp = pd.DataFrame({'Importance': Emp.mean()})\n",
    "Emp.index = ['employment length']\n",
    "\n",
    "Sub = model_features.loc['sub_grade_A1':'sub_grade_G5', :]\n",
    "sub = pd.DataFrame({'Importance': Sub.mean()})\n",
    "sub.index = ['sub_grade']\n",
    "\n",
    "VS = model_features.loc['verification_status_Not Verified':'verification_status_Verified', :]\n",
    "vs = pd.DataFrame({'Importance': VS.mean()})\n",
    "vs.index = ['Verification status']\n",
    "\n",
    "term = pd.DataFrame({'Importance': model_features.loc['term_ 60 months',:]})\n",
    "term.index = ['term']\n",
    "\n",
    "model_features = pd.concat([model_features.loc[:'Credit Length (year)',:], term, HO, Emp, sub, vs])\n",
    "title = 'Feature importance for tuned decision tree classifier'\n",
    "\n",
    "# Plot feature importance\n",
    "\n",
    "fig, ax=plt.subplots()\n",
    "model_features.sort_values(by='Importance').iloc[:, model_features.columns.get_loc('Importance')].plot(kind='barh', figsize=(12,8))\n",
    "ax.set_title(title)\n",
    "ax.set_xlabel('Coefficient')\n",
    "ax.set_ylabel('Feature')\n"
   ]
  },
  {
   "cell_type": "markdown",
   "id": "65a71b7a",
   "metadata": {},
   "source": [
    "\n",
    "\n",
    "For the decision tree classifier, the balanced accuracy is 65% and according to the feature importance plot, _interest rate_, _loan term_ (either 30 month or 60 month), _number of mortages_, _debt to income ratio_, _installment_, _high Fico score_, _revolving balance_ and _low Fico score_ are the most influential parameters in decision tree classifier. \n",
    "\n",
    "\n",
    "Interest rate has a more significant effect than the other parameters. \n",
    "\n",
    "\n",
    "Furthermore,_sub grade_,number of _tax liens_, _bank ruptcies_, _employment length_, number of _collections_ and _charged off_ incidents within12 months prior to application have the lowest effect on classification."
   ]
  },
  {
   "cell_type": "markdown",
   "id": "b63cfd61",
   "metadata": {},
   "source": [
    "## 7.3. Random forest classifier <a class='anchor' id='rf'></a>"
   ]
  },
  {
   "cell_type": "markdown",
   "id": "881b120b",
   "metadata": {},
   "source": [
    "### 7.3.1. Make a pipeline for random forest classifier <a class='anchor' id='plrf'></a>\n",
    "\n",
    "Using make_pipeline, a pipeline is created to train random forest classifier. The sacler used is MinMaxScaler. This scaler gives 0 and to the minimum and maximum values of features, and scale the rest of values accordingly. Given that, there are columns with only 0 and 1 to represent categorical features, MinMaXScaler does not change these columns. Therefore, MinMaxScaler is chosen as the scaling method."
   ]
  },
  {
   "cell_type": "code",
   "execution_count": 789,
   "id": "21551cc4",
   "metadata": {},
   "outputs": [
    {
     "name": "stdout",
     "output_type": "stream",
     "text": [
      "[0.65178176 0.65336846 0.65199665 0.65595819 0.65301102]\n",
      "0.6532232176740888 0.0014918768343255848\n"
     ]
    }
   ],
   "source": [
    "pipeRF = make_pipeline(MinMaxScaler(), RandomForestClassifier(random_state=47))\n",
    "cv_results = cross_validate(pipeRF, X_train, y_train, scoring='balanced_accuracy', cv=5)\n",
    "cv_scores = cv_results['test_score']\n",
    "print(cv_scores)\n",
    "print(cv_scores.mean(), cv_scores.std())\n"
   ]
  },
  {
   "cell_type": "markdown",
   "id": "47bd1642",
   "metadata": {},
   "source": [
    "### 7.3.2. Hyperparameter search for random forest classifier <a class='anchor' id='gdrf'></a>\n",
    "\n",
    "There are several parameters to tune but given the constraints with computing power, only a small number of parameters are chosen."
   ]
  },
  {
   "cell_type": "code",
   "execution_count": 43,
   "id": "a75637c6",
   "metadata": {},
   "outputs": [
    {
     "data": {
      "text/plain": [
       "{'randomforestclassifier__criterion': 'gini',\n",
       " 'randomforestclassifier__max_depth': 9,\n",
       " 'randomforestclassifier__n_estimators': 150}"
      ]
     },
     "execution_count": 43,
     "metadata": {},
     "output_type": "execute_result"
    }
   ],
   "source": [
    "pipeRF = make_pipeline(MinMaxScaler(), RandomForestClassifier(random_state=47))\n",
    "\n",
    "# Define a grid for hyperparameter tuning with GridSearchCV\n",
    "param_grid = { \n",
    "    'randomforestclassifier__n_estimators': [50, 100, 150],\n",
    "    'randomforestclassifier__max_depth' : [3, 6, 9],\n",
    "    'randomforestclassifier__criterion' :['gini', 'entropy']\n",
    "}\n",
    "\n",
    "rf_grid_cv_0  = GridSearchCV(pipeRF, param_grid = param_grid, scoring='balanced_accuracy', cv = 5, n_jobs = -1)\n",
    "rf_grid_cv_0.fit(X_train, y_train)\n",
    "rf_grid_cv_0.best_params_"
   ]
  },
  {
   "cell_type": "markdown",
   "id": "eda50e14",
   "metadata": {},
   "source": [
    "As seen above, best parameters for random forest are: \n",
    "\n",
    "1. Criterion: gini\n",
    "2. max_depth: 9\n",
    "3. n_estimator: 150\n",
    "\n",
    "The search grid was:\n",
    "\n",
    "'randomforestclassifier__n_estimators': [50, 100, 150],\n",
    "'randomforestclassifier__max_depth' : [3, 6, 9],\n",
    "'randomforestclassifier__criterion' :['gini', 'entropy']\n",
    "\n",
    "It is not clear if we increase _n_estimator_ or _max_depth_, how the classifier performs. Due to lack of computational power, we will do grid search for random forest parameter in two steps. First we tune n_esimator and we search list of [150, 200, 300, 500, 700, 1000] and then we use the tune _n_estimator_ in the next grid search for max_depth and we search list of [6, 9, 15, 25, 35].\n",
    "\n"
   ]
  },
  {
   "cell_type": "code",
   "execution_count": 790,
   "id": "23224099",
   "metadata": {},
   "outputs": [
    {
     "name": "stdout",
     "output_type": "stream",
     "text": [
      "[0.65343985 0.65140765 0.65298251 0.65628705 0.65370938]\n",
      "0.6535652865413835 0.0015773104130714078\n"
     ]
    },
    {
     "data": {
      "text/plain": [
       "{'randomforestclassifier__criterion': 'gini',\n",
       " 'randomforestclassifier__max_depth': 9,\n",
       " 'randomforestclassifier__n_estimators': 700}"
      ]
     },
     "execution_count": 790,
     "metadata": {},
     "output_type": "execute_result"
    }
   ],
   "source": [
    "# First step: tuning n_estimator\n",
    "\n",
    "param_grid = { \n",
    "    'randomforestclassifier__n_estimators': [150, 200, 300, 500, 700, 1000],\n",
    "    'randomforestclassifier__criterion': ['gini'],\n",
    "    'randomforestclassifier__max_depth': [9]\n",
    "}\n",
    "pipeRF = make_pipeline(MinMaxScaler(), RandomForestClassifier(random_state=47))\n",
    "rf_grid_cv_1  = GridSearchCV(pipeRF, param_grid = param_grid, scoring='balanced_accuracy', cv = 5, n_jobs = -1)\n",
    "\n",
    "rf_grid_cv_1.fit(X_train, y_train)\n",
    "rf_best_cv_1_results = cross_validate(rf_grid_cv_1.best_estimator_, X_train, y_train, cv=5, scoring='balanced_accuracy')\n",
    "rf_best_scores = rf_best_cv_1_results['test_score']\n",
    "print(rf_best_scores)\n",
    "print(rf_best_scores.mean(), rf_best_scores.std())\n",
    "\n",
    "rf_grid_cv_1.best_params_"
   ]
  },
  {
   "cell_type": "markdown",
   "id": "542f6d1f",
   "metadata": {},
   "source": [
    "Now, we use _n_estimator_ = 700 and tune _max_depth_."
   ]
  },
  {
   "cell_type": "code",
   "execution_count": 8,
   "id": "bb6e21ce",
   "metadata": {},
   "outputs": [
    {
     "name": "stdout",
     "output_type": "stream",
     "text": [
      "[0.65487959 0.65011819 0.65239186 0.65417402 0.65440866]\n",
      "0.6531944610263174 0.0017539147905660923\n"
     ]
    },
    {
     "data": {
      "text/plain": [
       "{'randomforestclassifier__criterion': 'gini',\n",
       " 'randomforestclassifier__max_depth': 9,\n",
       " 'randomforestclassifier__n_estimators': 700}"
      ]
     },
     "execution_count": 8,
     "metadata": {},
     "output_type": "execute_result"
    }
   ],
   "source": [
    "# Second step: tuning max_septh\n",
    "\n",
    "param_grid = { \n",
    "    'randomforestclassifier__n_estimators': [700],\n",
    "    'randomforestclassifier__criterion': ['gini'],\n",
    "    'randomforestclassifier__max_depth': [6, 9, 15, 25, 35],\n",
    "}\n",
    "pipeRF = make_pipeline(MinMaxScaler(), RandomForestClassifier(random_state=47))\n",
    "rf_grid_cv2  = GridSearchCV(pipeRF, param_grid = param_grid, scoring='balanced_accuracy', cv = 5, n_jobs = -1)\n",
    "\n",
    "rf_grid_cv2.fit(X_train, y_train)\n",
    "rf_best_cv2_results = cross_validate(rf_grid_cv2.best_estimator_, X_train, y_train, cv=5, scoring='balanced_accuracy')\n",
    "rf_best_scores2 = rf_best_cv2_results['test_score']\n",
    "print(rf_best_scores2)\n",
    "print(rf_best_scores2.mean(), rf_best_scores2.std())\n",
    "\n",
    "rf_grid_cv2.best_params_"
   ]
  },
  {
   "cell_type": "markdown",
   "id": "3ef31a2d",
   "metadata": {},
   "source": [
    "\n",
    "\n",
    "It can be seen that the abalanced accuracy score for the tuned random forest is 65%, very similar to the tune decision tree and logistic regression. In the next step, we plot the feature importance to study effect of features."
   ]
  },
  {
   "cell_type": "markdown",
   "id": "12f56dc4",
   "metadata": {},
   "source": [
    "### 9.3.3. Feature importance assessment of random forest classifier <a class='anchor' id='firf'></a>\n",
    "\n"
   ]
  },
  {
   "cell_type": "markdown",
   "id": "91c752c2",
   "metadata": {},
   "source": [
    "Using rf_grid_cv2.best_estimator_.named_steps.randomforestclassifier.feature_importances_, we access the values and plot them"
   ]
  },
  {
   "cell_type": "code",
   "execution_count": 86,
   "id": "fe9ef818",
   "metadata": {},
   "outputs": [
    {
     "data": {
      "text/plain": [
       "Text(0, 0.5, 'Feature')"
      ]
     },
     "execution_count": 86,
     "metadata": {},
     "output_type": "execute_result"
    },
    {
     "data": {
      "image/png": "[encoded data removed]",
      "text/plain": [
       "<Figure size 864x576 with 1 Axes>"
      ]
     },
     "metadata": {
      "needs_background": "light"
     },
     "output_type": "display_data"
    }
   ],
   "source": [
    "# Plot feature importance for random forest\n",
    "\n",
    "model_features = pd.DataFrame(rf_grid_cv2.best_estimator_.named_steps.randomforestclassifier.feature_importances_.T)\n",
    "model_features.index = X.columns\n",
    "model_features.columns=['Importance']\n",
    "\n",
    "HO = model_features.loc['home_ownership_ANY':,:]\n",
    "HO = pd.DataFrame({'Importance': HO.mean()})\n",
    "HO.index = ['home_ownership']\n",
    "\n",
    "Emp = model_features.loc['emp_length_1 year':'emp_length_< 1 year', :]\n",
    "Emp = pd.DataFrame({'Importance': Emp.mean()})\n",
    "Emp.index = ['employment length']\n",
    "\n",
    "Sub = model_features.loc['sub_grade_A1':'sub_grade_G5', :]\n",
    "sub = pd.DataFrame({'Importance': Sub.mean()})\n",
    "sub.index = ['sub_grade']\n",
    "\n",
    "VS = model_features.loc['verification_status_Not Verified':'verification_status_Verified', :]\n",
    "vs = pd.DataFrame({'Importance': VS.mean()})\n",
    "vs.index = ['Verification status']\n",
    "\n",
    "term = pd.DataFrame({'Importance': model_features.loc['term_ 60 months',:]})\n",
    "term.index = ['term']\n",
    "\n",
    "model_features = pd.concat([model_features.loc[:'Credit Length (year)',:], term, HO, Emp, sub, vs])\n",
    "title = 'Feature importance for tuned random forest classifier'\n",
    "\n",
    "# Plot feature importance\n",
    "\n",
    "fig, ax=plt.subplots()\n",
    "model_features.sort_values(by='Importance').iloc[:, model_features.columns.get_loc('Importance')].plot(kind='barh', figsize=(12,8))\n",
    "ax.set_title(title)\n",
    "ax.set_xlabel('Coefficient')\n",
    "ax.set_ylabel('Feature')\n"
   ]
  },
  {
   "cell_type": "markdown",
   "id": "af16c7bb",
   "metadata": {},
   "source": [
    "\n",
    "\n",
    "For tuned random forest, the balanced accuracy score is 65%, very similar to logistic regression and decision tree.\n",
    "\n",
    "As shown in the plot,  _interest rate_, _loan term_(either it is 30 month or 60 month), _higher Fico score_ and _low Fico score_, _debt to income ratio_ , _number of mortages_, _funded amount_ and _installment_ are the most influential parameters.\n",
    "\n",
    "It is worth mentioning that the decision tree reached to almost similar conclusion in the previous section. In a decision tree classifier, the most influential parameters were interest rate, loan term(either it is 30 month or 60 month loan), number of mortages, debt to income ratio, installment, Low Fico score, revolving balance and high Fico score.  \n",
    "\n",
    "Furthermore, Among the parameters, _employment length_, number of _tax liens_, number of _collections_ and _charged off_ incidents within12 months prior to application have the lowest effect on classification."
   ]
  },
  {
   "cell_type": "markdown",
   "id": "96e3ab61",
   "metadata": {},
   "source": [
    "## 7.4. Gradient boosting classifier <a class='anchor' id='GB'></a>"
   ]
  },
  {
   "cell_type": "markdown",
   "id": "29474396",
   "metadata": {},
   "source": [
    "### 7.4.1. Make a pipeline for gradient boosting classifier <a class='anchor' id='plgb'></a>\n",
    "\n",
    "Using make_pipeline, a pipeline is created to train gradient boosting classifier. The sacler used is MinMaxScaler. This scaler gives 0 and to the minimum and maximum values of features, and scale the rest of values accordingly. Given that, there are columns with only 0 and 1 to represent categorical features, MinMaXScaler does not change these columns. Therefore, MinMaxScaler is chosen as the scaling method."
   ]
  },
  {
   "cell_type": "code",
   "execution_count": 715,
   "id": "f4842cab",
   "metadata": {
    "scrolled": true
   },
   "outputs": [
    {
     "name": "stdout",
     "output_type": "stream",
     "text": [
      "The new X has the columns added by One Hot Encoder, which has increased the number of columns from 23 to 74\n",
      "[12:59:45] WARNING: ..\\src\\learner.cc:1061: Starting in XGBoost 1.3.0, the default evaluation metric used with the objective 'binary:logistic' was changed from 'error' to 'logloss'. Explicitly set eval_metric if you'd like to restore the old behavior.\n",
      "[13:00:37] WARNING: ..\\src\\learner.cc:1061: Starting in XGBoost 1.3.0, the default evaluation metric used with the objective 'binary:logistic' was changed from 'error' to 'logloss'. Explicitly set eval_metric if you'd like to restore the old behavior.\n",
      "[13:01:28] WARNING: ..\\src\\learner.cc:1061: Starting in XGBoost 1.3.0, the default evaluation metric used with the objective 'binary:logistic' was changed from 'error' to 'logloss'. Explicitly set eval_metric if you'd like to restore the old behavior.\n",
      "[13:02:16] WARNING: ..\\src\\learner.cc:1061: Starting in XGBoost 1.3.0, the default evaluation metric used with the objective 'binary:logistic' was changed from 'error' to 'logloss'. Explicitly set eval_metric if you'd like to restore the old behavior.\n",
      "[13:03:04] WARNING: ..\\src\\learner.cc:1061: Starting in XGBoost 1.3.0, the default evaluation metric used with the objective 'binary:logistic' was changed from 'error' to 'logloss'. Explicitly set eval_metric if you'd like to restore the old behavior.\n",
      "[0.66305283 0.66296702 0.66204677 0.6617308  0.6636377 ]\n",
      "0.6626870245658015 0.0006986122228453284\n"
     ]
    }
   ],
   "source": [
    "y = df['Status']\n",
    "X = df.drop(columns=['Status', 'grade'])\n",
    "\n",
    "# Choose the categorical columns\n",
    "col_num =X.shape[1]\n",
    "categorical_columns_selector = selector(dtype_include=object)\n",
    "categorical_columns = categorical_columns_selector(X)\n",
    "\n",
    "# One Hot encode\n",
    "\n",
    "enc = OneHotEncoder(drop='if_binary')\n",
    "enc_df = pd.DataFrame(enc.fit_transform(X[categorical_columns]).toarray())\n",
    "feature_names = enc.get_feature_names(input_features=categorical_columns)\n",
    "enc_df.columns = feature_names\n",
    "X.drop(columns=categorical_columns, inplace=True)\n",
    "# merge with main df bridge_df on key values\n",
    "X =X.join(enc_df)\n",
    "#X.set_index('id', inplace=True)\n",
    "print('The new X has the columns added by One Hot Encoder, which has increased the number of columns from {} to {}'.format(col_num, X.shape[1]))\n",
    "\n",
    "# Undersample\n",
    "\n",
    "Xn = X.to_numpy()\n",
    "yn = y.to_numpy()\n",
    "random_state=42\n",
    "RU = RandomUnderSampler()\n",
    "X_res, y_res = RU.fit_resample(Xn,yn)\n",
    "\n",
    "# Split\n",
    "X_train, X_test, y_train, y_test = train_test_split(X_res, y_res, test_size=0.3, random_state=47)\n",
    "\n",
    "\n",
    "\n",
    "pipeXG = make_pipeline(MinMaxScaler(), XGBClassifier())\n",
    "\n",
    "cv_results = cross_validate(pipeXG, X_train, y_train, scoring = 'balanced_accuracy', cv=5)\n",
    "cv_scores = cv_results['test_score']\n",
    "\n",
    "print(cv_scores)\n",
    "print(cv_scores.mean(), cv_scores.std())"
   ]
  },
  {
   "cell_type": "markdown",
   "id": "9f51aa71",
   "metadata": {},
   "source": [
    "Gradient boosting model balanced accuracy score is 66%, which is highest among the models. Decision tree, logistic regression and random forest reached 65% accuracy after tuning."
   ]
  },
  {
   "cell_type": "markdown",
   "id": "d113a19a",
   "metadata": {},
   "source": [
    "### 7.4.2. Hyperparameter tuning for gradient boosting classifier <a class='anchor' id='gdgb'></a>\n",
    "\n",
    "There are several parameters to tune but given the constraints with computing power, only a small number of parameters are chosen."
   ]
  },
  {
   "cell_type": "code",
   "execution_count": 108,
   "id": "391a77d6",
   "metadata": {},
   "outputs": [
    {
     "name": "stdout",
     "output_type": "stream",
     "text": [
      "The new X has the columns added by One Hot Encoder, which has increased the number of columns from 23 to 74\n"
     ]
    },
    {
     "data": {
      "text/plain": [
       "GridSearchCV(cv=5,\n",
       "             estimator=Pipeline(steps=[('minmaxscaler', MinMaxScaler()),\n",
       "                                       ('xgbclassifier',\n",
       "                                        XGBClassifier(base_score=None,\n",
       "                                                      booster=None,\n",
       "                                                      colsample_bylevel=None,\n",
       "                                                      colsample_bynode=None,\n",
       "                                                      colsample_bytree=None,\n",
       "                                                      eval_metric='mlogloss',\n",
       "                                                      gamma=None, gpu_id=None,\n",
       "                                                      importance_type='gain',\n",
       "                                                      interaction_constraints=None,\n",
       "                                                      learning_rate=None,\n",
       "                                                      max_delta_step=None,\n",
       "                                                      max_depth=...\n",
       "                                                      missing=nan,\n",
       "                                                      monotone_constraints=None,\n",
       "                                                      n_estimators=100,\n",
       "                                                      n_jobs=None,\n",
       "                                                      num_parallel_tree=None,\n",
       "                                                      random_state=None,\n",
       "                                                      reg_alpha=None,\n",
       "                                                      reg_lambda=None,\n",
       "                                                      scale_pos_weight=None,\n",
       "                                                      subsample=None,\n",
       "                                                      tree_method=None,\n",
       "                                                      validate_parameters=None,\n",
       "                                                      verbosity=None))]),\n",
       "             param_grid={'xgbclassifier__learning_rate': [0.25, 0.2, 0.1],\n",
       "                         'xgbclassifier__max_depth': [3, 6, 9]},\n",
       "             scoring='balanced_accuracy')"
      ]
     },
     "execution_count": 108,
     "metadata": {},
     "output_type": "execute_result"
    }
   ],
   "source": [
    "y = df['Status']\n",
    "X = df.drop(columns=['Status', 'grade'])\n",
    "\n",
    "Xcol_names = X.columns\n",
    "ycol_name =['Status']\n",
    "categorical_columns_selector = selector(dtype_include=object)\n",
    "categorical_columns = categorical_columns_selector(X)\n",
    "\n",
    "# One Hot encode\n",
    "\n",
    "enc = OneHotEncoder(drop='if_binary')\n",
    "enc_df = pd.DataFrame(enc.fit_transform(X[categorical_columns]).toarray())\n",
    "feature_names = enc.get_feature_names(input_features=categorical_columns)\n",
    "enc_df.columns = feature_names\n",
    "X.drop(columns=categorical_columns, inplace=True)\n",
    "# merge with main df bridge_df on key values\n",
    "X =X.join(enc_df)\n",
    "#X.set_index('id', inplace=True)\n",
    "print('The new X has the columns added by One Hot Encoder, which has increased the number of columns from {} to {}'.format(col_num, X.shape[1]))\n",
    "\n",
    "# Undersample\n",
    "\n",
    "Xn = X.to_numpy()\n",
    "yn = y.to_numpy()\n",
    "random_state=42\n",
    "RU = RandomUnderSampler()\n",
    "X_res, y_res = RU.fit_resample(Xn,yn)\n",
    "\n",
    "# Split\n",
    "X_train, X_test, y_train, y_test = train_test_split(X_res, y_res, test_size=0.3, random_state=47)    \n",
    "\n",
    "pipeXG = make_pipeline(MinMaxScaler(), XGBClassifier(eval_metric='mlogloss'))\n",
    "\n",
    "parameters = {\n",
    "    'xgbclassifier__max_depth':[3, 6, 9],\n",
    "    'xgbclassifier__learning_rate': [0.25, 0.2, 0.1],\n",
    "    }\n",
    "grid_search_2 = GridSearchCV(pipeXG, param_grid= parameters, cv=5, scoring='balanced_accuracy')\n",
    "grid_search_2.fit(X_train,y_train)"
   ]
  },
  {
   "cell_type": "code",
   "execution_count": 109,
   "id": "e769f68c",
   "metadata": {},
   "outputs": [
    {
     "name": "stdout",
     "output_type": "stream",
     "text": [
      "{'xgbclassifier__learning_rate': 0.2, 'xgbclassifier__max_depth': 6}\n",
      "0.6626399135683985\n"
     ]
    }
   ],
   "source": [
    "print(grid_search_2.best_params_)\n",
    "print(grid_search_2.best_score_)"
   ]
  },
  {
   "cell_type": "markdown",
   "id": "e1e8b943",
   "metadata": {},
   "source": [
    "Hyperparameter tuning does not change the result significantly (.663 vs .662). "
   ]
  },
  {
   "cell_type": "code",
   "execution_count": 106,
   "id": "b8045cb1",
   "metadata": {},
   "outputs": [
    {
     "name": "stdout",
     "output_type": "stream",
     "text": [
      "[0.66283261 0.66206157 0.66765471 0.66456872 0.66414436]\n",
      "0.6642523926520695 0.0019236927157257626\n"
     ]
    }
   ],
   "source": [
    "pipeXGbest = make_pipeline(MinMaxScaler(), XGBClassifier(learning_rate= 0.2, max_depth= 6, eval_metric='mlogloss'))\n",
    "\n",
    "cv_results = cross_validate(pipeXGbest, X_train, y_train, scoring = 'balanced_accuracy', cv=5)\n",
    "cv_scores = cv_results['test_score']\n",
    "\n",
    "print(cv_scores)\n",
    "print(cv_scores.mean(), cv_scores.std())\n"
   ]
  },
  {
   "cell_type": "code",
   "execution_count": 111,
   "id": "33e863c1",
   "metadata": {},
   "outputs": [
    {
     "name": "stdout",
     "output_type": "stream",
     "text": [
      "{'xgbclassifier__learning_rate': 0.2, 'xgbclassifier__max_depth': 6}\n",
      "0.6626399135683985\n"
     ]
    }
   ],
   "source": [
    "# Print best parameters and results\n",
    "print(grid_search_2.best_params_)\n",
    "print(grid_search_2.best_score_)"
   ]
  },
  {
   "cell_type": "markdown",
   "id": "25fa1928",
   "metadata": {},
   "source": [
    "### 9.4.3. Gradient boosting feature importance assessment <a class='anchor' id='figb'></a>"
   ]
  },
  {
   "cell_type": "code",
   "execution_count": 87,
   "id": "7c415fdf",
   "metadata": {},
   "outputs": [
    {
     "data": {
      "text/plain": [
       "Text(0, 0.5, 'Feature')"
      ]
     },
     "execution_count": 87,
     "metadata": {},
     "output_type": "execute_result"
    },
    {
     "data": {
      "image/png": "[encoded data removed]",
      "text/plain": [
       "<Figure size 864x576 with 1 Axes>"
      ]
     },
     "metadata": {
      "needs_background": "light"
     },
     "output_type": "display_data"
    }
   ],
   "source": [
    "model_features = pd.DataFrame(pipeXGbest.named_steps['xgbclassifier'].feature_importances_.T)\n",
    "model_features.index = X.columns\n",
    "model_features.columns=['Importance']\n",
    "\n",
    "HO = model_features.loc['home_ownership_ANY':,:]\n",
    "HO = pd.DataFrame({'Importance': HO.mean()})\n",
    "HO.index = ['home_ownership']\n",
    "\n",
    "Emp = model_features.loc['emp_length_1 year':'emp_length_< 1 year', :]\n",
    "Emp = pd.DataFrame({'Importance': Emp.mean()})\n",
    "Emp.index = ['employment length']\n",
    "\n",
    "Sub = model_features.loc['sub_grade_A1':'sub_grade_G5', :]\n",
    "sub = pd.DataFrame({'Importance': Sub.mean()})\n",
    "sub.index = ['sub_grade']\n",
    "\n",
    "VS = model_features.loc['verification_status_Not Verified':'verification_status_Verified', :]\n",
    "vs = pd.DataFrame({'Importance': VS.mean()})\n",
    "vs.index = ['Verification status']\n",
    "\n",
    "term = pd.DataFrame({'Importance': model_features.loc['term_ 60 months',:]})\n",
    "term.index = ['term']\n",
    "\n",
    "model_features = pd.concat([model_features.loc[:'Credit Length (year)',:], term, HO, Emp, sub, vs])\n",
    "title = 'Feature importance for tuned gradient boosting classifier'\n",
    "\n",
    "# Plot feature importance\n",
    "\n",
    "fig, ax=plt.subplots()\n",
    "model_features.sort_values(by='Importance').iloc[:, model_features.columns.get_loc('Importance')].plot(kind='barh', figsize=(12,8))\n",
    "ax.set_title(title)\n",
    "ax.set_xlabel('Coefficient')\n",
    "ax.set_ylabel('Feature')"
   ]
  },
  {
   "cell_type": "markdown",
   "id": "08189861",
   "metadata": {},
   "source": [
    "According to the balanced accuracy score, gradient boosting is slightly better than previous models. The balanced accuracy score is 67%.\n",
    "\n",
    "According to the feature importance plot, _interest rate_, _term_, the number of _mortage accounts_ , followed by _high Fico score_, _funded amount_, -home ownership_, _debt to income ratio_ and income _verification status_  are the most influential parameters in the classification. _interset rate_ and _term_ have more significant effect compared to other parameters.\n",
    "\n",
    "Among the parameters, _low Fico score_ has the lowest effect on classification."
   ]
  },
  {
   "cell_type": "markdown",
   "id": "94e4c07c",
   "metadata": {},
   "source": [
    "# 8. Final model selection <a class='anchor' id='select'><a/>\n",
    "    \n",
    "We first define a function to plot the confussion matrix. Then we apply each model separately on the test data, read the balanced accuracy score, print the classification report and plot the confusion matrix."
   ]
  },
  {
   "cell_type": "code",
   "execution_count": 49,
   "id": "10c97c2a",
   "metadata": {},
   "outputs": [],
   "source": [
    "def plot_confusion_matrix(cm, title='Confusion matrix', cmap=plt.cm.Blues):\n",
    "    \"\"\"\n",
    "    This function prints and plots the confusion matrix.\n",
    "    \"\"\"\n",
    "    classes = ['Default', 'Fully Paid']\n",
    "    plt.imshow(cm, interpolation='nearest', cmap=cmap)\n",
    "    plt.title(title)\n",
    "    plt.colorbar()\n",
    "    tick_marks = np.arange(len(classes))\n",
    "    plt.xticks(tick_marks, classes, rotation=45)\n",
    "    plt.yticks(tick_marks, classes)\n",
    "\n",
    "    fmt = 'd' \n",
    "    thresh = cm.max() / 2.\n",
    "    for i, j in itertools.product(range(cm.shape[0]), range(cm.shape[1])):\n",
    "        plt.text(j, i, format(cm[i, j], fmt),\n",
    "                 horizontalalignment=\"center\",\n",
    "                 color=\"white\" if cm[i, j] > thresh else \"black\")\n",
    "\n",
    "    plt.ylabel('True label')\n",
    "    plt.xlabel('Predicted label')\n",
    "    plt.tight_layout()"
   ]
  },
  {
   "cell_type": "markdown",
   "id": "219592e0",
   "metadata": {},
   "source": [
    "In order to choose the best model, we looked at models' balanced accuracy score on the training set."
   ]
  },
  {
   "cell_type": "code",
   "execution_count": 99,
   "id": "592f1d37",
   "metadata": {},
   "outputs": [
    {
     "data": {
      "text/html": [
       "<div>\n",
       "<style scoped>\n",
       "    .dataframe tbody tr th:only-of-type {\n",
       "        vertical-align: middle;\n",
       "    }\n",
       "\n",
       "    .dataframe tbody tr th {\n",
       "        vertical-align: top;\n",
       "    }\n",
       "\n",
       "    .dataframe thead th {\n",
       "        text-align: right;\n",
       "    }\n",
       "</style>\n",
       "<table border=\"1\" class=\"dataframe\">\n",
       "  <thead>\n",
       "    <tr style=\"text-align: right;\">\n",
       "      <th></th>\n",
       "      <th>Logistic regression</th>\n",
       "      <th>Decision tree</th>\n",
       "      <th>Random forest</th>\n",
       "      <th>XGBoost</th>\n",
       "    </tr>\n",
       "  </thead>\n",
       "  <tbody>\n",
       "    <tr>\n",
       "      <th>Mean</th>\n",
       "      <td>0.6533</td>\n",
       "      <td>0.6481</td>\n",
       "      <td>0.6532</td>\n",
       "      <td>0.6627</td>\n",
       "    </tr>\n",
       "    <tr>\n",
       "      <th>Standard deviation</th>\n",
       "      <td>0.0012</td>\n",
       "      <td>0.0019</td>\n",
       "      <td>0.0018</td>\n",
       "      <td>0.0007</td>\n",
       "    </tr>\n",
       "  </tbody>\n",
       "</table>\n",
       "</div>"
      ],
      "text/plain": [
       "                    Logistic regression  Decision tree  Random forest  XGBoost\n",
       "Mean                             0.6533         0.6481         0.6532   0.6627\n",
       "Standard deviation               0.0012         0.0019         0.0018   0.0007"
      ]
     },
     "execution_count": 99,
     "metadata": {},
     "output_type": "execute_result"
    }
   ],
   "source": [
    "Score_result = pd.DataFrame({'Logistic regression': [0.6533, .0012], 'Decision tree': [0.6481, 0.0019], \"Random forest\": [.6532, .0018], \"XGBoost\": [.6627, .0007]})\n",
    "Score_result.index = ['Mean', 'Standard deviation']\n",
    "Score_result"
   ]
  },
  {
   "cell_type": "markdown",
   "id": "c905cb05",
   "metadata": {},
   "source": [
    "Based on the above table, XGBoost performs slightly better and we choose it as our predictive model. In the next step, we use the selected model on our test data and plot the confussion matrix and will print the classification report."
   ]
  },
  {
   "cell_type": "code",
   "execution_count": 71,
   "id": "081b5b57",
   "metadata": {},
   "outputs": [
    {
     "name": "stdout",
     "output_type": "stream",
     "text": [
      "XGBoost balanced accuracy score for the test data is:  0.6630322341303667\n"
     ]
    }
   ],
   "source": [
    "xg_y_pred = pipeXGbest.predict(X_test)\n",
    "\n",
    "print('XGBoost balanced accuracy score for the test data is: ', balanced_accuracy_score(y_test, xg_y_pred))"
   ]
  },
  {
   "cell_type": "code",
   "execution_count": 90,
   "id": "e816aacc",
   "metadata": {},
   "outputs": [
    {
     "name": "stdout",
     "output_type": "stream",
     "text": [
      "              precision    recall  f1-score   support\n",
      "\n",
      "     Default       0.66      0.69      0.67     78117\n",
      "  Fully Paid       0.67      0.64      0.65     78184\n",
      "\n",
      "    accuracy                           0.66    156301\n",
      "   macro avg       0.66      0.66      0.66    156301\n",
      "weighted avg       0.66      0.66      0.66    156301\n",
      "\n"
     ]
    }
   ],
   "source": [
    "xg_y_pred =pd.Series(xg_y_pred)\n",
    "print(classification_report(y_test, xg_y_pred))"
   ]
  },
  {
   "cell_type": "code",
   "execution_count": 73,
   "id": "8e921ec5",
   "metadata": {},
   "outputs": [
    {
     "data": {
      "image/png": "[encoded data removed]",
      "text/plain": [
       "<Figure size 432x288 with 2 Axes>"
      ]
     },
     "metadata": {
      "needs_background": "light"
     },
     "output_type": "display_data"
    }
   ],
   "source": [
    "# Plot confusion matrix for selected model: XGBoost\n",
    "\n",
    "confusion_matrix_xg = confusion_matrix(xg_y_pred, y_test)\n",
    "plot_confusion_matrix(confusion_matrix_xg)"
   ]
  },
  {
   "cell_type": "markdown",
   "id": "8fceb42f",
   "metadata": {},
   "source": [
    "## 8.5. Discussion <a class='anchor' id='disc'><a/>\n",
    "    \n",
    "    \n",
    "XGBoost performs slightly better. Its balanced accuracy is 66% versus 65% balanced accuracy of decision tree, logistic regression and random forest classifiers. Comaring f1-score, XGboost reaches 67% versus (decision tree, 64%) and (logistic regression 65%)."
   ]
  },
  {
   "cell_type": "markdown",
   "id": "9ce61cb6",
   "metadata": {},
   "source": [
    "# 9 Save the best model <a class='anchor' id='save_model'><a/>\n",
    "    \n",
    "We save the model to be able to use it for later."
   ]
  },
  {
   "cell_type": "code",
   "execution_count": 83,
   "id": "7798cae2",
   "metadata": {},
   "outputs": [],
   "source": [
    "\n",
    "best_model = pipeXGbest.named_steps.xgbclassifier\n",
    "best_model.version = '1.0'\n",
    "best_model.X_columns = [col for col in X_train.columns]\n",
    "best_model.build_datetime = datetime.datetime.now()\n",
    "\n",
    "\n",
    "with open('XGBoost_model', 'wb') as file:\n",
    "    pickle.dump(best_model,file)"
   ]
  },
  {
   "cell_type": "markdown",
   "id": "652d1309",
   "metadata": {},
   "source": [
    "# 10. Summary <a class='anchor' id='discussion'><a/>"
   ]
  },
  {
   "cell_type": "markdown",
   "id": "e49119ec",
   "metadata": {},
   "source": [
    "In this notebook a predictive model was developed to predict loan default. Following steps were performed: \n",
    "\n",
    "1. There is 22% default in the data. Therefore, to overcome imbalanced data, undersampling was applied.\n",
    "\n",
    "2. To reach an optimum model, the data was separated into training and test sets and four classifiers were applied to the training data.\n",
    "\n",
    "3. For each model training cross validation with 5 folds was applied to prevent overfitting.\n",
    "\n",
    "\n",
    "4. In each model training, a pipeline including scaling and modeling steps was created and by using GridSearchCV, hyperparameters were tuned. \n",
    "\n",
    "5. Feature importance analysis was done.\n",
    "\n",
    "6. Trained models were used to predict the result of the testing data set. \n",
    "\n",
    "__Results__:\n",
    "\n",
    "\n",
    "All models reached to almost same balanced accuracy score of about %65. XGBoost reached 67% accuracy.\n",
    "\n",
    "1. For the __logistic regression__, the balanced accuracy score was 65%. The number of _mortage accounts_ and amount of _revoling balance_ followed by number of _collections_ and _installment_ amount are the most influential factors. Furthermore, the _sub grade_, _employment length_ and _home ownership_ has very little effect on logistic regression classification result.\n",
    "\n",
    "\n",
    "2. For the __decision tree__,  the balanced accuracy was 65% and _interest rate_, _loan term_ (either 30 month or 60 month), _number of mortages_, _debt to income ratio_, _installment_, _high Fico score_, _revolving balance_ and _low Fico score_ are the most influential parameters in decision tree classifier. __Interest rate__ has a more significant effect than the other parameters. Furthermore,_sub grade_,number of _tax liens_, _bank ruptcies_, _employment length_, number of _collections_ and _charged off_ incidents within12 months prior to application have the lowest effect on classification.\n",
    "\n",
    "\n",
    "3. For the __random forest__, the balanced accuracy score was 66% and interest rate, loan term(either it is 30 month or 60 month), higher Fico score and low Fico score, debt to income ratio , number of mortages, funded amount and installment are the most influential parameters. Furthermore, Among the parameters, _employment length_, number of _tax liens_, number of _collections_ and _charged off_ incidents within12 months prior to application have the lowest effect on classification. It is worth mentioning that the decision tree and random forest reached to almost similar feature importance\n",
    "\n",
    "\n",
    "4. For the __gradient boosting__ The balanced accuracy score was 67% and _interest rate_, _loan term_, the number of _mortage accounts_ , followed by _high Fico score_, _funded amount_, _home ownership_, _debt to income ratio_ and _income verification status_ are the most influential parameters in the classification. interset rate and term have more significant effect compared to other parameters. _Low Fico score_ has the lowest effect on classification.\n",
    "\n",
    "\n",
    "5. Except for logistic regression, the three other models found _loan term_ and _interest rate_ very influential in classification. Exept for gradient boosting, the three other models found effects of _employment length_, number of _tax liens_, number of _collections_ and _charged off_ incidents within 12 month prior to application insignificant. \n",
    "\n",
    "\n",
    "6. To choose our predictive model, we compared results of the modelong on the training data set. 4 models results were almost similar with XGBosst slightly better. Therefore, We selected XGBoost.\n",
    "\n",
    "\n",
    "7. When XGBoost, the selected model was applied to the test data, it resulted in similar similar score of the training data set. \n",
    "\n",
    "\n",
    "__Business implication__\n",
    "\n",
    "Our model shows that a loan _interest rate_ and its _term_, number of _mortages_ an applicant has and his/her _fico score_ are determental factors in fate of a loan. The first two terms are decided on by the Lending Club based on applicant's information. The last two terms -the applicant's fico score and the number of mortages he/she has- are both indicative of the applicant's credit history. However, we should note that Lending Club asks for several pices of information about an applicant's credit history, These items are:\n",
    "Credit length\n",
    "Number of collections\n",
    "Number of Tax liens\n",
    "Number of bankruptcies\n",
    "Number of revolving account\n",
    "Amount of revolving balance\n",
    "Number of open accounts\n",
    "Credit limit and utilization rate\n",
    "Fico score\n",
    "Number of mortages\n",
    "\n",
    "Our model indicates that only Fico score and number of mortages are effective factors. Furthermore, other factors such as employment length, annual income and home ownership are not important in fate of a loan. Therefore, Lending Club can save money by avoiding collecting uneffective information.\n",
    "\n",
    "\n",
    "\n"
   ]
  },
  {
   "cell_type": "code",
   "execution_count": null,
   "id": "95dc7878",
   "metadata": {},
   "outputs": [],
   "source": []
  }
 ],
 "metadata": {
  "kernelspec": {
   "display_name": "Python 3",
   "language": "python",
   "name": "python3"
  },
  "language_info": {
   "codemirror_mode": {
    "name": "ipython",
    "version": 3
   },
   "file_extension": ".py",
   "mimetype": "text/x-python",
   "name": "python",
   "nbconvert_exporter": "python",
   "pygments_lexer": "ipython3",
   "version": "3.8.8"
  }
 },
 "nbformat": 4,
 "nbformat_minor": 5
}
